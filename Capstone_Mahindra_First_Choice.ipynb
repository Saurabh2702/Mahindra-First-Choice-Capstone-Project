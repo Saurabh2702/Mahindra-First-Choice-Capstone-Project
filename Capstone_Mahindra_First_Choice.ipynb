{
 "cells": [
  {
   "cell_type": "code",
   "execution_count": 1,
   "metadata": {
    "colab": {},
    "colab_type": "code",
    "id": "ijiRV1yciq_5"
   },
   "outputs": [],
   "source": [
    "import pandas as pd\n",
    "import numpy as np\n",
    "import os"
   ]
  },
  {
   "cell_type": "markdown",
   "metadata": {
    "colab_type": "text",
    "id": "RP-Ew7HwbmCa"
   },
   "source": [
    "## Load Plant data \n",
    "**remove duplicate and null columns.**"
   ]
  },
  {
   "cell_type": "code",
   "execution_count": 2,
   "metadata": {},
   "outputs": [
    {
     "data": {
      "text/plain": [
       "['.ipynb_checkpoints',\n",
       " 'Capstone ppt.pptx',\n",
       " 'Capstone_Mahindra_First_Choice.ipynb',\n",
       " 'Customer_Data.xlsx',\n",
       " 'Final_Invoice.csv',\n",
       " 'JTD.csv',\n",
       " 'Mahindra Capstone.pdf',\n",
       " 'Plant_Master.xlsx',\n",
       " 'README.md']"
      ]
     },
     "execution_count": 2,
     "metadata": {},
     "output_type": "execute_result"
    }
   ],
   "source": [
    "os.listdir()"
   ]
  },
  {
   "cell_type": "code",
   "execution_count": 3,
   "metadata": {
    "colab": {},
    "colab_type": "code",
    "id": "8N057FhYjY3K"
   },
   "outputs": [],
   "source": [
    "plant_full_data = pd.read_excel('Plant_Master.xlsx')"
   ]
  },
  {
   "cell_type": "code",
   "execution_count": 4,
   "metadata": {
    "colab": {
     "base_uri": "https://localhost:8080/",
     "height": 0
    },
    "colab_type": "code",
    "id": "yEPSpLibktkQ",
    "outputId": "89ac8610-718a-4b0f-c95b-021e42b47230"
   },
   "outputs": [
    {
     "data": {
      "text/html": [
       "<div>\n",
       "<style scoped>\n",
       "    .dataframe tbody tr th:only-of-type {\n",
       "        vertical-align: middle;\n",
       "    }\n",
       "\n",
       "    .dataframe tbody tr th {\n",
       "        vertical-align: top;\n",
       "    }\n",
       "\n",
       "    .dataframe thead th {\n",
       "        text-align: right;\n",
       "    }\n",
       "</style>\n",
       "<table border=\"1\" class=\"dataframe\">\n",
       "  <thead>\n",
       "    <tr style=\"text-align: right;\">\n",
       "      <th></th>\n",
       "      <th>Plant</th>\n",
       "      <th>Name 1</th>\n",
       "      <th>Valuation Area</th>\n",
       "      <th>Customer no. - plant</th>\n",
       "      <th>Vendor number plant</th>\n",
       "      <th>Factory calendar</th>\n",
       "      <th>Name 2</th>\n",
       "      <th>House number and street</th>\n",
       "      <th>PO Box</th>\n",
       "      <th>Postal Code</th>\n",
       "      <th>City</th>\n",
       "      <th>Sales organization</th>\n",
       "      <th>State</th>\n",
       "    </tr>\n",
       "  </thead>\n",
       "  <tbody>\n",
       "    <tr>\n",
       "      <th>0</th>\n",
       "      <td>BC07</td>\n",
       "      <td>NERKUNDRAM</td>\n",
       "      <td>BC07</td>\n",
       "      <td>PLBC07</td>\n",
       "      <td>PLBC07</td>\n",
       "      <td>IN</td>\n",
       "      <td>NaN</td>\n",
       "      <td>No.117 Poonamallee High Road,</td>\n",
       "      <td>600107.0</td>\n",
       "      <td>600107</td>\n",
       "      <td>Chennai</td>\n",
       "      <td>MFCS</td>\n",
       "      <td>Tamil Nadu</td>\n",
       "    </tr>\n",
       "    <tr>\n",
       "      <th>1</th>\n",
       "      <td>BC30</td>\n",
       "      <td>SAS NAGAR - MOHALI</td>\n",
       "      <td>BC30</td>\n",
       "      <td>PLBC30</td>\n",
       "      <td>PLBC30</td>\n",
       "      <td>IN</td>\n",
       "      <td>NaN</td>\n",
       "      <td>C-118, Phase 07,</td>\n",
       "      <td>160055.0</td>\n",
       "      <td>160055</td>\n",
       "      <td>Mohali</td>\n",
       "      <td>MFCS</td>\n",
       "      <td>Punjab</td>\n",
       "    </tr>\n",
       "    <tr>\n",
       "      <th>2</th>\n",
       "      <td>X001</td>\n",
       "      <td>X001 - AUTO PLANET WHEELS</td>\n",
       "      <td>X001</td>\n",
       "      <td>PLX001</td>\n",
       "      <td>NaN</td>\n",
       "      <td>IN</td>\n",
       "      <td>Thane</td>\n",
       "      <td>Unit No.3, Kothari Compound,</td>\n",
       "      <td>400610.0</td>\n",
       "      <td>400610</td>\n",
       "      <td>Thane</td>\n",
       "      <td>MFCA</td>\n",
       "      <td>Maharashtra</td>\n",
       "    </tr>\n",
       "    <tr>\n",
       "      <th>3</th>\n",
       "      <td>X002</td>\n",
       "      <td>X002 - BHANDARI INDUSTRIES PVT</td>\n",
       "      <td>X002</td>\n",
       "      <td>PLX002</td>\n",
       "      <td>NaN</td>\n",
       "      <td>IN</td>\n",
       "      <td>Ghaziabad</td>\n",
       "      <td>18/1, C Site 4, Sahibabad</td>\n",
       "      <td>201010.0</td>\n",
       "      <td>201010</td>\n",
       "      <td>Ghaziabad</td>\n",
       "      <td>MFCA</td>\n",
       "      <td>Uttar Pradesh</td>\n",
       "    </tr>\n",
       "    <tr>\n",
       "      <th>4</th>\n",
       "      <td>X003</td>\n",
       "      <td>X003 - Om Sri Satya Sai Automo</td>\n",
       "      <td>X003</td>\n",
       "      <td>PLX003</td>\n",
       "      <td>NaN</td>\n",
       "      <td>IN</td>\n",
       "      <td>Bengaluru</td>\n",
       "      <td>#75, Sy.No. 83/2, Panathur Mai</td>\n",
       "      <td>560087.0</td>\n",
       "      <td>560087</td>\n",
       "      <td>Bengaluru</td>\n",
       "      <td>MFCB</td>\n",
       "      <td>Karnataka</td>\n",
       "    </tr>\n",
       "  </tbody>\n",
       "</table>\n",
       "</div>"
      ],
      "text/plain": [
       "  Plant                          Name 1 Valuation Area Customer no. - plant  \\\n",
       "0  BC07                      NERKUNDRAM           BC07               PLBC07   \n",
       "1  BC30              SAS NAGAR - MOHALI           BC30               PLBC30   \n",
       "2  X001       X001 - AUTO PLANET WHEELS           X001               PLX001   \n",
       "3  X002  X002 - BHANDARI INDUSTRIES PVT           X002               PLX002   \n",
       "4  X003  X003 - Om Sri Satya Sai Automo           X003               PLX003   \n",
       "\n",
       "  Vendor number plant Factory calendar     Name 2  \\\n",
       "0              PLBC07               IN        NaN   \n",
       "1              PLBC30               IN        NaN   \n",
       "2                 NaN               IN      Thane   \n",
       "3                 NaN               IN  Ghaziabad   \n",
       "4                 NaN               IN  Bengaluru   \n",
       "\n",
       "          House number and street    PO Box  Postal Code       City  \\\n",
       "0   No.117 Poonamallee High Road,  600107.0       600107    Chennai   \n",
       "1                C-118, Phase 07,  160055.0       160055     Mohali   \n",
       "2    Unit No.3, Kothari Compound,  400610.0       400610      Thane   \n",
       "3       18/1, C Site 4, Sahibabad  201010.0       201010  Ghaziabad   \n",
       "4  #75, Sy.No. 83/2, Panathur Mai  560087.0       560087  Bengaluru   \n",
       "\n",
       "  Sales organization          State  \n",
       "0               MFCS     Tamil Nadu  \n",
       "1               MFCS         Punjab  \n",
       "2               MFCA    Maharashtra  \n",
       "3               MFCA  Uttar Pradesh  \n",
       "4               MFCB      Karnataka  "
      ]
     },
     "execution_count": 4,
     "metadata": {},
     "output_type": "execute_result"
    }
   ],
   "source": [
    "plant_full_data.head()"
   ]
  },
  {
   "cell_type": "code",
   "execution_count": 5,
   "metadata": {
    "colab": {
     "base_uri": "https://localhost:8080/",
     "height": 0
    },
    "colab_type": "code",
    "id": "R21BLM_DacpH",
    "outputId": "0cbdb06b-62db-4da2-b00c-02f5447701a9"
   },
   "outputs": [
    {
     "data": {
      "text/plain": [
       "Plant                        0\n",
       "Name 1                       0\n",
       "Valuation Area               0\n",
       "Customer no. - plant         0\n",
       "Vendor number plant        436\n",
       "Factory calendar             0\n",
       "Name 2                       2\n",
       "House number and street      2\n",
       "PO Box                       1\n",
       "Postal Code                  0\n",
       "City                         0\n",
       "Sales organization           5\n",
       "State                        0\n",
       "dtype: int64"
      ]
     },
     "execution_count": 5,
     "metadata": {},
     "output_type": "execute_result"
    }
   ],
   "source": [
    "plant_full_data.isnull().sum()"
   ]
  },
  {
   "cell_type": "code",
   "execution_count": 6,
   "metadata": {
    "colab": {
     "base_uri": "https://localhost:8080/",
     "height": 0
    },
    "colab_type": "code",
    "id": "kg1VM_-RaikQ",
    "outputId": "cc8314f4-8c7a-47c2-fb46-f54abfa14a95"
   },
   "outputs": [
    {
     "data": {
      "text/plain": [
       "(438, 13)"
      ]
     },
     "execution_count": 6,
     "metadata": {},
     "output_type": "execute_result"
    }
   ],
   "source": [
    "plant_full_data.shape"
   ]
  },
  {
   "cell_type": "markdown",
   "metadata": {
    "colab_type": "text",
    "id": "BrLsb6wLc6tK"
   },
   "source": [
    "**Drop columns=['Vendor number plant', 'Valuation Area', 'Factory calendar', 'Name 2', 'House number and street', 'PO Box', 'Sales organization']**"
   ]
  },
  {
   "cell_type": "code",
   "execution_count": 7,
   "metadata": {
    "colab": {},
    "colab_type": "code",
    "id": "xiOmysjbam9V"
   },
   "outputs": [],
   "source": [
    "plant = plant_full_data.drop(columns=['Vendor number plant', 'Valuation Area', 'Factory calendar', 'Name 2', 'House number and street', 'PO Box', 'Sales organization', 'Customer no. - plant'])"
   ]
  },
  {
   "cell_type": "code",
   "execution_count": 8,
   "metadata": {
    "colab": {
     "base_uri": "https://localhost:8080/",
     "height": 0
    },
    "colab_type": "code",
    "id": "x-g1ppOOavsV",
    "outputId": "0d16f904-c016-4c74-f692-5d812781f7e2"
   },
   "outputs": [
    {
     "data": {
      "text/plain": [
       "(438, 5)"
      ]
     },
     "execution_count": 8,
     "metadata": {},
     "output_type": "execute_result"
    }
   ],
   "source": [
    "plant.shape"
   ]
  },
  {
   "cell_type": "code",
   "execution_count": 9,
   "metadata": {
    "colab": {
     "base_uri": "https://localhost:8080/",
     "height": 0
    },
    "colab_type": "code",
    "id": "fxctlvb1dMy5",
    "outputId": "aee296d1-12c3-4d04-d8cb-027c29419fed"
   },
   "outputs": [
    {
     "data": {
      "text/plain": [
       "Plant          0\n",
       "Name 1         0\n",
       "Postal Code    0\n",
       "City           0\n",
       "State          0\n",
       "dtype: int64"
      ]
     },
     "execution_count": 9,
     "metadata": {},
     "output_type": "execute_result"
    }
   ],
   "source": [
    "plant.isnull().sum()"
   ]
  },
  {
   "cell_type": "markdown",
   "metadata": {
    "colab_type": "text",
    "id": "xVqML_yzdr1o"
   },
   "source": [
    "## Read Customer Data. \n",
    "**Remove Duplicate and Missing values columns**."
   ]
  },
  {
   "cell_type": "code",
   "execution_count": 10,
   "metadata": {
    "colab": {
     "base_uri": "https://localhost:8080/",
     "height": 0
    },
    "colab_type": "code",
    "id": "Ae7b-ddplUqh",
    "outputId": "e1bb3eef-ea45-42b8-9785-09e00abc5bcc"
   },
   "outputs": [],
   "source": [
    "customer_full_data = pd.read_excel('Customer_Data.xlsx')"
   ]
  },
  {
   "cell_type": "code",
   "execution_count": 11,
   "metadata": {
    "colab": {
     "base_uri": "https://localhost:8080/",
     "height": 0
    },
    "colab_type": "code",
    "id": "pzB4RwgXlxrM",
    "outputId": "a211e8c0-7369-418d-ff3d-c453bdcd3f6f"
   },
   "outputs": [
    {
     "data": {
      "text/html": [
       "<div>\n",
       "<style scoped>\n",
       "    .dataframe tbody tr th:only-of-type {\n",
       "        vertical-align: middle;\n",
       "    }\n",
       "\n",
       "    .dataframe tbody tr th {\n",
       "        vertical-align: top;\n",
       "    }\n",
       "\n",
       "    .dataframe thead th {\n",
       "        text-align: right;\n",
       "    }\n",
       "</style>\n",
       "<table border=\"1\" class=\"dataframe\">\n",
       "  <thead>\n",
       "    <tr style=\"text-align: right;\">\n",
       "      <th></th>\n",
       "      <th>Business Partner</th>\n",
       "      <th>Customer No.</th>\n",
       "      <th>Partner Type</th>\n",
       "      <th>Data Origin</th>\n",
       "      <th>Title</th>\n",
       "      <th>Marital Status</th>\n",
       "      <th>Occupation</th>\n",
       "      <th>Date of Birth</th>\n",
       "      <th>Death date</th>\n",
       "    </tr>\n",
       "  </thead>\n",
       "  <tbody>\n",
       "    <tr>\n",
       "      <th>0</th>\n",
       "      <td>31</td>\n",
       "      <td>1</td>\n",
       "      <td>1.0</td>\n",
       "      <td>Z001</td>\n",
       "      <td>NaN</td>\n",
       "      <td>NaN</td>\n",
       "      <td>NaN</td>\n",
       "      <td>NaN</td>\n",
       "      <td>NaT</td>\n",
       "    </tr>\n",
       "    <tr>\n",
       "      <th>1</th>\n",
       "      <td>32</td>\n",
       "      <td>2</td>\n",
       "      <td>1.0</td>\n",
       "      <td>Z005</td>\n",
       "      <td>NaN</td>\n",
       "      <td>NaN</td>\n",
       "      <td>NaN</td>\n",
       "      <td>NaN</td>\n",
       "      <td>NaT</td>\n",
       "    </tr>\n",
       "    <tr>\n",
       "      <th>2</th>\n",
       "      <td>34</td>\n",
       "      <td>4</td>\n",
       "      <td>1.0</td>\n",
       "      <td>Z005</td>\n",
       "      <td>NaN</td>\n",
       "      <td>2.0</td>\n",
       "      <td>NaN</td>\n",
       "      <td>NaN</td>\n",
       "      <td>NaT</td>\n",
       "    </tr>\n",
       "    <tr>\n",
       "      <th>3</th>\n",
       "      <td>35</td>\n",
       "      <td>5</td>\n",
       "      <td>1.0</td>\n",
       "      <td>Z005</td>\n",
       "      <td>NaN</td>\n",
       "      <td>NaN</td>\n",
       "      <td>NaN</td>\n",
       "      <td>NaN</td>\n",
       "      <td>NaT</td>\n",
       "    </tr>\n",
       "    <tr>\n",
       "      <th>4</th>\n",
       "      <td>42</td>\n",
       "      <td>7</td>\n",
       "      <td>1.0</td>\n",
       "      <td>Z008</td>\n",
       "      <td>NaN</td>\n",
       "      <td>NaN</td>\n",
       "      <td>NaN</td>\n",
       "      <td>NaN</td>\n",
       "      <td>NaT</td>\n",
       "    </tr>\n",
       "  </tbody>\n",
       "</table>\n",
       "</div>"
      ],
      "text/plain": [
       "  Business Partner Customer No.  Partner Type Data Origin  Title  \\\n",
       "0               31            1           1.0        Z001    NaN   \n",
       "1               32            2           1.0        Z005    NaN   \n",
       "2               34            4           1.0        Z005    NaN   \n",
       "3               35            5           1.0        Z005    NaN   \n",
       "4               42            7           1.0        Z008    NaN   \n",
       "\n",
       "   Marital Status  Occupation Date of Birth Death date  \n",
       "0             NaN         NaN           NaN        NaT  \n",
       "1             NaN         NaN           NaN        NaT  \n",
       "2             2.0         NaN           NaN        NaT  \n",
       "3             NaN         NaN           NaN        NaT  \n",
       "4             NaN         NaN           NaN        NaT  "
      ]
     },
     "execution_count": 11,
     "metadata": {},
     "output_type": "execute_result"
    }
   ],
   "source": [
    "customer_full_data.head()"
   ]
  },
  {
   "cell_type": "code",
   "execution_count": 12,
   "metadata": {
    "colab": {
     "base_uri": "https://localhost:8080/",
     "height": 0
    },
    "colab_type": "code",
    "id": "m9o7xFETe5OI",
    "outputId": "c3ea61e3-0115-4540-d52e-97e4201f2d56"
   },
   "outputs": [
    {
     "data": {
      "text/plain": [
       "(555338, 9)"
      ]
     },
     "execution_count": 12,
     "metadata": {},
     "output_type": "execute_result"
    }
   ],
   "source": [
    "customer_full_data.shape"
   ]
  },
  {
   "cell_type": "code",
   "execution_count": 13,
   "metadata": {
    "colab": {
     "base_uri": "https://localhost:8080/",
     "height": 0
    },
    "colab_type": "code",
    "id": "1wojI66kVXjs",
    "outputId": "96fa23f3-f2fb-48e0-87a5-18c1445b9279"
   },
   "outputs": [
    {
     "data": {
      "text/plain": [
       "Business Partner         0\n",
       "Customer No.             0\n",
       "Partner Type            78\n",
       "Data Origin            136\n",
       "Title                46307\n",
       "Marital Status      539301\n",
       "Occupation          540780\n",
       "Date of Birth       541894\n",
       "Death date          554675\n",
       "dtype: int64"
      ]
     },
     "execution_count": 13,
     "metadata": {},
     "output_type": "execute_result"
    }
   ],
   "source": [
    "customer_full_data.isnull().sum()"
   ]
  },
  {
   "cell_type": "code",
   "execution_count": 14,
   "metadata": {
    "colab": {},
    "colab_type": "code",
    "id": "mC2YZ6mmgA0q"
   },
   "outputs": [],
   "source": [
    "customer = customer_full_data.drop(columns = ['Marital Status', 'Occupation', 'Date of Birth', 'Death date', 'Business Partner'])"
   ]
  },
  {
   "cell_type": "code",
   "execution_count": 15,
   "metadata": {
    "colab": {
     "base_uri": "https://localhost:8080/",
     "height": 0
    },
    "colab_type": "code",
    "id": "H9JXOWb-jJxr",
    "outputId": "e3885e83-8844-4b71-fb88-f873f59b9b9b"
   },
   "outputs": [
    {
     "data": {
      "text/plain": [
       "Customer No.     object\n",
       "Partner Type    float64\n",
       "Data Origin      object\n",
       "Title           float64\n",
       "dtype: object"
      ]
     },
     "execution_count": 15,
     "metadata": {},
     "output_type": "execute_result"
    }
   ],
   "source": [
    "customer.dtypes"
   ]
  },
  {
   "cell_type": "code",
   "execution_count": 16,
   "metadata": {
    "colab": {
     "base_uri": "https://localhost:8080/",
     "height": 0
    },
    "colab_type": "code",
    "id": "6qOtHQd0gUHt",
    "outputId": "14ca208b-bd69-4295-9e8d-dc33278dc6a9"
   },
   "outputs": [
    {
     "data": {
      "text/plain": [
       "Customer No.        0\n",
       "Partner Type       78\n",
       "Data Origin       136\n",
       "Title           46307\n",
       "dtype: int64"
      ]
     },
     "execution_count": 16,
     "metadata": {},
     "output_type": "execute_result"
    }
   ],
   "source": [
    "customer.isnull().sum()"
   ]
  },
  {
   "cell_type": "markdown",
   "metadata": {
    "colab_type": "text",
    "id": "BJs7yJAjlwP2"
   },
   "source": [
    "**FIll Missing Values in Partner Type, Data Origin, Title columns with most_frequently used values.**"
   ]
  },
  {
   "cell_type": "code",
   "execution_count": 17,
   "metadata": {
    "colab": {},
    "colab_type": "code",
    "id": "_ezt1434hKqd"
   },
   "outputs": [],
   "source": [
    "most_frequent_value = customer['Partner Type'].mode()\n",
    "customer['Partner Type'] = customer['Partner Type'].fillna(most_frequent_value[0])"
   ]
  },
  {
   "cell_type": "code",
   "execution_count": 18,
   "metadata": {
    "colab": {},
    "colab_type": "code",
    "id": "fC5xpwkRlVtZ"
   },
   "outputs": [],
   "source": [
    "customer['Data Origin'] = customer['Data Origin'].fillna(customer['Data Origin'].mode()[0])"
   ]
  },
  {
   "cell_type": "code",
   "execution_count": 19,
   "metadata": {
    "colab": {},
    "colab_type": "code",
    "id": "1bT6C0ZnlgUI"
   },
   "outputs": [],
   "source": [
    "customer['Title'] = customer['Title'].fillna(customer['Title'].mode()[0])"
   ]
  },
  {
   "cell_type": "code",
   "execution_count": 20,
   "metadata": {
    "colab": {
     "base_uri": "https://localhost:8080/",
     "height": 0
    },
    "colab_type": "code",
    "id": "zTUNWHj8lvTE",
    "outputId": "e74c1917-2dcb-4901-c33b-5c46a8c888bf"
   },
   "outputs": [
    {
     "data": {
      "text/plain": [
       "Customer No.    0\n",
       "Partner Type    0\n",
       "Data Origin     0\n",
       "Title           0\n",
       "dtype: int64"
      ]
     },
     "execution_count": 20,
     "metadata": {},
     "output_type": "execute_result"
    }
   ],
   "source": [
    "customer.isnull().sum()"
   ]
  },
  {
   "cell_type": "markdown",
   "metadata": {
    "colab_type": "text",
    "id": "-gDSUTYQr-83"
   },
   "source": [
    "## Load Invoice Data\n",
    "Handle missing, duplicate data"
   ]
  },
  {
   "cell_type": "code",
   "execution_count": 21,
   "metadata": {
    "colab": {
     "base_uri": "https://localhost:8080/",
     "height": 71
    },
    "colab_type": "code",
    "id": "V-e3x0M7si2Y",
    "outputId": "7f72e576-e59e-4bc1-f22b-9b0a2f0cd7d8"
   },
   "outputs": [
    {
     "name": "stderr",
     "output_type": "stream",
     "text": [
      "D:\\Anaconda3\\lib\\site-packages\\IPython\\core\\interactiveshell.py:3020: DtypeWarning: Columns (9,10,14,15,21,41,51) have mixed types.Specify dtype option on import or set low_memory=False.\n",
      "  interactivity=interactivity, compiler=compiler, result=result)\n"
     ]
    }
   ],
   "source": [
    "invoice_full_data = pd.read_csv('Final_Invoice.csv',error_bad_lines=False,index_col=0)"
   ]
  },
  {
   "cell_type": "code",
   "execution_count": 22,
   "metadata": {
    "colab": {
     "base_uri": "https://localhost:8080/",
     "height": 428
    },
    "colab_type": "code",
    "id": "EHceLpPfss7g",
    "outputId": "db1d4ee0-0a08-4cfb-b761-3c1dc19e6827"
   },
   "outputs": [
    {
     "data": {
      "text/html": [
       "<div>\n",
       "<style scoped>\n",
       "    .dataframe tbody tr th:only-of-type {\n",
       "        vertical-align: middle;\n",
       "    }\n",
       "\n",
       "    .dataframe tbody tr th {\n",
       "        vertical-align: top;\n",
       "    }\n",
       "\n",
       "    .dataframe thead th {\n",
       "        text-align: right;\n",
       "    }\n",
       "</style>\n",
       "<table border=\"1\" class=\"dataframe\">\n",
       "  <thead>\n",
       "    <tr style=\"text-align: right;\">\n",
       "      <th></th>\n",
       "      <th>Amt Rcvd From Custom</th>\n",
       "      <th>Amt Rcvd From Ins Co</th>\n",
       "      <th>Area / Locality</th>\n",
       "      <th>CGST(14%)</th>\n",
       "      <th>CGST(2.5%)</th>\n",
       "      <th>CGST(6%)</th>\n",
       "      <th>CGST(9%)</th>\n",
       "      <th>CITY</th>\n",
       "      <th>Cash /Cashless Type</th>\n",
       "      <th>Claim No.</th>\n",
       "      <th>...</th>\n",
       "      <th>Service Advisor Name</th>\n",
       "      <th>TDS amount</th>\n",
       "      <th>Technician Name</th>\n",
       "      <th>Total Amt Wtd Tax.</th>\n",
       "      <th>Total CGST</th>\n",
       "      <th>Total GST</th>\n",
       "      <th>Total IGST</th>\n",
       "      <th>Total SGST/UGST</th>\n",
       "      <th>Total Value</th>\n",
       "      <th>User ID</th>\n",
       "    </tr>\n",
       "  </thead>\n",
       "  <tbody>\n",
       "    <tr>\n",
       "      <th>0</th>\n",
       "      <td>0.0</td>\n",
       "      <td>0.0</td>\n",
       "      <td>MAJIWADA</td>\n",
       "      <td>0.0</td>\n",
       "      <td>0.0</td>\n",
       "      <td>0.0</td>\n",
       "      <td>0.0</td>\n",
       "      <td>Thane</td>\n",
       "      <td>NaN</td>\n",
       "      <td>NaN</td>\n",
       "      <td>...</td>\n",
       "      <td>NaN</td>\n",
       "      <td>0.0</td>\n",
       "      <td>RUPESH</td>\n",
       "      <td>4051.95</td>\n",
       "      <td>0.0</td>\n",
       "      <td>0.0</td>\n",
       "      <td>0.0</td>\n",
       "      <td>0.0</td>\n",
       "      <td>4051.95</td>\n",
       "      <td>BC01FS1</td>\n",
       "    </tr>\n",
       "    <tr>\n",
       "      <th>1</th>\n",
       "      <td>0.0</td>\n",
       "      <td>0.0</td>\n",
       "      <td>THNAE</td>\n",
       "      <td>0.0</td>\n",
       "      <td>0.0</td>\n",
       "      <td>0.0</td>\n",
       "      <td>0.0</td>\n",
       "      <td>THNAE</td>\n",
       "      <td>NaN</td>\n",
       "      <td>NaN</td>\n",
       "      <td>...</td>\n",
       "      <td>NaN</td>\n",
       "      <td>0.0</td>\n",
       "      <td>PRASHANT</td>\n",
       "      <td>1001.29</td>\n",
       "      <td>0.0</td>\n",
       "      <td>0.0</td>\n",
       "      <td>0.0</td>\n",
       "      <td>0.0</td>\n",
       "      <td>1001.29</td>\n",
       "      <td>BC01SA2</td>\n",
       "    </tr>\n",
       "    <tr>\n",
       "      <th>2</th>\n",
       "      <td>0.0</td>\n",
       "      <td>0.0</td>\n",
       "      <td>THANE</td>\n",
       "      <td>0.0</td>\n",
       "      <td>0.0</td>\n",
       "      <td>0.0</td>\n",
       "      <td>0.0</td>\n",
       "      <td>THANE[W]</td>\n",
       "      <td>NaN</td>\n",
       "      <td>NaN</td>\n",
       "      <td>...</td>\n",
       "      <td>NaN</td>\n",
       "      <td>0.0</td>\n",
       "      <td>IMRAN</td>\n",
       "      <td>233.14</td>\n",
       "      <td>0.0</td>\n",
       "      <td>0.0</td>\n",
       "      <td>0.0</td>\n",
       "      <td>0.0</td>\n",
       "      <td>233.14</td>\n",
       "      <td>BC01SA2</td>\n",
       "    </tr>\n",
       "    <tr>\n",
       "      <th>3</th>\n",
       "      <td>0.0</td>\n",
       "      <td>0.0</td>\n",
       "      <td>THNAE</td>\n",
       "      <td>0.0</td>\n",
       "      <td>0.0</td>\n",
       "      <td>0.0</td>\n",
       "      <td>0.0</td>\n",
       "      <td>THNAE</td>\n",
       "      <td>NaN</td>\n",
       "      <td>NaN</td>\n",
       "      <td>...</td>\n",
       "      <td>NaN</td>\n",
       "      <td>0.0</td>\n",
       "      <td>PRASHANT</td>\n",
       "      <td>0.00</td>\n",
       "      <td>0.0</td>\n",
       "      <td>0.0</td>\n",
       "      <td>0.0</td>\n",
       "      <td>0.0</td>\n",
       "      <td>0.00</td>\n",
       "      <td>BC01SA2</td>\n",
       "    </tr>\n",
       "    <tr>\n",
       "      <th>4</th>\n",
       "      <td>0.0</td>\n",
       "      <td>0.0</td>\n",
       "      <td>THANE</td>\n",
       "      <td>0.0</td>\n",
       "      <td>0.0</td>\n",
       "      <td>0.0</td>\n",
       "      <td>0.0</td>\n",
       "      <td>THANE</td>\n",
       "      <td>NaN</td>\n",
       "      <td>NaN</td>\n",
       "      <td>...</td>\n",
       "      <td>NaN</td>\n",
       "      <td>0.0</td>\n",
       "      <td>DAYANAND</td>\n",
       "      <td>2747.12</td>\n",
       "      <td>0.0</td>\n",
       "      <td>0.0</td>\n",
       "      <td>0.0</td>\n",
       "      <td>0.0</td>\n",
       "      <td>2747.12</td>\n",
       "      <td>BC01SA2</td>\n",
       "    </tr>\n",
       "  </tbody>\n",
       "</table>\n",
       "<p>5 rows × 58 columns</p>\n",
       "</div>"
      ],
      "text/plain": [
       "   Amt Rcvd From Custom  Amt Rcvd From Ins Co Area / Locality  CGST(14%)  \\\n",
       "0                   0.0                   0.0        MAJIWADA        0.0   \n",
       "1                   0.0                   0.0           THNAE        0.0   \n",
       "2                   0.0                   0.0           THANE        0.0   \n",
       "3                   0.0                   0.0           THNAE        0.0   \n",
       "4                   0.0                   0.0           THANE        0.0   \n",
       "\n",
       "   CGST(2.5%)  CGST(6%)  CGST(9%)      CITY Cash /Cashless Type Claim No.  \\\n",
       "0         0.0       0.0       0.0     Thane                 NaN       NaN   \n",
       "1         0.0       0.0       0.0     THNAE                 NaN       NaN   \n",
       "2         0.0       0.0       0.0  THANE[W]                 NaN       NaN   \n",
       "3         0.0       0.0       0.0     THNAE                 NaN       NaN   \n",
       "4         0.0       0.0       0.0     THANE                 NaN       NaN   \n",
       "\n",
       "   ... Service Advisor Name TDS amount Technician Name Total Amt Wtd Tax.  \\\n",
       "0  ...                  NaN        0.0          RUPESH            4051.95   \n",
       "1  ...                  NaN        0.0        PRASHANT            1001.29   \n",
       "2  ...                  NaN        0.0           IMRAN             233.14   \n",
       "3  ...                  NaN        0.0        PRASHANT               0.00   \n",
       "4  ...                  NaN        0.0        DAYANAND            2747.12   \n",
       "\n",
       "  Total CGST Total GST  Total IGST  Total SGST/UGST  Total Value  User ID  \n",
       "0        0.0       0.0         0.0              0.0      4051.95  BC01FS1  \n",
       "1        0.0       0.0         0.0              0.0      1001.29  BC01SA2  \n",
       "2        0.0       0.0         0.0              0.0       233.14  BC01SA2  \n",
       "3        0.0       0.0         0.0              0.0         0.00  BC01SA2  \n",
       "4        0.0       0.0         0.0              0.0      2747.12  BC01SA2  \n",
       "\n",
       "[5 rows x 58 columns]"
      ]
     },
     "execution_count": 22,
     "metadata": {},
     "output_type": "execute_result"
    }
   ],
   "source": [
    "invoice_full_data.head()"
   ]
  },
  {
   "cell_type": "code",
   "execution_count": 23,
   "metadata": {
    "colab": {
     "base_uri": "https://localhost:8080/",
     "height": 34
    },
    "colab_type": "code",
    "id": "vEJjDsZOsWvd",
    "outputId": "5e794761-c151-4f7f-994f-8d05b9b76df9"
   },
   "outputs": [
    {
     "data": {
      "text/plain": [
       "(492314, 58)"
      ]
     },
     "execution_count": 23,
     "metadata": {},
     "output_type": "execute_result"
    }
   ],
   "source": [
    "invoice_full_data.shape"
   ]
  },
  {
   "cell_type": "code",
   "execution_count": 24,
   "metadata": {
    "colab": {
     "base_uri": "https://localhost:8080/",
     "height": 459
    },
    "colab_type": "code",
    "id": "pleDGsx33iCc",
    "outputId": "6b3b9303-d1ad-4632-94fe-84d265e322db"
   },
   "outputs": [
    {
     "data": {
      "text/html": [
       "<div>\n",
       "<style scoped>\n",
       "    .dataframe tbody tr th:only-of-type {\n",
       "        vertical-align: middle;\n",
       "    }\n",
       "\n",
       "    .dataframe tbody tr th {\n",
       "        vertical-align: top;\n",
       "    }\n",
       "\n",
       "    .dataframe thead th {\n",
       "        text-align: right;\n",
       "    }\n",
       "</style>\n",
       "<table border=\"1\" class=\"dataframe\">\n",
       "  <thead>\n",
       "    <tr style=\"text-align: right;\">\n",
       "      <th></th>\n",
       "      <th>Amt Rcvd From Custom</th>\n",
       "      <th>Amt Rcvd From Ins Co</th>\n",
       "      <th>Area / Locality</th>\n",
       "      <th>CGST(14%)</th>\n",
       "      <th>CGST(2.5%)</th>\n",
       "      <th>CGST(6%)</th>\n",
       "      <th>CGST(9%)</th>\n",
       "      <th>CITY</th>\n",
       "      <th>Cash /Cashless Type</th>\n",
       "      <th>Claim No.</th>\n",
       "      <th>...</th>\n",
       "      <th>Service Advisor Name</th>\n",
       "      <th>TDS amount</th>\n",
       "      <th>Technician Name</th>\n",
       "      <th>Total Amt Wtd Tax.</th>\n",
       "      <th>Total CGST</th>\n",
       "      <th>Total GST</th>\n",
       "      <th>Total IGST</th>\n",
       "      <th>Total SGST/UGST</th>\n",
       "      <th>Total Value</th>\n",
       "      <th>User ID</th>\n",
       "    </tr>\n",
       "  </thead>\n",
       "  <tbody>\n",
       "    <tr>\n",
       "      <th>596342</th>\n",
       "      <td>0.0</td>\n",
       "      <td>0.0</td>\n",
       "      <td>NaN</td>\n",
       "      <td>0.0</td>\n",
       "      <td>0.0</td>\n",
       "      <td>0.0</td>\n",
       "      <td>0.0</td>\n",
       "      <td>Nashik</td>\n",
       "      <td>NaN</td>\n",
       "      <td>NaN</td>\n",
       "      <td>...</td>\n",
       "      <td>NaN</td>\n",
       "      <td>0.0</td>\n",
       "      <td>VILAS</td>\n",
       "      <td>3224.98</td>\n",
       "      <td>0.0</td>\n",
       "      <td>0.0</td>\n",
       "      <td>0.0</td>\n",
       "      <td>0.0</td>\n",
       "      <td>3224.98</td>\n",
       "      <td>BC03SA2</td>\n",
       "    </tr>\n",
       "    <tr>\n",
       "      <th>655477</th>\n",
       "      <td>0.0</td>\n",
       "      <td>0.0</td>\n",
       "      <td>NaN</td>\n",
       "      <td>0.0</td>\n",
       "      <td>0.0</td>\n",
       "      <td>0.0</td>\n",
       "      <td>0.0</td>\n",
       "      <td>Nashik</td>\n",
       "      <td>NaN</td>\n",
       "      <td>NaN</td>\n",
       "      <td>...</td>\n",
       "      <td>NaN</td>\n",
       "      <td>0.0</td>\n",
       "      <td>NaN</td>\n",
       "      <td>420.09</td>\n",
       "      <td>0.0</td>\n",
       "      <td>0.0</td>\n",
       "      <td>0.0</td>\n",
       "      <td>0.0</td>\n",
       "      <td>420.09</td>\n",
       "      <td>GOLIVE</td>\n",
       "    </tr>\n",
       "    <tr>\n",
       "      <th>671744</th>\n",
       "      <td>0.0</td>\n",
       "      <td>0.0</td>\n",
       "      <td>NaN</td>\n",
       "      <td>0.0</td>\n",
       "      <td>0.0</td>\n",
       "      <td>0.0</td>\n",
       "      <td>0.0</td>\n",
       "      <td>Nashik</td>\n",
       "      <td>NaN</td>\n",
       "      <td>NaN</td>\n",
       "      <td>...</td>\n",
       "      <td>NaN</td>\n",
       "      <td>0.0</td>\n",
       "      <td>NaN</td>\n",
       "      <td>1637.43</td>\n",
       "      <td>0.0</td>\n",
       "      <td>0.0</td>\n",
       "      <td>0.0</td>\n",
       "      <td>0.0</td>\n",
       "      <td>1637.43</td>\n",
       "      <td>BC03SA3</td>\n",
       "    </tr>\n",
       "    <tr>\n",
       "      <th>698201</th>\n",
       "      <td>0.0</td>\n",
       "      <td>0.0</td>\n",
       "      <td>NaN</td>\n",
       "      <td>0.0</td>\n",
       "      <td>0.0</td>\n",
       "      <td>0.0</td>\n",
       "      <td>0.0</td>\n",
       "      <td>Nashik</td>\n",
       "      <td>NaN</td>\n",
       "      <td>NaN</td>\n",
       "      <td>...</td>\n",
       "      <td>NaN</td>\n",
       "      <td>0.0</td>\n",
       "      <td>CX</td>\n",
       "      <td>1803.27</td>\n",
       "      <td>0.0</td>\n",
       "      <td>0.0</td>\n",
       "      <td>0.0</td>\n",
       "      <td>0.0</td>\n",
       "      <td>1803.27</td>\n",
       "      <td>BC03SA3</td>\n",
       "    </tr>\n",
       "  </tbody>\n",
       "</table>\n",
       "<p>4 rows × 58 columns</p>\n",
       "</div>"
      ],
      "text/plain": [
       "        Amt Rcvd From Custom  Amt Rcvd From Ins Co Area / Locality  CGST(14%)  \\\n",
       "596342                   0.0                   0.0             NaN        0.0   \n",
       "655477                   0.0                   0.0             NaN        0.0   \n",
       "671744                   0.0                   0.0             NaN        0.0   \n",
       "698201                   0.0                   0.0             NaN        0.0   \n",
       "\n",
       "        CGST(2.5%)  CGST(6%)  CGST(9%)    CITY Cash /Cashless Type Claim No.  \\\n",
       "596342         0.0       0.0       0.0  Nashik                 NaN       NaN   \n",
       "655477         0.0       0.0       0.0  Nashik                 NaN       NaN   \n",
       "671744         0.0       0.0       0.0  Nashik                 NaN       NaN   \n",
       "698201         0.0       0.0       0.0  Nashik                 NaN       NaN   \n",
       "\n",
       "        ... Service Advisor Name TDS amount Technician Name  \\\n",
       "596342  ...                  NaN        0.0           VILAS   \n",
       "655477  ...                  NaN        0.0             NaN   \n",
       "671744  ...                  NaN        0.0             NaN   \n",
       "698201  ...                  NaN        0.0              CX   \n",
       "\n",
       "       Total Amt Wtd Tax. Total CGST Total GST  Total IGST  Total SGST/UGST  \\\n",
       "596342            3224.98        0.0       0.0         0.0              0.0   \n",
       "655477             420.09        0.0       0.0         0.0              0.0   \n",
       "671744            1637.43        0.0       0.0         0.0              0.0   \n",
       "698201            1803.27        0.0       0.0         0.0              0.0   \n",
       "\n",
       "        Total Value  User ID  \n",
       "596342      3224.98  BC03SA2  \n",
       "655477       420.09   GOLIVE  \n",
       "671744      1637.43  BC03SA3  \n",
       "698201      1803.27  BC03SA3  \n",
       "\n",
       "[4 rows x 58 columns]"
      ]
     },
     "execution_count": 24,
     "metadata": {},
     "output_type": "execute_result"
    }
   ],
   "source": [
    "invoice_full_data[invoice_full_data['Customer No.']=='E14006']"
   ]
  },
  {
   "cell_type": "code",
   "execution_count": 25,
   "metadata": {
    "colab": {},
    "colab_type": "code",
    "id": "fXG5tq3bsW-x"
   },
   "outputs": [],
   "source": [
    "columns_to_be_removed = invoice_full_data.isnull().sum()[invoice_full_data.isnull().sum().sort_values() > 29178].index"
   ]
  },
  {
   "cell_type": "code",
   "execution_count": 26,
   "metadata": {
    "colab": {},
    "colab_type": "code",
    "id": "NqOKaco9D_ly"
   },
   "outputs": [],
   "source": [
    "invoice = invoice_full_data.drop(columns=columns_to_be_removed)"
   ]
  },
  {
   "cell_type": "code",
   "execution_count": 27,
   "metadata": {
    "colab": {
     "base_uri": "https://localhost:8080/",
     "height": 34
    },
    "colab_type": "code",
    "id": "CE-wcFK9EEhJ",
    "outputId": "ed4ddf8c-f5ac-43f3-c10e-e547e34791a9"
   },
   "outputs": [
    {
     "data": {
      "text/plain": [
       "(492314, 28)"
      ]
     },
     "execution_count": 27,
     "metadata": {},
     "output_type": "execute_result"
    }
   ],
   "source": [
    "invoice.shape"
   ]
  },
  {
   "cell_type": "code",
   "execution_count": 28,
   "metadata": {
    "colab": {
     "base_uri": "https://localhost:8080/",
     "height": 411
    },
    "colab_type": "code",
    "id": "M32ZbEo5EK8s",
    "outputId": "aa791958-08a0-46ab-ea53-6e3bb55c59d0"
   },
   "outputs": [
    {
     "data": {
      "text/html": [
       "<div>\n",
       "<style scoped>\n",
       "    .dataframe tbody tr th:only-of-type {\n",
       "        vertical-align: middle;\n",
       "    }\n",
       "\n",
       "    .dataframe tbody tr th {\n",
       "        vertical-align: top;\n",
       "    }\n",
       "\n",
       "    .dataframe thead th {\n",
       "        text-align: right;\n",
       "    }\n",
       "</style>\n",
       "<table border=\"1\" class=\"dataframe\">\n",
       "  <thead>\n",
       "    <tr style=\"text-align: right;\">\n",
       "      <th></th>\n",
       "      <th>Area / Locality</th>\n",
       "      <th>CITY</th>\n",
       "      <th>Cust Type</th>\n",
       "      <th>Customer No.</th>\n",
       "      <th>District</th>\n",
       "      <th>Gate Pass Time</th>\n",
       "      <th>Invoice Date</th>\n",
       "      <th>Invoice No</th>\n",
       "      <th>Invoice Time</th>\n",
       "      <th>Job Card No</th>\n",
       "      <th>...</th>\n",
       "      <th>Order Type</th>\n",
       "      <th>Parts Total</th>\n",
       "      <th>Pin code</th>\n",
       "      <th>Plant</th>\n",
       "      <th>Plant Name1</th>\n",
       "      <th>Print Status</th>\n",
       "      <th>Recovrbl Exp</th>\n",
       "      <th>Regn No</th>\n",
       "      <th>Total Amt Wtd Tax.</th>\n",
       "      <th>User ID</th>\n",
       "    </tr>\n",
       "  </thead>\n",
       "  <tbody>\n",
       "    <tr>\n",
       "      <th>0</th>\n",
       "      <td>MAJIWADA</td>\n",
       "      <td>Thane</td>\n",
       "      <td>Retail</td>\n",
       "      <td>67849</td>\n",
       "      <td>Maharashtra</td>\n",
       "      <td>00:00:00</td>\n",
       "      <td>2015-01-02</td>\n",
       "      <td>7005200002</td>\n",
       "      <td>11:30:36</td>\n",
       "      <td>168303</td>\n",
       "      <td>...</td>\n",
       "      <td>Paid Service</td>\n",
       "      <td>2348.75</td>\n",
       "      <td>400601</td>\n",
       "      <td>BC01</td>\n",
       "      <td>THANE</td>\n",
       "      <td>NO</td>\n",
       "      <td>0.0</td>\n",
       "      <td>KA19MA1291</td>\n",
       "      <td>4051.95</td>\n",
       "      <td>BC01FS1</td>\n",
       "    </tr>\n",
       "    <tr>\n",
       "      <th>1</th>\n",
       "      <td>THNAE</td>\n",
       "      <td>THNAE</td>\n",
       "      <td>Retail</td>\n",
       "      <td>84419</td>\n",
       "      <td>Maharashtra</td>\n",
       "      <td>00:00:00</td>\n",
       "      <td>2015-01-03</td>\n",
       "      <td>7005200003</td>\n",
       "      <td>10:07:32</td>\n",
       "      <td>173997</td>\n",
       "      <td>...</td>\n",
       "      <td>SMC Value Package</td>\n",
       "      <td>0.00</td>\n",
       "      <td>400603</td>\n",
       "      <td>BC01</td>\n",
       "      <td>THANE</td>\n",
       "      <td>NO</td>\n",
       "      <td>0.0</td>\n",
       "      <td>MH43R3046</td>\n",
       "      <td>1001.29</td>\n",
       "      <td>BC01SA2</td>\n",
       "    </tr>\n",
       "    <tr>\n",
       "      <th>2</th>\n",
       "      <td>THANE</td>\n",
       "      <td>THANE[W]</td>\n",
       "      <td>Retail</td>\n",
       "      <td>81055</td>\n",
       "      <td>Maharashtra</td>\n",
       "      <td>00:00:00</td>\n",
       "      <td>2015-01-03</td>\n",
       "      <td>7005200004</td>\n",
       "      <td>11:12:57</td>\n",
       "      <td>173889</td>\n",
       "      <td>...</td>\n",
       "      <td>Running Repairs</td>\n",
       "      <td>52.95</td>\n",
       "      <td>400607</td>\n",
       "      <td>BC01</td>\n",
       "      <td>THANE</td>\n",
       "      <td>NO</td>\n",
       "      <td>0.0</td>\n",
       "      <td>AP09AX0582</td>\n",
       "      <td>233.14</td>\n",
       "      <td>BC01SA2</td>\n",
       "    </tr>\n",
       "    <tr>\n",
       "      <th>3</th>\n",
       "      <td>THNAE</td>\n",
       "      <td>THNAE</td>\n",
       "      <td>Retail</td>\n",
       "      <td>84419</td>\n",
       "      <td>Maharashtra</td>\n",
       "      <td>00:00:00</td>\n",
       "      <td>2015-01-03</td>\n",
       "      <td>7005200005</td>\n",
       "      <td>11:40:44</td>\n",
       "      <td>174158</td>\n",
       "      <td>...</td>\n",
       "      <td>SMC Redemption</td>\n",
       "      <td>0.00</td>\n",
       "      <td>400603</td>\n",
       "      <td>BC01</td>\n",
       "      <td>THANE</td>\n",
       "      <td>NO</td>\n",
       "      <td>0.0</td>\n",
       "      <td>MH43R3046</td>\n",
       "      <td>0.00</td>\n",
       "      <td>BC01SA2</td>\n",
       "    </tr>\n",
       "    <tr>\n",
       "      <th>4</th>\n",
       "      <td>THANE</td>\n",
       "      <td>THANE</td>\n",
       "      <td>Retail</td>\n",
       "      <td>18980</td>\n",
       "      <td>Maharashtra</td>\n",
       "      <td>00:00:00</td>\n",
       "      <td>2015-01-03</td>\n",
       "      <td>7005200006</td>\n",
       "      <td>12:07:17</td>\n",
       "      <td>173860</td>\n",
       "      <td>...</td>\n",
       "      <td>Paid Service</td>\n",
       "      <td>944.16</td>\n",
       "      <td>400603</td>\n",
       "      <td>BC01</td>\n",
       "      <td>THANE</td>\n",
       "      <td>NO</td>\n",
       "      <td>0.0</td>\n",
       "      <td>MH04CD9768</td>\n",
       "      <td>2747.12</td>\n",
       "      <td>BC01SA2</td>\n",
       "    </tr>\n",
       "  </tbody>\n",
       "</table>\n",
       "<p>5 rows × 28 columns</p>\n",
       "</div>"
      ],
      "text/plain": [
       "  Area / Locality      CITY Cust Type Customer No.     District  \\\n",
       "0        MAJIWADA     Thane    Retail        67849  Maharashtra   \n",
       "1           THNAE     THNAE    Retail        84419  Maharashtra   \n",
       "2           THANE  THANE[W]    Retail        81055  Maharashtra   \n",
       "3           THNAE     THNAE    Retail        84419  Maharashtra   \n",
       "4           THANE     THANE    Retail        18980  Maharashtra   \n",
       "\n",
       "  Gate Pass Time Invoice Date  Invoice No Invoice Time  Job Card No  ...  \\\n",
       "0       00:00:00   2015-01-02  7005200002     11:30:36       168303  ...   \n",
       "1       00:00:00   2015-01-03  7005200003     10:07:32       173997  ...   \n",
       "2       00:00:00   2015-01-03  7005200004     11:12:57       173889  ...   \n",
       "3       00:00:00   2015-01-03  7005200005     11:40:44       174158  ...   \n",
       "4       00:00:00   2015-01-03  7005200006     12:07:17       173860  ...   \n",
       "\n",
       "          Order Type Parts Total  Pin code  Plant Plant Name1  Print Status  \\\n",
       "0       Paid Service     2348.75    400601   BC01       THANE            NO   \n",
       "1  SMC Value Package        0.00    400603   BC01       THANE            NO   \n",
       "2    Running Repairs       52.95    400607   BC01       THANE            NO   \n",
       "3     SMC Redemption        0.00    400603   BC01       THANE            NO   \n",
       "4       Paid Service      944.16    400603   BC01       THANE            NO   \n",
       "\n",
       "  Recovrbl Exp     Regn No Total Amt Wtd Tax.  User ID  \n",
       "0          0.0  KA19MA1291            4051.95  BC01FS1  \n",
       "1          0.0   MH43R3046            1001.29  BC01SA2  \n",
       "2          0.0  AP09AX0582             233.14  BC01SA2  \n",
       "3          0.0   MH43R3046               0.00  BC01SA2  \n",
       "4          0.0  MH04CD9768            2747.12  BC01SA2  \n",
       "\n",
       "[5 rows x 28 columns]"
      ]
     },
     "execution_count": 28,
     "metadata": {},
     "output_type": "execute_result"
    }
   ],
   "source": [
    "invoice.head(5)"
   ]
  },
  {
   "cell_type": "code",
   "execution_count": 29,
   "metadata": {
    "colab": {},
    "colab_type": "code",
    "id": "ADyVxU0TLKJb"
   },
   "outputs": [],
   "source": [
    "columns_irrelevant = ['Area / Locality', 'Print Status', 'Gate Pass Time', 'Recovrbl Exp']"
   ]
  },
  {
   "cell_type": "code",
   "execution_count": 30,
   "metadata": {
    "colab": {},
    "colab_type": "code",
    "id": "owC2gn0thq_P"
   },
   "outputs": [],
   "source": [
    "invoice = invoice.drop(columns=columns_irrelevant)"
   ]
  },
  {
   "cell_type": "code",
   "execution_count": 31,
   "metadata": {
    "colab": {},
    "colab_type": "code",
    "id": "UIxpmur3jQkx"
   },
   "outputs": [],
   "source": [
    "invoice.dropna(subset=['Regn No'], inplace=True)"
   ]
  },
  {
   "cell_type": "code",
   "execution_count": 32,
   "metadata": {
    "colab": {
     "base_uri": "https://localhost:8080/",
     "height": 442
    },
    "colab_type": "code",
    "id": "KthPw8BoLX7G",
    "outputId": "962dde3a-d52f-495c-e062-ec0bf3ed93fc"
   },
   "outputs": [
    {
     "data": {
      "text/plain": [
       "Labour Total             0\n",
       "Regn No                  0\n",
       "Plant Name1              0\n",
       "Plant                    0\n",
       "Pin code                 0\n",
       "Parts Total              0\n",
       "Order Type               0\n",
       "OSL Total                0\n",
       "Misc Total               0\n",
       "Make                     0\n",
       "Total Amt Wtd Tax.       0\n",
       "User ID                  0\n",
       "JobCard Time             0\n",
       "JobCard Date             0\n",
       "Job Card No              0\n",
       "Invoice Time             0\n",
       "Invoice No               0\n",
       "Invoice Date             0\n",
       "District                 0\n",
       "Customer No.             0\n",
       "Cust Type                0\n",
       "KMs Reading              0\n",
       "CITY                     1\n",
       "Model                 1524\n",
       "dtype: int64"
      ]
     },
     "execution_count": 32,
     "metadata": {},
     "output_type": "execute_result"
    }
   ],
   "source": [
    "invoice.isnull().sum().sort_values()"
   ]
  },
  {
   "cell_type": "code",
   "execution_count": 33,
   "metadata": {
    "colab": {},
    "colab_type": "code",
    "id": "kCGj8yMNcc7I"
   },
   "outputs": [],
   "source": [
    "invoice['Cust Type'] = invoice['Cust Type'].fillna(invoice['Cust Type'].mode()[0])\n",
    "invoice['CITY'] = invoice['CITY'].fillna(invoice['CITY'].mode()[0])\n",
    "invoice['Model']  = invoice['Model'].fillna(invoice['Model'].mode()[0])"
   ]
  },
  {
   "cell_type": "code",
   "execution_count": 34,
   "metadata": {
    "colab": {
     "base_uri": "https://localhost:8080/",
     "height": 442
    },
    "colab_type": "code",
    "id": "9BPxLAzujpTb",
    "outputId": "d4b85498-c64a-4907-c636-fec7153bb841"
   },
   "outputs": [
    {
     "data": {
      "text/plain": [
       "CITY                  0\n",
       "Regn No               0\n",
       "Plant Name1           0\n",
       "Plant                 0\n",
       "Pin code              0\n",
       "Parts Total           0\n",
       "Order Type            0\n",
       "OSL Total             0\n",
       "Model                 0\n",
       "Misc Total            0\n",
       "Make                  0\n",
       "Labour Total          0\n",
       "KMs Reading           0\n",
       "JobCard Time          0\n",
       "JobCard Date          0\n",
       "Job Card No           0\n",
       "Invoice Time          0\n",
       "Invoice No            0\n",
       "Invoice Date          0\n",
       "District              0\n",
       "Customer No.          0\n",
       "Cust Type             0\n",
       "Total Amt Wtd Tax.    0\n",
       "User ID               0\n",
       "dtype: int64"
      ]
     },
     "execution_count": 34,
     "metadata": {},
     "output_type": "execute_result"
    }
   ],
   "source": [
    "invoice.isnull().sum().sort_values()"
   ]
  },
  {
   "cell_type": "code",
   "execution_count": 35,
   "metadata": {
    "colab": {
     "base_uri": "https://localhost:8080/",
     "height": 187
    },
    "colab_type": "code",
    "id": "R7uIJ9nuAM_t",
    "outputId": "2d6610c4-8598-4661-b770-ecec474769f6"
   },
   "outputs": [
    {
     "data": {
      "text/plain": [
       "Running Repairs      269448\n",
       "Paid Service         134995\n",
       "Accidental            44159\n",
       "SMC Redemption        15738\n",
       "Mechanical            15100\n",
       "SMC Value Package      9781\n",
       "Repeat Order           3043\n",
       "WBW Order                17\n",
       "Workshop Damage          17\n",
       "Name: Order Type, dtype: int64"
      ]
     },
     "execution_count": 35,
     "metadata": {},
     "output_type": "execute_result"
    }
   ],
   "source": [
    "invoice['Order Type'].value_counts()"
   ]
  },
  {
   "cell_type": "markdown",
   "metadata": {
    "colab_type": "text",
    "id": "2J0JfMJ8kfkx"
   },
   "source": [
    "## Read JTD data\n",
    "* Handle missing and duplicate data."
   ]
  },
  {
   "cell_type": "code",
   "execution_count": 36,
   "metadata": {
    "colab": {
     "base_uri": "https://localhost:8080/",
     "height": 71
    },
    "colab_type": "code",
    "id": "Q5YbQqDus6dw",
    "outputId": "1649e4ea-79ad-4dd4-fb1b-0d05e44bc2da"
   },
   "outputs": [
    {
     "name": "stderr",
     "output_type": "stream",
     "text": [
      "D:\\Anaconda3\\lib\\site-packages\\numpy\\lib\\arraysetops.py:580: FutureWarning: elementwise comparison failed; returning scalar instead, but in the future will perform elementwise comparison\n",
      "  mask |= (ar1 == a)\n"
     ]
    }
   ],
   "source": [
    "jtd = pd.read_csv('JTD.csv', index_col=0)"
   ]
  },
  {
   "cell_type": "code",
   "execution_count": 37,
   "metadata": {
    "colab": {
     "base_uri": "https://localhost:8080/",
     "height": 34
    },
    "colab_type": "code",
    "id": "LjHXSKGcBkJA",
    "outputId": "2b3f8acf-d1b0-486f-da30-9637481e85fa"
   },
   "outputs": [
    {
     "data": {
      "text/plain": [
       "(5619484, 9)"
      ]
     },
     "execution_count": 37,
     "metadata": {},
     "output_type": "execute_result"
    }
   ],
   "source": [
    "jtd.shape"
   ]
  },
  {
   "cell_type": "code",
   "execution_count": 38,
   "metadata": {
    "colab": {
     "base_uri": "https://localhost:8080/",
     "height": 204
    },
    "colab_type": "code",
    "id": "4SceHKu8tAEn",
    "outputId": "b4bac037-df3c-40c5-e22f-0c88ece7ab1f"
   },
   "outputs": [
    {
     "data": {
      "text/html": [
       "<div>\n",
       "<style scoped>\n",
       "    .dataframe tbody tr th:only-of-type {\n",
       "        vertical-align: middle;\n",
       "    }\n",
       "\n",
       "    .dataframe tbody tr th {\n",
       "        vertical-align: top;\n",
       "    }\n",
       "\n",
       "    .dataframe thead th {\n",
       "        text-align: right;\n",
       "    }\n",
       "</style>\n",
       "<table border=\"1\" class=\"dataframe\">\n",
       "  <thead>\n",
       "    <tr style=\"text-align: right;\">\n",
       "      <th></th>\n",
       "      <th>DBM Order</th>\n",
       "      <th>Order Item</th>\n",
       "      <th>Material</th>\n",
       "      <th>Labor Value Number</th>\n",
       "      <th>Description</th>\n",
       "      <th>Item Category</th>\n",
       "      <th>Order Quantity</th>\n",
       "      <th>Target quantity UoM</th>\n",
       "      <th>Net value</th>\n",
       "    </tr>\n",
       "  </thead>\n",
       "  <tbody>\n",
       "    <tr>\n",
       "      <th>2674242</th>\n",
       "      <td>98050</td>\n",
       "      <td>10</td>\n",
       "      <td>1EMJ96615412</td>\n",
       "      <td>NaN</td>\n",
       "      <td>SWITCH A-A/C CONTROL</td>\n",
       "      <td>P002</td>\n",
       "      <td>1.0</td>\n",
       "      <td>EA</td>\n",
       "      <td>5185.92</td>\n",
       "    </tr>\n",
       "    <tr>\n",
       "      <th>2674243</th>\n",
       "      <td>98050</td>\n",
       "      <td>20</td>\n",
       "      <td>1EMJ96548238</td>\n",
       "      <td>NaN</td>\n",
       "      <td>WEATHER STRIP A-REAR DOOR LH</td>\n",
       "      <td>P002</td>\n",
       "      <td>1.0</td>\n",
       "      <td>EA</td>\n",
       "      <td>1433.49</td>\n",
       "    </tr>\n",
       "    <tr>\n",
       "      <th>2674244</th>\n",
       "      <td>98050</td>\n",
       "      <td>30</td>\n",
       "      <td>1EMJ96548102</td>\n",
       "      <td>NaN</td>\n",
       "      <td>WEATHER STRIP A-FRONT DOOR LH</td>\n",
       "      <td>P002</td>\n",
       "      <td>1.0</td>\n",
       "      <td>EA</td>\n",
       "      <td>1526.88</td>\n",
       "    </tr>\n",
       "    <tr>\n",
       "      <th>2674245</th>\n",
       "      <td>98050</td>\n",
       "      <td>40</td>\n",
       "      <td>1EMJ96548239</td>\n",
       "      <td>NaN</td>\n",
       "      <td>WEATHER STRIP A-REAR DOOR RH</td>\n",
       "      <td>P002</td>\n",
       "      <td>1.0</td>\n",
       "      <td>EA</td>\n",
       "      <td>1433.49</td>\n",
       "    </tr>\n",
       "    <tr>\n",
       "      <th>2674246</th>\n",
       "      <td>98050</td>\n",
       "      <td>50</td>\n",
       "      <td>1EMJ96548103</td>\n",
       "      <td>NaN</td>\n",
       "      <td>WEATHER STRIP A-FRONT DOOR RH</td>\n",
       "      <td>P002</td>\n",
       "      <td>1.0</td>\n",
       "      <td>EA</td>\n",
       "      <td>1526.88</td>\n",
       "    </tr>\n",
       "  </tbody>\n",
       "</table>\n",
       "</div>"
      ],
      "text/plain": [
       "         DBM Order  Order Item      Material Labor Value Number  \\\n",
       "2674242      98050          10  1EMJ96615412                NaN   \n",
       "2674243      98050          20  1EMJ96548238                NaN   \n",
       "2674244      98050          30  1EMJ96548102                NaN   \n",
       "2674245      98050          40  1EMJ96548239                NaN   \n",
       "2674246      98050          50  1EMJ96548103                NaN   \n",
       "\n",
       "                           Description Item Category  Order Quantity  \\\n",
       "2674242           SWITCH A-A/C CONTROL          P002             1.0   \n",
       "2674243   WEATHER STRIP A-REAR DOOR LH          P002             1.0   \n",
       "2674244  WEATHER STRIP A-FRONT DOOR LH          P002             1.0   \n",
       "2674245   WEATHER STRIP A-REAR DOOR RH          P002             1.0   \n",
       "2674246  WEATHER STRIP A-FRONT DOOR RH          P002             1.0   \n",
       "\n",
       "        Target quantity UoM  Net value  \n",
       "2674242                  EA    5185.92  \n",
       "2674243                  EA    1433.49  \n",
       "2674244                  EA    1526.88  \n",
       "2674245                  EA    1433.49  \n",
       "2674246                  EA    1526.88  "
      ]
     },
     "execution_count": 38,
     "metadata": {},
     "output_type": "execute_result"
    }
   ],
   "source": [
    "jtd[jtd['DBM Order']==98050]"
   ]
  },
  {
   "cell_type": "code",
   "execution_count": 39,
   "metadata": {
    "colab": {
     "base_uri": "https://localhost:8080/",
     "height": 34
    },
    "colab_type": "code",
    "id": "qHFfLOjxBbAd",
    "outputId": "a330eca4-7eb2-4d7d-fb9b-79fa977200e7"
   },
   "outputs": [
    {
     "data": {
      "text/plain": [
       "3604"
      ]
     },
     "execution_count": 39,
     "metadata": {},
     "output_type": "execute_result"
    }
   ],
   "source": [
    "len(jtd['Order Quantity'].unique())"
   ]
  },
  {
   "cell_type": "code",
   "execution_count": 40,
   "metadata": {},
   "outputs": [
    {
     "name": "stderr",
     "output_type": "stream",
     "text": [
      "D:\\Anaconda3\\lib\\site-packages\\ipykernel_launcher.py:1: FutureWarning: Indexing with multiple keys (implicitly converted to a tuple of keys) will be deprecated, use a list instead.\n",
      "  \"\"\"Entry point for launching an IPython kernel.\n"
     ]
    }
   ],
   "source": [
    "jtd_grouped = jtd.groupby('DBM Order')['Description','Item Category','Order Quantity','Net value'].agg(Description=('Description', lambda x: str(set(x)).strip('{}').replace(\"'\",\"\")),\n",
    "    Item_Category=('Item Category', lambda x: str(set(x)).strip('{}').replace(\"'\",\"\")),Order_Quantity=('Order Quantity',sum),Net_Value=('Net value',sum)).reset_index()"
   ]
  },
  {
   "cell_type": "code",
   "execution_count": 41,
   "metadata": {
    "colab": {
     "base_uri": "https://localhost:8080/",
     "height": 204
    },
    "colab_type": "code",
    "id": "5dNL96UcDkig",
    "outputId": "9de2b8bc-e6ab-45e8-cfc6-de900f0698d0"
   },
   "outputs": [
    {
     "data": {
      "text/html": [
       "<div>\n",
       "<style scoped>\n",
       "    .dataframe tbody tr th:only-of-type {\n",
       "        vertical-align: middle;\n",
       "    }\n",
       "\n",
       "    .dataframe tbody tr th {\n",
       "        vertical-align: top;\n",
       "    }\n",
       "\n",
       "    .dataframe thead th {\n",
       "        text-align: right;\n",
       "    }\n",
       "</style>\n",
       "<table border=\"1\" class=\"dataframe\">\n",
       "  <thead>\n",
       "    <tr style=\"text-align: right;\">\n",
       "      <th></th>\n",
       "      <th>DBM Order</th>\n",
       "      <th>Description</th>\n",
       "      <th>Item_Category</th>\n",
       "      <th>Order_Quantity</th>\n",
       "      <th>Net_Value</th>\n",
       "    </tr>\n",
       "  </thead>\n",
       "  <tbody>\n",
       "    <tr>\n",
       "      <th>0</th>\n",
       "      <td>4</td>\n",
       "      <td>SPARK PLUG, KIT-ENGINE UPR REPAIRED SEAL, AFTE...</td>\n",
       "      <td>P011, P010, P001, P002</td>\n",
       "      <td>731.6</td>\n",
       "      <td>16998.49</td>\n",
       "    </tr>\n",
       "    <tr>\n",
       "      <th>1</th>\n",
       "      <td>5</td>\n",
       "      <td>MISC LABOR 0.5 HOURS, Paid Service-Major, SHEL...</td>\n",
       "      <td>P002, P001</td>\n",
       "      <td>290.2</td>\n",
       "      <td>3779.80</td>\n",
       "    </tr>\n",
       "    <tr>\n",
       "      <th>2</th>\n",
       "      <td>6</td>\n",
       "      <td>MISC LABOR 0.5 HOURS, REPLACE STARTER MOTOR AS...</td>\n",
       "      <td>P001</td>\n",
       "      <td>109.0</td>\n",
       "      <td>1340.37</td>\n",
       "    </tr>\n",
       "    <tr>\n",
       "      <th>3</th>\n",
       "      <td>7</td>\n",
       "      <td>MISC LABOR 0.25 HOURS</td>\n",
       "      <td>P001</td>\n",
       "      <td>36.5</td>\n",
       "      <td>167.36</td>\n",
       "    </tr>\n",
       "    <tr>\n",
       "      <th>4</th>\n",
       "      <td>8</td>\n",
       "      <td>ELF Synthetic Engine OIL, REPLACE ENGINE OIL &amp;...</td>\n",
       "      <td>P002, P001</td>\n",
       "      <td>69.0</td>\n",
       "      <td>2306.94</td>\n",
       "    </tr>\n",
       "  </tbody>\n",
       "</table>\n",
       "</div>"
      ],
      "text/plain": [
       "   DBM Order                                        Description  \\\n",
       "0          4  SPARK PLUG, KIT-ENGINE UPR REPAIRED SEAL, AFTE...   \n",
       "1          5  MISC LABOR 0.5 HOURS, Paid Service-Major, SHEL...   \n",
       "2          6  MISC LABOR 0.5 HOURS, REPLACE STARTER MOTOR AS...   \n",
       "3          7                              MISC LABOR 0.25 HOURS   \n",
       "4          8  ELF Synthetic Engine OIL, REPLACE ENGINE OIL &...   \n",
       "\n",
       "            Item_Category  Order_Quantity  Net_Value  \n",
       "0  P011, P010, P001, P002           731.6   16998.49  \n",
       "1              P002, P001           290.2    3779.80  \n",
       "2                    P001           109.0    1340.37  \n",
       "3                    P001            36.5     167.36  \n",
       "4              P002, P001            69.0    2306.94  "
      ]
     },
     "execution_count": 41,
     "metadata": {},
     "output_type": "execute_result"
    }
   ],
   "source": [
    "jtd_grouped.head()"
   ]
  },
  {
   "cell_type": "code",
   "execution_count": 42,
   "metadata": {
    "colab": {
     "base_uri": "https://localhost:8080/",
     "height": 34
    },
    "colab_type": "code",
    "id": "vXKN_vGvDpv7",
    "outputId": "8f991f5e-2b55-459a-9c67-69736771c193"
   },
   "outputs": [
    {
     "data": {
      "text/plain": [
       "(973473, 5)"
      ]
     },
     "execution_count": 42,
     "metadata": {},
     "output_type": "execute_result"
    }
   ],
   "source": [
    "jtd_grouped.shape"
   ]
  },
  {
   "cell_type": "code",
   "execution_count": 43,
   "metadata": {
    "colab": {
     "base_uri": "https://localhost:8080/",
     "height": 884
    },
    "colab_type": "code",
    "id": "XLGX1WsI4LBo",
    "outputId": "e96aab66-814e-4a31-c817-b8f5803f7f4b"
   },
   "outputs": [
    {
     "data": {
      "text/plain": [
       "MISC_OTHER CHARGES                        270563\n",
       "Paid Service-Minor                        201857\n",
       "WASHING                                   199068\n",
       "Wheel Alignment                           191211\n",
       "OIL FILTER                                154387\n",
       "URANIA SUPREMO CI 4 15W 40                122218\n",
       "MFC PROLEUM CI4/SL 15W40                   92091\n",
       "AIR FILTER                                 80211\n",
       "Wheel Balancing (5 Wheels)                 79970\n",
       "MISC LABOR 0.5 HOURS                       62982\n",
       "General Check up                           62459\n",
       "Paid Service-Major                         60369\n",
       "WINDSHIELD LIQUID WASHER                   55352\n",
       "MISC LABOR 0.25 HOURS                      50143\n",
       "DISTILLED WATER                            46919\n",
       "Interior & Upholstery Cleaning             44864\n",
       "REPLACE BRAKE PAD (BOTH SIDE)              38552\n",
       "PAINTING CHARGES                           34187\n",
       "MISC LABOR 1 HOUR                          33993\n",
       "BALANCE WEIGHT 15GRAM                      31791\n",
       "MISC LABOR 2 HOURS                         31761\n",
       "BALANCE WEIGHT 20 GRAM                     29524\n",
       "BALANCE WEIGHT 25GRAM                      28774\n",
       "CLIP                                       28714\n",
       "BALANCE WEIGHT 10GRAM                      27962\n",
       "ANTIFREEZE COOLANT-GREEN                   27403\n",
       "BALANCE WEIGHT 30GRAM                      26724\n",
       "REPAIRING CHARGES                          23669\n",
       "PROFAR CONCENTRATED ANTIFREEZE COOLANT     22536\n",
       "Brake service - All 4 Wheels               21236\n",
       "FUEL FILTER                                20818\n",
       "BALANCE WEIGHT 35 GRAM                     20798\n",
       "RUST SPRAY                                 20731\n",
       "TIE CLIP                                   19829\n",
       "Clutch Overhaul                            19696\n",
       "Oil Filter-Spin On Petrol                  19610\n",
       "MISC_ON ROAD ASSISTANCE                    18991\n",
       "REPLACE ENGINE OIL & OIL FILTER            18268\n",
       "BRAKE OIL DOT 4                            17929\n",
       "BALANCE WEIGHT 5 GRAM                      17139\n",
       "TUTELA TRANSMISSIONS EPYX 90               16945\n",
       "BALANCE WEIGHT 40GRAM                      16278\n",
       "CLEANING INJECTOR PETROL (EACH)            15436\n",
       "REPLACE COOLANT                            14524\n",
       "Engine Flush                               13900\n",
       "FEVIQUIK 3 GM                              13479\n",
       "MFC PROLEUM GL-4 80W-90 - 26 Ltr           13188\n",
       "BULB 1016(12V 21/5W)                       12619\n",
       "MISC_COST OF WEIGHT (EACH)                 12530\n",
       "TYRE ROTATION                              12529\n",
       "Name: Description, dtype: int64"
      ]
     },
     "execution_count": 43,
     "metadata": {},
     "output_type": "execute_result"
    }
   ],
   "source": [
    "jtd['Description'].value_counts().head(50)"
   ]
  },
  {
   "cell_type": "code",
   "execution_count": 44,
   "metadata": {
    "colab": {
     "base_uri": "https://localhost:8080/",
     "height": 34
    },
    "colab_type": "code",
    "id": "BL1V-0c4kvyz",
    "outputId": "25e2fb34-e3fe-44ea-b871-788ba0d92f6f"
   },
   "outputs": [
    {
     "data": {
      "text/plain": [
       "(5619484, 9)"
      ]
     },
     "execution_count": 44,
     "metadata": {},
     "output_type": "execute_result"
    }
   ],
   "source": [
    "jtd.shape"
   ]
  },
  {
   "cell_type": "code",
   "execution_count": 45,
   "metadata": {
    "colab": {
     "base_uri": "https://localhost:8080/",
     "height": 187
    },
    "colab_type": "code",
    "id": "yAdjItftkrm3",
    "outputId": "d92131d3-135b-4cb1-f6c7-62e0cbfa23dd"
   },
   "outputs": [
    {
     "data": {
      "text/plain": [
       "DBM Order                    0\n",
       "Order Item                   0\n",
       "Item Category                0\n",
       "Order Quantity               0\n",
       "Net value                    0\n",
       "Material                 51629\n",
       "Description              51629\n",
       "Target quantity UoM      51629\n",
       "Labor Value Number     3774033\n",
       "dtype: int64"
      ]
     },
     "execution_count": 45,
     "metadata": {},
     "output_type": "execute_result"
    }
   ],
   "source": [
    "jtd.isnull().sum().sort_values()"
   ]
  },
  {
   "cell_type": "markdown",
   "metadata": {
    "colab_type": "text",
    "id": "E_ANL4TJmjIM"
   },
   "source": [
    "## Merge the Data\n",
    "**Merge Invoice and Customer Data on Customer No. Key**"
   ]
  },
  {
   "cell_type": "code",
   "execution_count": 46,
   "metadata": {
    "colab": {},
    "colab_type": "code",
    "id": "v9IP3WO9v_uT"
   },
   "outputs": [],
   "source": [
    "invoice['Customer No.'] = invoice['Customer No.'].str.lstrip('0')"
   ]
  },
  {
   "cell_type": "code",
   "execution_count": 47,
   "metadata": {
    "colab": {},
    "colab_type": "code",
    "id": "1zgxfmYZsMUo"
   },
   "outputs": [],
   "source": [
    "customer['Customer No.'] = customer['Customer No.'].astype(str)"
   ]
  },
  {
   "cell_type": "code",
   "execution_count": 48,
   "metadata": {
    "colab": {},
    "colab_type": "code",
    "id": "4ecC8PX-xsDZ"
   },
   "outputs": [],
   "source": [
    "invoice_customer = pd.merge(invoice, customer, on='Customer No.')"
   ]
  },
  {
   "cell_type": "code",
   "execution_count": 49,
   "metadata": {
    "colab": {
     "base_uri": "https://localhost:8080/",
     "height": 34
    },
    "colab_type": "code",
    "id": "oVDs_BjwxuoL",
    "outputId": "e60a59ee-b5ae-467c-c8b1-4b79a6a65a29"
   },
   "outputs": [
    {
     "data": {
      "text/plain": [
       "((492296, 27), 253480, 555338, 253478)"
      ]
     },
     "execution_count": 49,
     "metadata": {},
     "output_type": "execute_result"
    }
   ],
   "source": [
    "invoice_customer.shape, len(invoice['Customer No.'].unique()), len(customer['Customer No.'].unique()), len(invoice_customer['Customer No.'].unique())"
   ]
  },
  {
   "cell_type": "code",
   "execution_count": 50,
   "metadata": {
    "colab": {
     "base_uri": "https://localhost:8080/",
     "height": 493
    },
    "colab_type": "code",
    "id": "T_7DAYhv_ULl",
    "outputId": "b0ba6bbb-535d-476b-a758-1fe06c4081d7"
   },
   "outputs": [
    {
     "data": {
      "text/plain": [
       "CITY                  0\n",
       "Cust Type             0\n",
       "Customer No.          0\n",
       "District              0\n",
       "Invoice Date          0\n",
       "Invoice No            0\n",
       "Invoice Time          0\n",
       "Job Card No           0\n",
       "JobCard Date          0\n",
       "JobCard Time          0\n",
       "KMs Reading           0\n",
       "Labour Total          0\n",
       "Make                  0\n",
       "Misc Total            0\n",
       "Model                 0\n",
       "OSL Total             0\n",
       "Order Type            0\n",
       "Parts Total           0\n",
       "Pin code              0\n",
       "Plant                 0\n",
       "Plant Name1           0\n",
       "Regn No               0\n",
       "Total Amt Wtd Tax.    0\n",
       "User ID               0\n",
       "Partner Type          0\n",
       "Data Origin           0\n",
       "Title                 0\n",
       "dtype: int64"
      ]
     },
     "execution_count": 50,
     "metadata": {},
     "output_type": "execute_result"
    }
   ],
   "source": [
    "invoice_customer.isnull().sum()"
   ]
  },
  {
   "cell_type": "markdown",
   "metadata": {
    "colab_type": "text",
    "id": "vP32h0DvvFtp"
   },
   "source": [
    "**Merge invoice_customer and Plant**"
   ]
  },
  {
   "cell_type": "code",
   "execution_count": 51,
   "metadata": {
    "colab": {
     "base_uri": "https://localhost:8080/",
     "height": 34
    },
    "colab_type": "code",
    "id": "xmxkFlXMu9Hc",
    "outputId": "cd015dac-e8a7-4506-e349-acdbf86ef835"
   },
   "outputs": [
    {
     "data": {
      "text/plain": [
       "(438, 5)"
      ]
     },
     "execution_count": 51,
     "metadata": {},
     "output_type": "execute_result"
    }
   ],
   "source": [
    "plant.shape"
   ]
  },
  {
   "cell_type": "code",
   "execution_count": 52,
   "metadata": {
    "colab": {
     "base_uri": "https://localhost:8080/",
     "height": 34
    },
    "colab_type": "code",
    "id": "IcKRbfOlwaVJ",
    "outputId": "2927a39d-2216-45c6-c22a-bb610d173bc0"
   },
   "outputs": [
    {
     "data": {
      "text/plain": [
       "(242, 438)"
      ]
     },
     "execution_count": 52,
     "metadata": {},
     "output_type": "execute_result"
    }
   ],
   "source": [
    "len(invoice_customer.Plant.unique()), len(plant.Plant.unique())"
   ]
  },
  {
   "cell_type": "code",
   "execution_count": 53,
   "metadata": {
    "colab": {},
    "colab_type": "code",
    "id": "mt9d-E4kvLmL"
   },
   "outputs": [],
   "source": [
    "invoice_customer_plant = pd.merge(invoice_customer, plant, on='Plant')"
   ]
  },
  {
   "cell_type": "code",
   "execution_count": 54,
   "metadata": {
    "colab": {
     "base_uri": "https://localhost:8080/",
     "height": 34
    },
    "colab_type": "code",
    "id": "jZ5UrVXqvgU5",
    "outputId": "ab0b0dea-f82b-41ae-8597-054b70bd5742"
   },
   "outputs": [
    {
     "data": {
      "text/plain": [
       "(255754, 31)"
      ]
     },
     "execution_count": 54,
     "metadata": {},
     "output_type": "execute_result"
    }
   ],
   "source": [
    "invoice_customer_plant.shape"
   ]
  },
  {
   "cell_type": "code",
   "execution_count": 55,
   "metadata": {
    "colab": {
     "base_uri": "https://localhost:8080/",
     "height": 595
    },
    "colab_type": "code",
    "id": "-SueEcdtrCu6",
    "outputId": "2959b8f2-7a43-41cd-ca51-8064edc5e440"
   },
   "outputs": [
    {
     "data": {
      "text/plain": [
       "CITY                  0\n",
       "Cust Type             0\n",
       "Customer No.          0\n",
       "District              0\n",
       "Invoice Date          0\n",
       "Invoice No            0\n",
       "Invoice Time          0\n",
       "Job Card No           0\n",
       "JobCard Date          0\n",
       "JobCard Time          0\n",
       "KMs Reading           0\n",
       "Labour Total          0\n",
       "Make                  0\n",
       "Misc Total            0\n",
       "Model                 0\n",
       "OSL Total             0\n",
       "Order Type            0\n",
       "Parts Total           0\n",
       "Pin code              0\n",
       "Plant                 0\n",
       "Plant Name1           0\n",
       "Regn No               0\n",
       "Total Amt Wtd Tax.    0\n",
       "User ID               0\n",
       "Partner Type          0\n",
       "Data Origin           0\n",
       "Title                 0\n",
       "Name 1                0\n",
       "Postal Code           0\n",
       "City                  0\n",
       "State                 0\n",
       "dtype: int64"
      ]
     },
     "execution_count": 55,
     "metadata": {},
     "output_type": "execute_result"
    }
   ],
   "source": [
    "invoice_customer_plant.isnull().sum()"
   ]
  },
  {
   "cell_type": "markdown",
   "metadata": {
    "colab_type": "text",
    "id": "xboWtcYxLV3J"
   },
   "source": [
    "## Prepare Data for Clustering after cleaning merged data"
   ]
  },
  {
   "cell_type": "code",
   "execution_count": 56,
   "metadata": {
    "colab": {
     "base_uri": "https://localhost:8080/",
     "height": 445
    },
    "colab_type": "code",
    "id": "aPVhZ7MVLPbU",
    "outputId": "f4222dd9-93d4-4a72-b71f-d5df0eefe12c"
   },
   "outputs": [
    {
     "data": {
      "text/html": [
       "<div>\n",
       "<style scoped>\n",
       "    .dataframe tbody tr th:only-of-type {\n",
       "        vertical-align: middle;\n",
       "    }\n",
       "\n",
       "    .dataframe tbody tr th {\n",
       "        vertical-align: top;\n",
       "    }\n",
       "\n",
       "    .dataframe thead th {\n",
       "        text-align: right;\n",
       "    }\n",
       "</style>\n",
       "<table border=\"1\" class=\"dataframe\">\n",
       "  <thead>\n",
       "    <tr style=\"text-align: right;\">\n",
       "      <th></th>\n",
       "      <th>CITY</th>\n",
       "      <th>Cust Type</th>\n",
       "      <th>Customer No.</th>\n",
       "      <th>District</th>\n",
       "      <th>Invoice Date</th>\n",
       "      <th>Invoice No</th>\n",
       "      <th>Invoice Time</th>\n",
       "      <th>Job Card No</th>\n",
       "      <th>JobCard Date</th>\n",
       "      <th>JobCard Time</th>\n",
       "      <th>...</th>\n",
       "      <th>Regn No</th>\n",
       "      <th>Total Amt Wtd Tax.</th>\n",
       "      <th>User ID</th>\n",
       "      <th>Partner Type</th>\n",
       "      <th>Data Origin</th>\n",
       "      <th>Title</th>\n",
       "      <th>Name 1</th>\n",
       "      <th>Postal Code</th>\n",
       "      <th>City</th>\n",
       "      <th>State</th>\n",
       "    </tr>\n",
       "  </thead>\n",
       "  <tbody>\n",
       "    <tr>\n",
       "      <th>0</th>\n",
       "      <td>THANE</td>\n",
       "      <td>Retail</td>\n",
       "      <td>80479</td>\n",
       "      <td>Maharashtra</td>\n",
       "      <td>2015-06-19</td>\n",
       "      <td>7151201169</td>\n",
       "      <td>18:10:34</td>\n",
       "      <td>227460</td>\n",
       "      <td>2015-06-19</td>\n",
       "      <td>13:56:32</td>\n",
       "      <td>...</td>\n",
       "      <td>MH03AB0789</td>\n",
       "      <td>2201.78</td>\n",
       "      <td>X006SA1</td>\n",
       "      <td>1.0</td>\n",
       "      <td>Z010</td>\n",
       "      <td>2.0</td>\n",
       "      <td>X006 - A.M.MOTORS</td>\n",
       "      <td>401104</td>\n",
       "      <td>Thane</td>\n",
       "      <td>Maharashtra</td>\n",
       "    </tr>\n",
       "    <tr>\n",
       "      <th>1</th>\n",
       "      <td>Thane</td>\n",
       "      <td>Retail</td>\n",
       "      <td>E15810</td>\n",
       "      <td>Maharashtra</td>\n",
       "      <td>2016-07-20</td>\n",
       "      <td>7151205340</td>\n",
       "      <td>10:26:00</td>\n",
       "      <td>413455</td>\n",
       "      <td>2016-07-18</td>\n",
       "      <td>15:49:34</td>\n",
       "      <td>...</td>\n",
       "      <td>MH04CT295</td>\n",
       "      <td>6025.86</td>\n",
       "      <td>X006WM1</td>\n",
       "      <td>1.0</td>\n",
       "      <td>Z001</td>\n",
       "      <td>2.0</td>\n",
       "      <td>X006 - A.M.MOTORS</td>\n",
       "      <td>401104</td>\n",
       "      <td>Thane</td>\n",
       "      <td>Maharashtra</td>\n",
       "    </tr>\n",
       "    <tr>\n",
       "      <th>2</th>\n",
       "      <td>Thane</td>\n",
       "      <td>Retail</td>\n",
       "      <td>E15810</td>\n",
       "      <td>Maharashtra</td>\n",
       "      <td>2016-09-04</td>\n",
       "      <td>7151205916</td>\n",
       "      <td>11:12:47</td>\n",
       "      <td>446448</td>\n",
       "      <td>2016-08-30</td>\n",
       "      <td>10:10:59</td>\n",
       "      <td>...</td>\n",
       "      <td>MH04CT295</td>\n",
       "      <td>3464.00</td>\n",
       "      <td>X006WM1</td>\n",
       "      <td>1.0</td>\n",
       "      <td>Z001</td>\n",
       "      <td>2.0</td>\n",
       "      <td>X006 - A.M.MOTORS</td>\n",
       "      <td>401104</td>\n",
       "      <td>Thane</td>\n",
       "      <td>Maharashtra</td>\n",
       "    </tr>\n",
       "    <tr>\n",
       "      <th>3</th>\n",
       "      <td>NAVI MUMBAI</td>\n",
       "      <td>Retail</td>\n",
       "      <td>73857</td>\n",
       "      <td>Maharashtra</td>\n",
       "      <td>2016-10-28</td>\n",
       "      <td>7151206592</td>\n",
       "      <td>13:17:54</td>\n",
       "      <td>487708</td>\n",
       "      <td>2016-10-18</td>\n",
       "      <td>17:47:35</td>\n",
       "      <td>...</td>\n",
       "      <td>MH43AN1186</td>\n",
       "      <td>2065.75</td>\n",
       "      <td>X006SA1</td>\n",
       "      <td>1.0</td>\n",
       "      <td>Z001</td>\n",
       "      <td>2.0</td>\n",
       "      <td>X006 - A.M.MOTORS</td>\n",
       "      <td>401104</td>\n",
       "      <td>Thane</td>\n",
       "      <td>Maharashtra</td>\n",
       "    </tr>\n",
       "    <tr>\n",
       "      <th>4</th>\n",
       "      <td>Thane</td>\n",
       "      <td>Retail</td>\n",
       "      <td>E25519</td>\n",
       "      <td>Maharashtra</td>\n",
       "      <td>2015-05-28</td>\n",
       "      <td>7151201014</td>\n",
       "      <td>18:20:37</td>\n",
       "      <td>220109</td>\n",
       "      <td>2015-05-28</td>\n",
       "      <td>17:57:40</td>\n",
       "      <td>...</td>\n",
       "      <td>MH04DN6210</td>\n",
       "      <td>653.45</td>\n",
       "      <td>X006SA1</td>\n",
       "      <td>1.0</td>\n",
       "      <td>Z001</td>\n",
       "      <td>2.0</td>\n",
       "      <td>X006 - A.M.MOTORS</td>\n",
       "      <td>401104</td>\n",
       "      <td>Thane</td>\n",
       "      <td>Maharashtra</td>\n",
       "    </tr>\n",
       "  </tbody>\n",
       "</table>\n",
       "<p>5 rows × 31 columns</p>\n",
       "</div>"
      ],
      "text/plain": [
       "          CITY Cust Type Customer No.     District Invoice Date  Invoice No  \\\n",
       "0        THANE    Retail        80479  Maharashtra   2015-06-19  7151201169   \n",
       "1        Thane    Retail       E15810  Maharashtra   2016-07-20  7151205340   \n",
       "2        Thane    Retail       E15810  Maharashtra   2016-09-04  7151205916   \n",
       "3  NAVI MUMBAI    Retail        73857  Maharashtra   2016-10-28  7151206592   \n",
       "4        Thane    Retail       E25519  Maharashtra   2015-05-28  7151201014   \n",
       "\n",
       "  Invoice Time  Job Card No JobCard Date JobCard Time  ...     Regn No  \\\n",
       "0     18:10:34       227460   2015-06-19     13:56:32  ...  MH03AB0789   \n",
       "1     10:26:00       413455   2016-07-18     15:49:34  ...   MH04CT295   \n",
       "2     11:12:47       446448   2016-08-30     10:10:59  ...   MH04CT295   \n",
       "3     13:17:54       487708   2016-10-18     17:47:35  ...  MH43AN1186   \n",
       "4     18:20:37       220109   2015-05-28     17:57:40  ...  MH04DN6210   \n",
       "\n",
       "   Total Amt Wtd Tax.  User ID  Partner Type Data Origin  Title  \\\n",
       "0             2201.78  X006SA1           1.0        Z010    2.0   \n",
       "1             6025.86  X006WM1           1.0        Z001    2.0   \n",
       "2             3464.00  X006WM1           1.0        Z001    2.0   \n",
       "3             2065.75  X006SA1           1.0        Z001    2.0   \n",
       "4              653.45  X006SA1           1.0        Z001    2.0   \n",
       "\n",
       "              Name 1  Postal Code   City        State  \n",
       "0  X006 - A.M.MOTORS       401104  Thane  Maharashtra  \n",
       "1  X006 - A.M.MOTORS       401104  Thane  Maharashtra  \n",
       "2  X006 - A.M.MOTORS       401104  Thane  Maharashtra  \n",
       "3  X006 - A.M.MOTORS       401104  Thane  Maharashtra  \n",
       "4  X006 - A.M.MOTORS       401104  Thane  Maharashtra  \n",
       "\n",
       "[5 rows x 31 columns]"
      ]
     },
     "execution_count": 56,
     "metadata": {},
     "output_type": "execute_result"
    }
   ],
   "source": [
    "invoice_customer_plant.head()"
   ]
  },
  {
   "cell_type": "code",
   "execution_count": 57,
   "metadata": {
    "colab": {
     "base_uri": "https://localhost:8080/",
     "height": 34
    },
    "colab_type": "code",
    "id": "EoJbcAPpv-uD",
    "outputId": "21965260-7b91-4b0f-b0e4-604694be2eed"
   },
   "outputs": [
    {
     "data": {
      "text/plain": [
       "(255754, 31)"
      ]
     },
     "execution_count": 57,
     "metadata": {},
     "output_type": "execute_result"
    }
   ],
   "source": [
    "invoice_customer_plant.shape"
   ]
  },
  {
   "cell_type": "code",
   "execution_count": 58,
   "metadata": {
    "colab": {
     "base_uri": "https://localhost:8080/",
     "height": 334
    },
    "colab_type": "code",
    "id": "l_gyEZDhw2hM",
    "outputId": "6825cb1d-b868-4495-a9bf-95b6b0d82670"
   },
   "outputs": [
    {
     "data": {
      "text/html": [
       "<div>\n",
       "<style scoped>\n",
       "    .dataframe tbody tr th:only-of-type {\n",
       "        vertical-align: middle;\n",
       "    }\n",
       "\n",
       "    .dataframe tbody tr th {\n",
       "        vertical-align: top;\n",
       "    }\n",
       "\n",
       "    .dataframe thead th {\n",
       "        text-align: right;\n",
       "    }\n",
       "</style>\n",
       "<table border=\"1\" class=\"dataframe\">\n",
       "  <thead>\n",
       "    <tr style=\"text-align: right;\">\n",
       "      <th></th>\n",
       "      <th>Invoice No</th>\n",
       "      <th>Job Card No</th>\n",
       "      <th>KMs Reading</th>\n",
       "      <th>Labour Total</th>\n",
       "      <th>Misc Total</th>\n",
       "      <th>OSL Total</th>\n",
       "      <th>Parts Total</th>\n",
       "      <th>Pin code</th>\n",
       "      <th>Total Amt Wtd Tax.</th>\n",
       "      <th>Partner Type</th>\n",
       "      <th>Title</th>\n",
       "      <th>Postal Code</th>\n",
       "    </tr>\n",
       "  </thead>\n",
       "  <tbody>\n",
       "    <tr>\n",
       "      <th>count</th>\n",
       "      <td>2.557540e+05</td>\n",
       "      <td>255754.000000</td>\n",
       "      <td>2.557540e+05</td>\n",
       "      <td>255754.000000</td>\n",
       "      <td>255754.000000</td>\n",
       "      <td>255754.000000</td>\n",
       "      <td>255754.000000</td>\n",
       "      <td>255754.000000</td>\n",
       "      <td>255754.000000</td>\n",
       "      <td>255754.000000</td>\n",
       "      <td>255754.000000</td>\n",
       "      <td>255754.000000</td>\n",
       "    </tr>\n",
       "    <tr>\n",
       "      <th>mean</th>\n",
       "      <td>7.154316e+09</td>\n",
       "      <td>348892.072120</td>\n",
       "      <td>8.454848e+04</td>\n",
       "      <td>1647.134252</td>\n",
       "      <td>196.013643</td>\n",
       "      <td>147.131363</td>\n",
       "      <td>2315.776703</td>\n",
       "      <td>482079.179098</td>\n",
       "      <td>4306.055961</td>\n",
       "      <td>1.459883</td>\n",
       "      <td>1.961655</td>\n",
       "      <td>488208.955915</td>\n",
       "    </tr>\n",
       "    <tr>\n",
       "      <th>std</th>\n",
       "      <td>4.901045e+07</td>\n",
       "      <td>102284.060465</td>\n",
       "      <td>1.412618e+05</td>\n",
       "      <td>4858.893926</td>\n",
       "      <td>1877.049774</td>\n",
       "      <td>1502.267100</td>\n",
       "      <td>8192.674795</td>\n",
       "      <td>172344.322657</td>\n",
       "      <td>11677.718916</td>\n",
       "      <td>64.170792</td>\n",
       "      <td>0.192029</td>\n",
       "      <td>164193.412429</td>\n",
       "    </tr>\n",
       "    <tr>\n",
       "      <th>min</th>\n",
       "      <td>7.000000e+09</td>\n",
       "      <td>119.000000</td>\n",
       "      <td>1.000000e+00</td>\n",
       "      <td>-137.000000</td>\n",
       "      <td>-0.010000</td>\n",
       "      <td>0.000000</td>\n",
       "      <td>-0.010000</td>\n",
       "      <td>0.000000</td>\n",
       "      <td>-137.000000</td>\n",
       "      <td>1.000000</td>\n",
       "      <td>1.000000</td>\n",
       "      <td>123001.000000</td>\n",
       "    </tr>\n",
       "    <tr>\n",
       "      <th>25%</th>\n",
       "      <td>7.153601e+09</td>\n",
       "      <td>280215.750000</td>\n",
       "      <td>3.534250e+04</td>\n",
       "      <td>1.010000</td>\n",
       "      <td>0.000000</td>\n",
       "      <td>0.000000</td>\n",
       "      <td>0.000000</td>\n",
       "      <td>401107.000000</td>\n",
       "      <td>250.430000</td>\n",
       "      <td>1.000000</td>\n",
       "      <td>2.000000</td>\n",
       "      <td>410501.000000</td>\n",
       "    </tr>\n",
       "    <tr>\n",
       "      <th>50%</th>\n",
       "      <td>7.160202e+09</td>\n",
       "      <td>363786.500000</td>\n",
       "      <td>6.386600e+04</td>\n",
       "      <td>446.940000</td>\n",
       "      <td>0.000000</td>\n",
       "      <td>0.000000</td>\n",
       "      <td>108.285000</td>\n",
       "      <td>560067.000000</td>\n",
       "      <td>1161.540000</td>\n",
       "      <td>1.000000</td>\n",
       "      <td>2.000000</td>\n",
       "      <td>560037.000000</td>\n",
       "    </tr>\n",
       "    <tr>\n",
       "      <th>75%</th>\n",
       "      <td>7.175002e+09</td>\n",
       "      <td>431837.750000</td>\n",
       "      <td>1.001878e+05</td>\n",
       "      <td>1366.935000</td>\n",
       "      <td>0.000000</td>\n",
       "      <td>0.000000</td>\n",
       "      <td>2045.140000</td>\n",
       "      <td>608003.000000</td>\n",
       "      <td>4085.360000</td>\n",
       "      <td>1.000000</td>\n",
       "      <td>2.000000</td>\n",
       "      <td>610001.000000</td>\n",
       "    </tr>\n",
       "    <tr>\n",
       "      <th>max</th>\n",
       "      <td>7.241600e+09</td>\n",
       "      <td>499962.000000</td>\n",
       "      <td>9.999999e+06</td>\n",
       "      <td>323000.000000</td>\n",
       "      <td>350000.000000</td>\n",
       "      <td>88555.310000</td>\n",
       "      <td>598003.480000</td>\n",
       "      <td>999999.000000</td>\n",
       "      <td>648203.490000</td>\n",
       "      <td>9003.000000</td>\n",
       "      <td>2.000000</td>\n",
       "      <td>851134.000000</td>\n",
       "    </tr>\n",
       "  </tbody>\n",
       "</table>\n",
       "</div>"
      ],
      "text/plain": [
       "         Invoice No    Job Card No   KMs Reading   Labour Total  \\\n",
       "count  2.557540e+05  255754.000000  2.557540e+05  255754.000000   \n",
       "mean   7.154316e+09  348892.072120  8.454848e+04    1647.134252   \n",
       "std    4.901045e+07  102284.060465  1.412618e+05    4858.893926   \n",
       "min    7.000000e+09     119.000000  1.000000e+00    -137.000000   \n",
       "25%    7.153601e+09  280215.750000  3.534250e+04       1.010000   \n",
       "50%    7.160202e+09  363786.500000  6.386600e+04     446.940000   \n",
       "75%    7.175002e+09  431837.750000  1.001878e+05    1366.935000   \n",
       "max    7.241600e+09  499962.000000  9.999999e+06  323000.000000   \n",
       "\n",
       "          Misc Total      OSL Total    Parts Total       Pin code  \\\n",
       "count  255754.000000  255754.000000  255754.000000  255754.000000   \n",
       "mean      196.013643     147.131363    2315.776703  482079.179098   \n",
       "std      1877.049774    1502.267100    8192.674795  172344.322657   \n",
       "min        -0.010000       0.000000      -0.010000       0.000000   \n",
       "25%         0.000000       0.000000       0.000000  401107.000000   \n",
       "50%         0.000000       0.000000     108.285000  560067.000000   \n",
       "75%         0.000000       0.000000    2045.140000  608003.000000   \n",
       "max    350000.000000   88555.310000  598003.480000  999999.000000   \n",
       "\n",
       "       Total Amt Wtd Tax.   Partner Type          Title    Postal Code  \n",
       "count       255754.000000  255754.000000  255754.000000  255754.000000  \n",
       "mean          4306.055961       1.459883       1.961655  488208.955915  \n",
       "std          11677.718916      64.170792       0.192029  164193.412429  \n",
       "min           -137.000000       1.000000       1.000000  123001.000000  \n",
       "25%            250.430000       1.000000       2.000000  410501.000000  \n",
       "50%           1161.540000       1.000000       2.000000  560037.000000  \n",
       "75%           4085.360000       1.000000       2.000000  610001.000000  \n",
       "max         648203.490000    9003.000000       2.000000  851134.000000  "
      ]
     },
     "execution_count": 58,
     "metadata": {},
     "output_type": "execute_result"
    }
   ],
   "source": [
    "invoice_customer_plant.describe()"
   ]
  },
  {
   "cell_type": "code",
   "execution_count": 59,
   "metadata": {
    "colab": {
     "base_uri": "https://localhost:8080/",
     "height": 170
    },
    "colab_type": "code",
    "id": "tE1NjTNX1kVg",
    "outputId": "58c1fbf5-2223-4ad1-d260-f4adbf2f0750"
   },
   "outputs": [
    {
     "data": {
      "text/plain": [
       "((255754, 31),\n",
       " Index(['CITY', 'Cust Type', 'Customer No.', 'District', 'Invoice Date',\n",
       "        'Invoice No', 'Invoice Time', 'Job Card No', 'JobCard Date',\n",
       "        'JobCard Time', 'KMs Reading', 'Labour Total', 'Make', 'Misc Total',\n",
       "        'Model', 'OSL Total', 'Order Type', 'Parts Total', 'Pin code', 'Plant',\n",
       "        'Plant Name1', 'Regn No', 'Total Amt Wtd Tax.', 'User ID',\n",
       "        'Partner Type', 'Data Origin', 'Title', 'Name 1', 'Postal Code', 'City',\n",
       "        'State'],\n",
       "       dtype='object'))"
      ]
     },
     "execution_count": 59,
     "metadata": {},
     "output_type": "execute_result"
    }
   ],
   "source": [
    "invoice_customer_plant.shape, invoice_customer_plant.columns"
   ]
  },
  {
   "cell_type": "code",
   "execution_count": 60,
   "metadata": {
    "colab": {},
    "colab_type": "code",
    "id": "ZWWfsFxoJ7it"
   },
   "outputs": [],
   "source": [
    "invoice_customer_plant['Invoice Date'] = pd.to_datetime(invoice_customer_plant['Invoice Date'])"
   ]
  },
  {
   "cell_type": "code",
   "execution_count": 61,
   "metadata": {
    "colab": {},
    "colab_type": "code",
    "id": "Zg7fAiE3KC9A"
   },
   "outputs": [],
   "source": [
    "invoice_customer_plant['Invoice Date Time'] = invoice_customer_plant['Invoice Date'].astype(str).str.cat(invoice_customer_plant[['Invoice Time']].astype(str),sep=' ')"
   ]
  },
  {
   "cell_type": "code",
   "execution_count": 62,
   "metadata": {
    "colab": {},
    "colab_type": "code",
    "id": "OGPO7y71Kgz2"
   },
   "outputs": [],
   "source": [
    "invoice_customer_plant['JobCard Date'] =  pd.to_datetime(invoice_customer_plant['JobCard Date'])"
   ]
  },
  {
   "cell_type": "code",
   "execution_count": 63,
   "metadata": {
    "colab": {},
    "colab_type": "code",
    "id": "GGrHn9ohKnz6"
   },
   "outputs": [],
   "source": [
    "invoice_customer_plant['JobCard Date Time'] = invoice_customer_plant['JobCard Date'].astype(str).str.cat(invoice_customer_plant[['JobCard Time']].astype(str), sep=' ')"
   ]
  },
  {
   "cell_type": "code",
   "execution_count": 64,
   "metadata": {
    "colab": {
     "base_uri": "https://localhost:8080/",
     "height": 204
    },
    "colab_type": "code",
    "id": "vU7on3Qt1uTh",
    "outputId": "68a9ad00-fb67-41a6-cee1-27aeb9bbaafe"
   },
   "outputs": [
    {
     "data": {
      "text/html": [
       "<div>\n",
       "<style scoped>\n",
       "    .dataframe tbody tr th:only-of-type {\n",
       "        vertical-align: middle;\n",
       "    }\n",
       "\n",
       "    .dataframe tbody tr th {\n",
       "        vertical-align: top;\n",
       "    }\n",
       "\n",
       "    .dataframe thead th {\n",
       "        text-align: right;\n",
       "    }\n",
       "</style>\n",
       "<table border=\"1\" class=\"dataframe\">\n",
       "  <thead>\n",
       "    <tr style=\"text-align: right;\">\n",
       "      <th></th>\n",
       "      <th>JobCard Date Time</th>\n",
       "      <th>JobCard Date</th>\n",
       "      <th>JobCard Time</th>\n",
       "    </tr>\n",
       "  </thead>\n",
       "  <tbody>\n",
       "    <tr>\n",
       "      <th>0</th>\n",
       "      <td>2015-06-19 13:56:32</td>\n",
       "      <td>2015-06-19</td>\n",
       "      <td>13:56:32</td>\n",
       "    </tr>\n",
       "    <tr>\n",
       "      <th>1</th>\n",
       "      <td>2016-07-18 15:49:34</td>\n",
       "      <td>2016-07-18</td>\n",
       "      <td>15:49:34</td>\n",
       "    </tr>\n",
       "    <tr>\n",
       "      <th>2</th>\n",
       "      <td>2016-08-30 10:10:59</td>\n",
       "      <td>2016-08-30</td>\n",
       "      <td>10:10:59</td>\n",
       "    </tr>\n",
       "    <tr>\n",
       "      <th>3</th>\n",
       "      <td>2016-10-18 17:47:35</td>\n",
       "      <td>2016-10-18</td>\n",
       "      <td>17:47:35</td>\n",
       "    </tr>\n",
       "    <tr>\n",
       "      <th>4</th>\n",
       "      <td>2015-05-28 17:57:40</td>\n",
       "      <td>2015-05-28</td>\n",
       "      <td>17:57:40</td>\n",
       "    </tr>\n",
       "  </tbody>\n",
       "</table>\n",
       "</div>"
      ],
      "text/plain": [
       "     JobCard Date Time JobCard Date JobCard Time\n",
       "0  2015-06-19 13:56:32   2015-06-19     13:56:32\n",
       "1  2016-07-18 15:49:34   2016-07-18     15:49:34\n",
       "2  2016-08-30 10:10:59   2016-08-30     10:10:59\n",
       "3  2016-10-18 17:47:35   2016-10-18     17:47:35\n",
       "4  2015-05-28 17:57:40   2015-05-28     17:57:40"
      ]
     },
     "execution_count": 64,
     "metadata": {},
     "output_type": "execute_result"
    }
   ],
   "source": [
    "invoice_customer_plant.loc[:, ['JobCard Date Time', 'JobCard Date','JobCard Time']].head()"
   ]
  },
  {
   "cell_type": "code",
   "execution_count": 65,
   "metadata": {
    "colab": {
     "base_uri": "https://localhost:8080/",
     "height": 204
    },
    "colab_type": "code",
    "id": "W-uk27pwLcpo",
    "outputId": "569f3dfb-6c2f-467d-cc99-eac41366d6c3"
   },
   "outputs": [
    {
     "data": {
      "text/html": [
       "<div>\n",
       "<style scoped>\n",
       "    .dataframe tbody tr th:only-of-type {\n",
       "        vertical-align: middle;\n",
       "    }\n",
       "\n",
       "    .dataframe tbody tr th {\n",
       "        vertical-align: top;\n",
       "    }\n",
       "\n",
       "    .dataframe thead th {\n",
       "        text-align: right;\n",
       "    }\n",
       "</style>\n",
       "<table border=\"1\" class=\"dataframe\">\n",
       "  <thead>\n",
       "    <tr style=\"text-align: right;\">\n",
       "      <th></th>\n",
       "      <th>Invoice Date Time</th>\n",
       "      <th>Invoice Date</th>\n",
       "      <th>Invoice Time</th>\n",
       "    </tr>\n",
       "  </thead>\n",
       "  <tbody>\n",
       "    <tr>\n",
       "      <th>0</th>\n",
       "      <td>2015-06-19 18:10:34</td>\n",
       "      <td>2015-06-19</td>\n",
       "      <td>18:10:34</td>\n",
       "    </tr>\n",
       "    <tr>\n",
       "      <th>1</th>\n",
       "      <td>2016-07-20 10:26:00</td>\n",
       "      <td>2016-07-20</td>\n",
       "      <td>10:26:00</td>\n",
       "    </tr>\n",
       "    <tr>\n",
       "      <th>2</th>\n",
       "      <td>2016-09-04 11:12:47</td>\n",
       "      <td>2016-09-04</td>\n",
       "      <td>11:12:47</td>\n",
       "    </tr>\n",
       "    <tr>\n",
       "      <th>3</th>\n",
       "      <td>2016-10-28 13:17:54</td>\n",
       "      <td>2016-10-28</td>\n",
       "      <td>13:17:54</td>\n",
       "    </tr>\n",
       "    <tr>\n",
       "      <th>4</th>\n",
       "      <td>2015-05-28 18:20:37</td>\n",
       "      <td>2015-05-28</td>\n",
       "      <td>18:20:37</td>\n",
       "    </tr>\n",
       "  </tbody>\n",
       "</table>\n",
       "</div>"
      ],
      "text/plain": [
       "     Invoice Date Time Invoice Date Invoice Time\n",
       "0  2015-06-19 18:10:34   2015-06-19     18:10:34\n",
       "1  2016-07-20 10:26:00   2016-07-20     10:26:00\n",
       "2  2016-09-04 11:12:47   2016-09-04     11:12:47\n",
       "3  2016-10-28 13:17:54   2016-10-28     13:17:54\n",
       "4  2015-05-28 18:20:37   2015-05-28     18:20:37"
      ]
     },
     "execution_count": 65,
     "metadata": {},
     "output_type": "execute_result"
    }
   ],
   "source": [
    "invoice_customer_plant.loc[:, ['Invoice Date Time', 'Invoice Date','Invoice Time']].head()"
   ]
  },
  {
   "cell_type": "code",
   "execution_count": 66,
   "metadata": {
    "colab": {},
    "colab_type": "code",
    "id": "9y6CQMMvLgpK"
   },
   "outputs": [],
   "source": [
    "invoice_customer_plant['Invoice Date Time'] = pd.to_datetime(invoice_customer_plant['Invoice Date Time'])"
   ]
  },
  {
   "cell_type": "code",
   "execution_count": 67,
   "metadata": {
    "colab": {},
    "colab_type": "code",
    "id": "reiTdg60LuOU"
   },
   "outputs": [],
   "source": [
    "invoice_customer_plant['JobCard Date Time'] = pd.to_datetime(invoice_customer_plant['JobCard Date Time'])"
   ]
  },
  {
   "cell_type": "code",
   "execution_count": 68,
   "metadata": {
    "colab": {},
    "colab_type": "code",
    "id": "tmqSn4ydL1G-"
   },
   "outputs": [],
   "source": [
    "invoice_customer_plant['ServiceTime'] = invoice_customer_plant['Invoice Date Time']-invoice_customer_plant['JobCard Date Time']"
   ]
  },
  {
   "cell_type": "code",
   "execution_count": 69,
   "metadata": {
    "colab": {
     "base_uri": "https://localhost:8080/",
     "height": 204
    },
    "colab_type": "code",
    "id": "SnuRQvgYL9iS",
    "outputId": "70395efe-f85e-4ebd-d4c6-5819c039dc2f"
   },
   "outputs": [
    {
     "data": {
      "text/html": [
       "<div>\n",
       "<style scoped>\n",
       "    .dataframe tbody tr th:only-of-type {\n",
       "        vertical-align: middle;\n",
       "    }\n",
       "\n",
       "    .dataframe tbody tr th {\n",
       "        vertical-align: top;\n",
       "    }\n",
       "\n",
       "    .dataframe thead th {\n",
       "        text-align: right;\n",
       "    }\n",
       "</style>\n",
       "<table border=\"1\" class=\"dataframe\">\n",
       "  <thead>\n",
       "    <tr style=\"text-align: right;\">\n",
       "      <th></th>\n",
       "      <th>ServiceTime</th>\n",
       "    </tr>\n",
       "  </thead>\n",
       "  <tbody>\n",
       "    <tr>\n",
       "      <th>0</th>\n",
       "      <td>0 days 04:14:02</td>\n",
       "    </tr>\n",
       "    <tr>\n",
       "      <th>1</th>\n",
       "      <td>1 days 18:36:26</td>\n",
       "    </tr>\n",
       "    <tr>\n",
       "      <th>2</th>\n",
       "      <td>5 days 01:01:48</td>\n",
       "    </tr>\n",
       "    <tr>\n",
       "      <th>3</th>\n",
       "      <td>9 days 19:30:19</td>\n",
       "    </tr>\n",
       "    <tr>\n",
       "      <th>4</th>\n",
       "      <td>0 days 00:22:57</td>\n",
       "    </tr>\n",
       "  </tbody>\n",
       "</table>\n",
       "</div>"
      ],
      "text/plain": [
       "      ServiceTime\n",
       "0 0 days 04:14:02\n",
       "1 1 days 18:36:26\n",
       "2 5 days 01:01:48\n",
       "3 9 days 19:30:19\n",
       "4 0 days 00:22:57"
      ]
     },
     "execution_count": 69,
     "metadata": {},
     "output_type": "execute_result"
    }
   ],
   "source": [
    "invoice_customer_plant.loc[:, ['ServiceTime']].head()"
   ]
  },
  {
   "cell_type": "code",
   "execution_count": 70,
   "metadata": {
    "colab": {
     "base_uri": "https://localhost:8080/",
     "height": 297
    },
    "colab_type": "code",
    "id": "oCjeRouZMNZi",
    "outputId": "73d5d48e-c8dc-496f-9a00-312838a0515e"
   },
   "outputs": [
    {
     "data": {
      "text/html": [
       "<div>\n",
       "<style scoped>\n",
       "    .dataframe tbody tr th:only-of-type {\n",
       "        vertical-align: middle;\n",
       "    }\n",
       "\n",
       "    .dataframe tbody tr th {\n",
       "        vertical-align: top;\n",
       "    }\n",
       "\n",
       "    .dataframe thead th {\n",
       "        text-align: right;\n",
       "    }\n",
       "</style>\n",
       "<table border=\"1\" class=\"dataframe\">\n",
       "  <thead>\n",
       "    <tr style=\"text-align: right;\">\n",
       "      <th></th>\n",
       "      <th>ServiceTime</th>\n",
       "    </tr>\n",
       "  </thead>\n",
       "  <tbody>\n",
       "    <tr>\n",
       "      <th>count</th>\n",
       "      <td>255754</td>\n",
       "    </tr>\n",
       "    <tr>\n",
       "      <th>mean</th>\n",
       "      <td>4 days 06:36:08.553336405</td>\n",
       "    </tr>\n",
       "    <tr>\n",
       "      <th>std</th>\n",
       "      <td>12 days 18:05:19.842755954</td>\n",
       "    </tr>\n",
       "    <tr>\n",
       "      <th>min</th>\n",
       "      <td>-1 days +23:59:27</td>\n",
       "    </tr>\n",
       "    <tr>\n",
       "      <th>25%</th>\n",
       "      <td>0 days 01:54:30</td>\n",
       "    </tr>\n",
       "    <tr>\n",
       "      <th>50%</th>\n",
       "      <td>0 days 08:08:20.500000</td>\n",
       "    </tr>\n",
       "    <tr>\n",
       "      <th>75%</th>\n",
       "      <td>3 days 01:43:06.500000</td>\n",
       "    </tr>\n",
       "    <tr>\n",
       "      <th>max</th>\n",
       "      <td>495 days 03:25:24</td>\n",
       "    </tr>\n",
       "  </tbody>\n",
       "</table>\n",
       "</div>"
      ],
      "text/plain": [
       "                      ServiceTime\n",
       "count                      255754\n",
       "mean    4 days 06:36:08.553336405\n",
       "std    12 days 18:05:19.842755954\n",
       "min             -1 days +23:59:27\n",
       "25%               0 days 01:54:30\n",
       "50%        0 days 08:08:20.500000\n",
       "75%        3 days 01:43:06.500000\n",
       "max             495 days 03:25:24"
      ]
     },
     "execution_count": 70,
     "metadata": {},
     "output_type": "execute_result"
    }
   ],
   "source": [
    "invoice_customer_plant.loc[:, ['ServiceTime']].describe()"
   ]
  },
  {
   "cell_type": "code",
   "execution_count": 71,
   "metadata": {
    "colab": {},
    "colab_type": "code",
    "id": "CTH6E6IcMVii"
   },
   "outputs": [],
   "source": [
    "invoice_customer_plant = invoice_customer_plant.loc[invoice_customer_plant['ServiceTime']>pd.Timedelta(hours=0),:]"
   ]
  },
  {
   "cell_type": "code",
   "execution_count": 72,
   "metadata": {
    "colab": {
     "base_uri": "https://localhost:8080/",
     "height": 297
    },
    "colab_type": "code",
    "id": "U3KP90vEMlNt",
    "outputId": "88cc928f-5fd9-4145-ceee-ca75a3e18d54"
   },
   "outputs": [
    {
     "data": {
      "text/html": [
       "<div>\n",
       "<style scoped>\n",
       "    .dataframe tbody tr th:only-of-type {\n",
       "        vertical-align: middle;\n",
       "    }\n",
       "\n",
       "    .dataframe tbody tr th {\n",
       "        vertical-align: top;\n",
       "    }\n",
       "\n",
       "    .dataframe thead th {\n",
       "        text-align: right;\n",
       "    }\n",
       "</style>\n",
       "<table border=\"1\" class=\"dataframe\">\n",
       "  <thead>\n",
       "    <tr style=\"text-align: right;\">\n",
       "      <th></th>\n",
       "      <th>ServiceTime</th>\n",
       "    </tr>\n",
       "  </thead>\n",
       "  <tbody>\n",
       "    <tr>\n",
       "      <th>count</th>\n",
       "      <td>255753</td>\n",
       "    </tr>\n",
       "    <tr>\n",
       "      <th>mean</th>\n",
       "      <td>4 days 06:36:09.997704812</td>\n",
       "    </tr>\n",
       "    <tr>\n",
       "      <th>std</th>\n",
       "      <td>12 days 18:05:21.754925484</td>\n",
       "    </tr>\n",
       "    <tr>\n",
       "      <th>min</th>\n",
       "      <td>0 days 00:00:36</td>\n",
       "    </tr>\n",
       "    <tr>\n",
       "      <th>25%</th>\n",
       "      <td>0 days 01:54:30</td>\n",
       "    </tr>\n",
       "    <tr>\n",
       "      <th>50%</th>\n",
       "      <td>0 days 08:08:21</td>\n",
       "    </tr>\n",
       "    <tr>\n",
       "      <th>75%</th>\n",
       "      <td>3 days 01:43:08</td>\n",
       "    </tr>\n",
       "    <tr>\n",
       "      <th>max</th>\n",
       "      <td>495 days 03:25:24</td>\n",
       "    </tr>\n",
       "  </tbody>\n",
       "</table>\n",
       "</div>"
      ],
      "text/plain": [
       "                      ServiceTime\n",
       "count                      255753\n",
       "mean    4 days 06:36:09.997704812\n",
       "std    12 days 18:05:21.754925484\n",
       "min               0 days 00:00:36\n",
       "25%               0 days 01:54:30\n",
       "50%               0 days 08:08:21\n",
       "75%               3 days 01:43:08\n",
       "max             495 days 03:25:24"
      ]
     },
     "execution_count": 72,
     "metadata": {},
     "output_type": "execute_result"
    }
   ],
   "source": [
    "invoice_customer_plant.loc[:, ['ServiceTime']].describe()"
   ]
  },
  {
   "cell_type": "code",
   "execution_count": 73,
   "metadata": {
    "colab": {},
    "colab_type": "code",
    "id": "DCfkzQkwMylP"
   },
   "outputs": [],
   "source": [
    "invoice_customer_plant['ServiceTime_category']=None\n",
    "invoice_customer_plant.loc[invoice_customer_plant['ServiceTime']<pd.Timedelta(hours=13),'ServiceTime_category']='super_fast'\n",
    "invoice_customer_plant.loc[(invoice_customer_plant['ServiceTime']>=pd.Timedelta(hours=13))&(invoice_customer_plant['ServiceTime']<pd.Timedelta(hours=36)),'ServiceTime_category']='fast'\n",
    "invoice_customer_plant.loc[(invoice_customer_plant['ServiceTime']>=pd.Timedelta(hours=36))&(invoice_customer_plant['ServiceTime']<pd.Timedelta(hours=61)),'ServiceTime_category']='mid'\n",
    "invoice_customer_plant.loc[(invoice_customer_plant['ServiceTime']>=pd.Timedelta(hours=61))&(invoice_customer_plant['ServiceTime']<pd.Timedelta(hours=84)),'ServiceTime_category']='slow'\n",
    "invoice_customer_plant.loc[invoice_customer_plant['ServiceTime']>=pd.Timedelta(hours=84),'ServiceTime_category']='super_slow'"
   ]
  },
  {
   "cell_type": "code",
   "execution_count": 74,
   "metadata": {
    "colab": {},
    "colab_type": "code",
    "id": "S8PxuX18OITq"
   },
   "outputs": [],
   "source": [
    "invoice_customer_plant.drop(columns=['Invoice Time', 'Invoice Date', 'Invoice No', 'JobCard Date', 'JobCard Time', 'KMs Reading', 'Make', 'Model', 'Pin code', 'Plant', 'Plant Name1', 'User ID', 'District', 'Name 1', 'Postal Code', 'CITY', 'State', 'Invoice Date Time', 'JobCard Date Time', 'ServiceTime'], inplace=True)"
   ]
  },
  {
   "cell_type": "code",
   "execution_count": 75,
   "metadata": {
    "colab": {
     "base_uri": "https://localhost:8080/",
     "height": 306
    },
    "colab_type": "code",
    "id": "3wOR3eEhN7iZ",
    "outputId": "286f982f-23fe-4ff1-f155-a02a15ed292d"
   },
   "outputs": [
    {
     "data": {
      "text/html": [
       "<div>\n",
       "<style scoped>\n",
       "    .dataframe tbody tr th:only-of-type {\n",
       "        vertical-align: middle;\n",
       "    }\n",
       "\n",
       "    .dataframe tbody tr th {\n",
       "        vertical-align: top;\n",
       "    }\n",
       "\n",
       "    .dataframe thead th {\n",
       "        text-align: right;\n",
       "    }\n",
       "</style>\n",
       "<table border=\"1\" class=\"dataframe\">\n",
       "  <thead>\n",
       "    <tr style=\"text-align: right;\">\n",
       "      <th></th>\n",
       "      <th>Cust Type</th>\n",
       "      <th>Customer No.</th>\n",
       "      <th>Job Card No</th>\n",
       "      <th>Labour Total</th>\n",
       "      <th>Misc Total</th>\n",
       "      <th>OSL Total</th>\n",
       "      <th>Order Type</th>\n",
       "      <th>Parts Total</th>\n",
       "      <th>Regn No</th>\n",
       "      <th>Total Amt Wtd Tax.</th>\n",
       "      <th>Partner Type</th>\n",
       "      <th>Data Origin</th>\n",
       "      <th>Title</th>\n",
       "      <th>City</th>\n",
       "      <th>ServiceTime_category</th>\n",
       "    </tr>\n",
       "  </thead>\n",
       "  <tbody>\n",
       "    <tr>\n",
       "      <th>0</th>\n",
       "      <td>Retail</td>\n",
       "      <td>80479</td>\n",
       "      <td>227460</td>\n",
       "      <td>1802.05</td>\n",
       "      <td>0.0</td>\n",
       "      <td>0.0</td>\n",
       "      <td>Paid Service</td>\n",
       "      <td>399.73</td>\n",
       "      <td>MH03AB0789</td>\n",
       "      <td>2201.78</td>\n",
       "      <td>1.0</td>\n",
       "      <td>Z010</td>\n",
       "      <td>2.0</td>\n",
       "      <td>Thane</td>\n",
       "      <td>super_fast</td>\n",
       "    </tr>\n",
       "    <tr>\n",
       "      <th>1</th>\n",
       "      <td>Retail</td>\n",
       "      <td>E15810</td>\n",
       "      <td>413455</td>\n",
       "      <td>2874.80</td>\n",
       "      <td>0.0</td>\n",
       "      <td>0.0</td>\n",
       "      <td>Running Repairs</td>\n",
       "      <td>3151.06</td>\n",
       "      <td>MH04CT295</td>\n",
       "      <td>6025.86</td>\n",
       "      <td>1.0</td>\n",
       "      <td>Z001</td>\n",
       "      <td>2.0</td>\n",
       "      <td>Thane</td>\n",
       "      <td>mid</td>\n",
       "    </tr>\n",
       "    <tr>\n",
       "      <th>2</th>\n",
       "      <td>Retail</td>\n",
       "      <td>E15810</td>\n",
       "      <td>446448</td>\n",
       "      <td>2799.96</td>\n",
       "      <td>0.0</td>\n",
       "      <td>0.0</td>\n",
       "      <td>Running Repairs</td>\n",
       "      <td>664.04</td>\n",
       "      <td>MH04CT295</td>\n",
       "      <td>3464.00</td>\n",
       "      <td>1.0</td>\n",
       "      <td>Z001</td>\n",
       "      <td>2.0</td>\n",
       "      <td>Thane</td>\n",
       "      <td>super_slow</td>\n",
       "    </tr>\n",
       "    <tr>\n",
       "      <th>3</th>\n",
       "      <td>Retail</td>\n",
       "      <td>73857</td>\n",
       "      <td>487708</td>\n",
       "      <td>554.95</td>\n",
       "      <td>0.0</td>\n",
       "      <td>0.0</td>\n",
       "      <td>Running Repairs</td>\n",
       "      <td>1510.80</td>\n",
       "      <td>MH43AN1186</td>\n",
       "      <td>2065.75</td>\n",
       "      <td>1.0</td>\n",
       "      <td>Z001</td>\n",
       "      <td>2.0</td>\n",
       "      <td>Thane</td>\n",
       "      <td>super_slow</td>\n",
       "    </tr>\n",
       "    <tr>\n",
       "      <th>4</th>\n",
       "      <td>Retail</td>\n",
       "      <td>E25519</td>\n",
       "      <td>220109</td>\n",
       "      <td>75.02</td>\n",
       "      <td>0.0</td>\n",
       "      <td>0.0</td>\n",
       "      <td>Running Repairs</td>\n",
       "      <td>578.43</td>\n",
       "      <td>MH04DN6210</td>\n",
       "      <td>653.45</td>\n",
       "      <td>1.0</td>\n",
       "      <td>Z001</td>\n",
       "      <td>2.0</td>\n",
       "      <td>Thane</td>\n",
       "      <td>super_fast</td>\n",
       "    </tr>\n",
       "  </tbody>\n",
       "</table>\n",
       "</div>"
      ],
      "text/plain": [
       "  Cust Type Customer No.  Job Card No  Labour Total  Misc Total  OSL Total  \\\n",
       "0    Retail        80479       227460       1802.05         0.0        0.0   \n",
       "1    Retail       E15810       413455       2874.80         0.0        0.0   \n",
       "2    Retail       E15810       446448       2799.96         0.0        0.0   \n",
       "3    Retail        73857       487708        554.95         0.0        0.0   \n",
       "4    Retail       E25519       220109         75.02         0.0        0.0   \n",
       "\n",
       "        Order Type  Parts Total     Regn No  Total Amt Wtd Tax.  Partner Type  \\\n",
       "0     Paid Service       399.73  MH03AB0789             2201.78           1.0   \n",
       "1  Running Repairs      3151.06   MH04CT295             6025.86           1.0   \n",
       "2  Running Repairs       664.04   MH04CT295             3464.00           1.0   \n",
       "3  Running Repairs      1510.80  MH43AN1186             2065.75           1.0   \n",
       "4  Running Repairs       578.43  MH04DN6210              653.45           1.0   \n",
       "\n",
       "  Data Origin  Title   City ServiceTime_category  \n",
       "0        Z010    2.0  Thane           super_fast  \n",
       "1        Z001    2.0  Thane                  mid  \n",
       "2        Z001    2.0  Thane           super_slow  \n",
       "3        Z001    2.0  Thane           super_slow  \n",
       "4        Z001    2.0  Thane           super_fast  "
      ]
     },
     "execution_count": 75,
     "metadata": {},
     "output_type": "execute_result"
    }
   ],
   "source": [
    "invoice_customer_plant.head()"
   ]
  },
  {
   "cell_type": "markdown",
   "metadata": {
    "colab_type": "text",
    "id": "O5KHCG7zWRcI"
   },
   "source": [
    "**Merge Jtd grouped and invoice_customer_vehicles_plant csv**"
   ]
  },
  {
   "cell_type": "code",
   "execution_count": 76,
   "metadata": {
    "colab": {
     "base_uri": "https://localhost:8080/",
     "height": 34
    },
    "colab_type": "code",
    "id": "0E_cdhobWQ0N",
    "outputId": "fe9ff9f7-9766-470e-992a-650a926f469f"
   },
   "outputs": [
    {
     "data": {
      "text/plain": [
       "(253199, 973473)"
      ]
     },
     "execution_count": 76,
     "metadata": {},
     "output_type": "execute_result"
    }
   ],
   "source": [
    "len(invoice_customer_plant['Job Card No'].unique()), len(jtd_grouped['DBM Order'].unique())"
   ]
  },
  {
   "cell_type": "code",
   "execution_count": 77,
   "metadata": {
    "colab": {},
    "colab_type": "code",
    "id": "udvRZHfDWp5-"
   },
   "outputs": [],
   "source": [
    "invoice_customer_plant_jtd = pd.merge(invoice_customer_plant, jtd_grouped, left_on='Job Card No', right_on='DBM Order').drop('DBM Order', axis=1)"
   ]
  },
  {
   "cell_type": "code",
   "execution_count": 78,
   "metadata": {
    "colab": {
     "base_uri": "https://localhost:8080/",
     "height": 34
    },
    "colab_type": "code",
    "id": "FyDVAUPjW-wd",
    "outputId": "3416f3b9-edae-44b8-ad27-a84beef808d8"
   },
   "outputs": [
    {
     "data": {
      "text/plain": [
       "(255714, 19)"
      ]
     },
     "execution_count": 78,
     "metadata": {},
     "output_type": "execute_result"
    }
   ],
   "source": [
    "invoice_customer_plant_jtd.shape"
   ]
  },
  {
   "cell_type": "code",
   "execution_count": 79,
   "metadata": {
    "colab": {
     "base_uri": "https://localhost:8080/",
     "height": 236
    },
    "colab_type": "code",
    "id": "s7Ch81IYXFHW",
    "outputId": "e88aa636-0717-40e7-94c7-8ca5099ec12d"
   },
   "outputs": [
    {
     "data": {
      "text/html": [
       "<div>\n",
       "<style scoped>\n",
       "    .dataframe tbody tr th:only-of-type {\n",
       "        vertical-align: middle;\n",
       "    }\n",
       "\n",
       "    .dataframe tbody tr th {\n",
       "        vertical-align: top;\n",
       "    }\n",
       "\n",
       "    .dataframe thead th {\n",
       "        text-align: right;\n",
       "    }\n",
       "</style>\n",
       "<table border=\"1\" class=\"dataframe\">\n",
       "  <thead>\n",
       "    <tr style=\"text-align: right;\">\n",
       "      <th></th>\n",
       "      <th>Cust Type</th>\n",
       "      <th>Customer No.</th>\n",
       "      <th>Job Card No</th>\n",
       "      <th>Labour Total</th>\n",
       "      <th>Misc Total</th>\n",
       "      <th>OSL Total</th>\n",
       "      <th>Order Type</th>\n",
       "      <th>Parts Total</th>\n",
       "      <th>Regn No</th>\n",
       "      <th>Total Amt Wtd Tax.</th>\n",
       "      <th>Partner Type</th>\n",
       "      <th>Data Origin</th>\n",
       "      <th>Title</th>\n",
       "      <th>City</th>\n",
       "      <th>ServiceTime_category</th>\n",
       "      <th>Description</th>\n",
       "      <th>Item_Category</th>\n",
       "      <th>Order_Quantity</th>\n",
       "      <th>Net_Value</th>\n",
       "    </tr>\n",
       "  </thead>\n",
       "  <tbody>\n",
       "    <tr>\n",
       "      <th>0</th>\n",
       "      <td>Retail</td>\n",
       "      <td>80479</td>\n",
       "      <td>227460</td>\n",
       "      <td>1802.05</td>\n",
       "      <td>0.0</td>\n",
       "      <td>0.0</td>\n",
       "      <td>Paid Service</td>\n",
       "      <td>399.73</td>\n",
       "      <td>MH03AB0789</td>\n",
       "      <td>2201.78</td>\n",
       "      <td>1.0</td>\n",
       "      <td>Z010</td>\n",
       "      <td>2.0</td>\n",
       "      <td>Thane</td>\n",
       "      <td>super_fast</td>\n",
       "      <td>REPLACE HEADLIGHT HOLDER (EACH), INSULATION TA...</td>\n",
       "      <td>P001, P002</td>\n",
       "      <td>45.5</td>\n",
       "      <td>2201.78</td>\n",
       "    </tr>\n",
       "    <tr>\n",
       "      <th>1</th>\n",
       "      <td>Retail</td>\n",
       "      <td>E15810</td>\n",
       "      <td>413455</td>\n",
       "      <td>2874.80</td>\n",
       "      <td>0.0</td>\n",
       "      <td>0.0</td>\n",
       "      <td>Running Repairs</td>\n",
       "      <td>3151.06</td>\n",
       "      <td>MH04CT295</td>\n",
       "      <td>6025.86</td>\n",
       "      <td>1.0</td>\n",
       "      <td>Z001</td>\n",
       "      <td>2.0</td>\n",
       "      <td>Thane</td>\n",
       "      <td>mid</td>\n",
       "      <td>OIL FILTER-SPIN ON PETROL, CLIP, BRAKE PAD SWI...</td>\n",
       "      <td>P001, P002</td>\n",
       "      <td>202.5</td>\n",
       "      <td>6025.86</td>\n",
       "    </tr>\n",
       "    <tr>\n",
       "      <th>2</th>\n",
       "      <td>Retail</td>\n",
       "      <td>E15810</td>\n",
       "      <td>446448</td>\n",
       "      <td>2799.96</td>\n",
       "      <td>0.0</td>\n",
       "      <td>0.0</td>\n",
       "      <td>Running Repairs</td>\n",
       "      <td>664.04</td>\n",
       "      <td>MH04CT295</td>\n",
       "      <td>3464.00</td>\n",
       "      <td>1.0</td>\n",
       "      <td>Z001</td>\n",
       "      <td>2.0</td>\n",
       "      <td>Thane</td>\n",
       "      <td>super_slow</td>\n",
       "      <td>MISC LABOR 0.5 HOURS, REPLACE CAMSHAFT OIL SEA...</td>\n",
       "      <td>P001, P002</td>\n",
       "      <td>189.0</td>\n",
       "      <td>3464.00</td>\n",
       "    </tr>\n",
       "    <tr>\n",
       "      <th>3</th>\n",
       "      <td>Retail</td>\n",
       "      <td>73857</td>\n",
       "      <td>487708</td>\n",
       "      <td>554.95</td>\n",
       "      <td>0.0</td>\n",
       "      <td>0.0</td>\n",
       "      <td>Running Repairs</td>\n",
       "      <td>1510.80</td>\n",
       "      <td>MH43AN1186</td>\n",
       "      <td>2065.75</td>\n",
       "      <td>1.0</td>\n",
       "      <td>Z001</td>\n",
       "      <td>2.0</td>\n",
       "      <td>Thane</td>\n",
       "      <td>super_slow</td>\n",
       "      <td>Paid Service-Minor, OIL FILTER VENTO, MFC PROL...</td>\n",
       "      <td>P001, P002</td>\n",
       "      <td>7.0</td>\n",
       "      <td>2065.75</td>\n",
       "    </tr>\n",
       "    <tr>\n",
       "      <th>4</th>\n",
       "      <td>Retail</td>\n",
       "      <td>E25519</td>\n",
       "      <td>220109</td>\n",
       "      <td>75.02</td>\n",
       "      <td>0.0</td>\n",
       "      <td>0.0</td>\n",
       "      <td>Running Repairs</td>\n",
       "      <td>578.43</td>\n",
       "      <td>MH04DN6210</td>\n",
       "      <td>653.45</td>\n",
       "      <td>1.0</td>\n",
       "      <td>Z001</td>\n",
       "      <td>2.0</td>\n",
       "      <td>Thane</td>\n",
       "      <td>super_fast</td>\n",
       "      <td>REMOVE &amp; REFIT WIPER BLADE REAR, WIPER T, NOZZ...</td>\n",
       "      <td>P001, P002</td>\n",
       "      <td>13.0</td>\n",
       "      <td>653.45</td>\n",
       "    </tr>\n",
       "  </tbody>\n",
       "</table>\n",
       "</div>"
      ],
      "text/plain": [
       "  Cust Type Customer No.  Job Card No  Labour Total  Misc Total  OSL Total  \\\n",
       "0    Retail        80479       227460       1802.05         0.0        0.0   \n",
       "1    Retail       E15810       413455       2874.80         0.0        0.0   \n",
       "2    Retail       E15810       446448       2799.96         0.0        0.0   \n",
       "3    Retail        73857       487708        554.95         0.0        0.0   \n",
       "4    Retail       E25519       220109         75.02         0.0        0.0   \n",
       "\n",
       "        Order Type  Parts Total     Regn No  Total Amt Wtd Tax.  Partner Type  \\\n",
       "0     Paid Service       399.73  MH03AB0789             2201.78           1.0   \n",
       "1  Running Repairs      3151.06   MH04CT295             6025.86           1.0   \n",
       "2  Running Repairs       664.04   MH04CT295             3464.00           1.0   \n",
       "3  Running Repairs      1510.80  MH43AN1186             2065.75           1.0   \n",
       "4  Running Repairs       578.43  MH04DN6210              653.45           1.0   \n",
       "\n",
       "  Data Origin  Title   City ServiceTime_category  \\\n",
       "0        Z010    2.0  Thane           super_fast   \n",
       "1        Z001    2.0  Thane                  mid   \n",
       "2        Z001    2.0  Thane           super_slow   \n",
       "3        Z001    2.0  Thane           super_slow   \n",
       "4        Z001    2.0  Thane           super_fast   \n",
       "\n",
       "                                         Description Item_Category  \\\n",
       "0  REPLACE HEADLIGHT HOLDER (EACH), INSULATION TA...    P001, P002   \n",
       "1  OIL FILTER-SPIN ON PETROL, CLIP, BRAKE PAD SWI...    P001, P002   \n",
       "2  MISC LABOR 0.5 HOURS, REPLACE CAMSHAFT OIL SEA...    P001, P002   \n",
       "3  Paid Service-Minor, OIL FILTER VENTO, MFC PROL...    P001, P002   \n",
       "4  REMOVE & REFIT WIPER BLADE REAR, WIPER T, NOZZ...    P001, P002   \n",
       "\n",
       "   Order_Quantity  Net_Value  \n",
       "0            45.5    2201.78  \n",
       "1           202.5    6025.86  \n",
       "2           189.0    3464.00  \n",
       "3             7.0    2065.75  \n",
       "4            13.0     653.45  "
      ]
     },
     "execution_count": 79,
     "metadata": {},
     "output_type": "execute_result"
    }
   ],
   "source": [
    "invoice_customer_plant_jtd.head(5)"
   ]
  },
  {
   "cell_type": "code",
   "execution_count": 80,
   "metadata": {
    "colab": {},
    "colab_type": "code",
    "id": "t051xCzjO7Q0"
   },
   "outputs": [],
   "source": [
    "aggregation_by_customer_no = {'Cust Type' : lambda x: str(set(x)).strip(\"{}\").replace(\"'\",\"\"),\n",
    "                              'Labour Total':'sum',\n",
    "                              'Misc Total':'sum',\n",
    "                              'OSL Total':'sum',\n",
    "                              'Order Type' : lambda x: str(set(x)).strip(\"{}\").replace(\"'\",\"\"),\n",
    "                              'Parts Total' : 'sum',\n",
    "                              'Total Amt Wtd Tax.' : 'sum',\n",
    "                              'Partner Type': 'nunique',\n",
    "                              'Data Origin' : lambda x: str(set(x)).strip(\"{}\").replace(\"'\",\"\"),\n",
    "                              'Title' : 'nunique',\n",
    "                              'City' : lambda x: str(set(x)).strip(\"{}\").replace(\"'\",\"\"),\n",
    "                              'ServiceTime_category' : lambda x: str(set(x)).strip(\"{}\").replace(\"'\",\"\"),\n",
    "                              'Description' : lambda x: str(set(x)).strip(\"{}\").replace(\"'\",\"\"),\n",
    "                              'Item_Category' : lambda x: str(set(x)).strip(\"{}\").replace(\"'\",\"\"),\n",
    "                              'Order_Quantity' : 'sum',\n",
    "                              'Net_Value' : 'sum'}"
   ]
  },
  {
   "cell_type": "code",
   "execution_count": 81,
   "metadata": {
    "colab": {},
    "colab_type": "code",
    "id": "oNfPf9f8d5A9"
   },
   "outputs": [],
   "source": [
    "invoice_grouped_data = invoice_customer_plant_jtd.groupby('Customer No.').agg(aggregation_by_customer_no).reset_index()"
   ]
  },
  {
   "cell_type": "code",
   "execution_count": 82,
   "metadata": {
    "colab": {
     "base_uri": "https://localhost:8080/",
     "height": 34
    },
    "colab_type": "code",
    "id": "d67Au_xWeDlg",
    "outputId": "4c45a04e-ac2a-48bf-bfb2-5c77a4c33310"
   },
   "outputs": [
    {
     "data": {
      "text/plain": [
       "(153785, 17)"
      ]
     },
     "execution_count": 82,
     "metadata": {},
     "output_type": "execute_result"
    }
   ],
   "source": [
    "invoice_grouped_data.shape"
   ]
  },
  {
   "cell_type": "code",
   "execution_count": 83,
   "metadata": {
    "colab": {
     "base_uri": "https://localhost:8080/",
     "height": 236
    },
    "colab_type": "code",
    "id": "7NW0bR7PiIS2",
    "outputId": "9b45e5df-fcc7-46f4-a24a-0e73f10b5676"
   },
   "outputs": [
    {
     "data": {
      "text/html": [
       "<div>\n",
       "<style scoped>\n",
       "    .dataframe tbody tr th:only-of-type {\n",
       "        vertical-align: middle;\n",
       "    }\n",
       "\n",
       "    .dataframe tbody tr th {\n",
       "        vertical-align: top;\n",
       "    }\n",
       "\n",
       "    .dataframe thead th {\n",
       "        text-align: right;\n",
       "    }\n",
       "</style>\n",
       "<table border=\"1\" class=\"dataframe\">\n",
       "  <thead>\n",
       "    <tr style=\"text-align: right;\">\n",
       "      <th></th>\n",
       "      <th>Customer No.</th>\n",
       "      <th>Cust Type</th>\n",
       "      <th>Labour Total</th>\n",
       "      <th>Misc Total</th>\n",
       "      <th>OSL Total</th>\n",
       "      <th>Order Type</th>\n",
       "      <th>Parts Total</th>\n",
       "      <th>Total Amt Wtd Tax.</th>\n",
       "      <th>Partner Type</th>\n",
       "      <th>Data Origin</th>\n",
       "      <th>Title</th>\n",
       "      <th>City</th>\n",
       "      <th>ServiceTime_category</th>\n",
       "      <th>Description</th>\n",
       "      <th>Item_Category</th>\n",
       "      <th>Order_Quantity</th>\n",
       "      <th>Net_Value</th>\n",
       "    </tr>\n",
       "  </thead>\n",
       "  <tbody>\n",
       "    <tr>\n",
       "      <th>0</th>\n",
       "      <td>100001</td>\n",
       "      <td>Retail</td>\n",
       "      <td>3429.34</td>\n",
       "      <td>0.0</td>\n",
       "      <td>0.0</td>\n",
       "      <td>Running Repairs, Accidental</td>\n",
       "      <td>834.41</td>\n",
       "      <td>4263.75</td>\n",
       "      <td>1</td>\n",
       "      <td>Z005</td>\n",
       "      <td>1</td>\n",
       "      <td>Pune</td>\n",
       "      <td>super_slow, super_fast, mid</td>\n",
       "      <td>TIE CLIP, ARALDITE (13GM), M - SEAL / BOND TIT...</td>\n",
       "      <td>P001, P002, P002, P001, P001</td>\n",
       "      <td>1208.2</td>\n",
       "      <td>4263.75</td>\n",
       "    </tr>\n",
       "    <tr>\n",
       "      <th>1</th>\n",
       "      <td>100003</td>\n",
       "      <td>Retail</td>\n",
       "      <td>0.00</td>\n",
       "      <td>0.0</td>\n",
       "      <td>0.0</td>\n",
       "      <td>Accidental</td>\n",
       "      <td>0.00</td>\n",
       "      <td>0.00</td>\n",
       "      <td>1</td>\n",
       "      <td>Z005</td>\n",
       "      <td>1</td>\n",
       "      <td>Shirur</td>\n",
       "      <td>super_fast</td>\n",
       "      <td>nan</td>\n",
       "      <td>G2TX</td>\n",
       "      <td>0.0</td>\n",
       "      <td>0.00</td>\n",
       "    </tr>\n",
       "    <tr>\n",
       "      <th>2</th>\n",
       "      <td>100004</td>\n",
       "      <td>Retail</td>\n",
       "      <td>249.22</td>\n",
       "      <td>0.0</td>\n",
       "      <td>0.0</td>\n",
       "      <td>Running Repairs</td>\n",
       "      <td>0.00</td>\n",
       "      <td>249.22</td>\n",
       "      <td>1</td>\n",
       "      <td>Z005</td>\n",
       "      <td>1</td>\n",
       "      <td>Boripardhi</td>\n",
       "      <td>super_fast</td>\n",
       "      <td>WASHING</td>\n",
       "      <td>P001</td>\n",
       "      <td>84.0</td>\n",
       "      <td>249.22</td>\n",
       "    </tr>\n",
       "    <tr>\n",
       "      <th>3</th>\n",
       "      <td>100006</td>\n",
       "      <td>Retail</td>\n",
       "      <td>1223.71</td>\n",
       "      <td>0.0</td>\n",
       "      <td>0.0</td>\n",
       "      <td>Paid Service</td>\n",
       "      <td>0.00</td>\n",
       "      <td>1223.71</td>\n",
       "      <td>1</td>\n",
       "      <td>Z006</td>\n",
       "      <td>1</td>\n",
       "      <td>Abohar</td>\n",
       "      <td>mid</td>\n",
       "      <td>TOPUP A/C GAS</td>\n",
       "      <td>P001</td>\n",
       "      <td>288.0</td>\n",
       "      <td>1223.71</td>\n",
       "    </tr>\n",
       "    <tr>\n",
       "      <th>4</th>\n",
       "      <td>100007</td>\n",
       "      <td>Retail</td>\n",
       "      <td>11031.37</td>\n",
       "      <td>0.0</td>\n",
       "      <td>0.0</td>\n",
       "      <td>Paid Service, Running Repairs</td>\n",
       "      <td>35257.27</td>\n",
       "      <td>46288.64</td>\n",
       "      <td>1</td>\n",
       "      <td>Z005</td>\n",
       "      <td>1</td>\n",
       "      <td>Tirupur</td>\n",
       "      <td>fast, super_fast, mid</td>\n",
       "      <td>BLEEDING CLUTCH, BATTERY, BEARING-CLUTCH RELEA...</td>\n",
       "      <td>P001, P002, P001</td>\n",
       "      <td>478.0</td>\n",
       "      <td>46288.64</td>\n",
       "    </tr>\n",
       "  </tbody>\n",
       "</table>\n",
       "</div>"
      ],
      "text/plain": [
       "  Customer No. Cust Type  Labour Total  Misc Total  OSL Total  \\\n",
       "0       100001    Retail       3429.34         0.0        0.0   \n",
       "1       100003    Retail          0.00         0.0        0.0   \n",
       "2       100004    Retail        249.22         0.0        0.0   \n",
       "3       100006    Retail       1223.71         0.0        0.0   \n",
       "4       100007    Retail      11031.37         0.0        0.0   \n",
       "\n",
       "                      Order Type  Parts Total  Total Amt Wtd Tax.  \\\n",
       "0    Running Repairs, Accidental       834.41             4263.75   \n",
       "1                     Accidental         0.00                0.00   \n",
       "2                Running Repairs         0.00              249.22   \n",
       "3                   Paid Service         0.00             1223.71   \n",
       "4  Paid Service, Running Repairs     35257.27            46288.64   \n",
       "\n",
       "   Partner Type Data Origin  Title        City         ServiceTime_category  \\\n",
       "0             1        Z005      1        Pune  super_slow, super_fast, mid   \n",
       "1             1        Z005      1      Shirur                   super_fast   \n",
       "2             1        Z005      1  Boripardhi                   super_fast   \n",
       "3             1        Z006      1      Abohar                          mid   \n",
       "4             1        Z005      1     Tirupur        fast, super_fast, mid   \n",
       "\n",
       "                                         Description  \\\n",
       "0  TIE CLIP, ARALDITE (13GM), M - SEAL / BOND TIT...   \n",
       "1                                                nan   \n",
       "2                                            WASHING   \n",
       "3                                      TOPUP A/C GAS   \n",
       "4  BLEEDING CLUTCH, BATTERY, BEARING-CLUTCH RELEA...   \n",
       "\n",
       "                  Item_Category  Order_Quantity  Net_Value  \n",
       "0  P001, P002, P002, P001, P001          1208.2    4263.75  \n",
       "1                          G2TX             0.0       0.00  \n",
       "2                          P001            84.0     249.22  \n",
       "3                          P001           288.0    1223.71  \n",
       "4              P001, P002, P001           478.0   46288.64  "
      ]
     },
     "execution_count": 83,
     "metadata": {},
     "output_type": "execute_result"
    }
   ],
   "source": [
    "invoice_grouped_data.head(5)"
   ]
  },
  {
   "cell_type": "code",
   "execution_count": 84,
   "metadata": {
    "colab": {
     "base_uri": "https://localhost:8080/",
     "height": 34
    },
    "colab_type": "code",
    "id": "iEvlPQMNlWvN",
    "outputId": "cb021b08-df97-4db6-ddb7-74a4fd729b24"
   },
   "outputs": [
    {
     "data": {
      "text/plain": [
       "'Mechanical,Paid Service,Running Repairs'"
      ]
     },
     "execution_count": 84,
     "metadata": {},
     "output_type": "execute_result"
    }
   ],
   "source": [
    "','.join(sorted([w.strip(' ') for w in invoice_grouped_data['Order Type'].iloc[50].split(',')]))\n"
   ]
  },
  {
   "cell_type": "code",
   "execution_count": 85,
   "metadata": {
    "colab": {},
    "colab_type": "code",
    "id": "QdxLZ6HDoc4A"
   },
   "outputs": [],
   "source": [
    "invoice_grouped_data['Order Type'] = invoice_grouped_data['Order Type'].apply(lambda x: ','.join(sorted([w.strip(' ') for w in x.split(',')])))"
   ]
  },
  {
   "cell_type": "code",
   "execution_count": 86,
   "metadata": {
    "colab": {},
    "colab_type": "code",
    "id": "5rYE0tpxzV1n"
   },
   "outputs": [],
   "source": [
    "freq_used_services = ['Running Repairs','Paid Service', 'Paid Service,Running Repairs', 'Accidental']"
   ]
  },
  {
   "cell_type": "code",
   "execution_count": 87,
   "metadata": {
    "colab": {},
    "colab_type": "code",
    "id": "QSdIIicb1XQe"
   },
   "outputs": [],
   "source": [
    "invoice_grouped_data['Order Type'] = invoice_grouped_data['Order Type'].apply(lambda order: 'Others' if order not in freq_used_services else order)"
   ]
  },
  {
   "cell_type": "code",
   "execution_count": 88,
   "metadata": {
    "colab": {
     "base_uri": "https://localhost:8080/",
     "height": 119
    },
    "colab_type": "code",
    "id": "N4LF2rH1wQFy",
    "outputId": "28c04287-36b7-4861-f1a5-62b66ad7dedd"
   },
   "outputs": [
    {
     "data": {
      "text/plain": [
       "Running Repairs                 47.278993\n",
       "Paid Service                    24.318367\n",
       "Others                          13.859609\n",
       "Paid Service,Running Repairs     9.044445\n",
       "Accidental                       5.498586\n",
       "Name: Order Type, dtype: float64"
      ]
     },
     "execution_count": 88,
     "metadata": {},
     "output_type": "execute_result"
    }
   ],
   "source": [
    "(invoice_grouped_data['Order Type'].value_counts()/len(invoice_grouped_data['Order Type']))*100"
   ]
  },
  {
   "cell_type": "code",
   "execution_count": 89,
   "metadata": {
    "colab": {},
    "colab_type": "code",
    "id": "MpgXFW__3utp"
   },
   "outputs": [],
   "source": [
    "most_freq_data_origin = (invoice_grouped_data['Data Origin'].value_counts()/len(invoice_grouped_data['Data Origin'])).iloc[0:7].index"
   ]
  },
  {
   "cell_type": "code",
   "execution_count": 90,
   "metadata": {
    "colab": {},
    "colab_type": "code",
    "id": "GSGWJdsJoLR2"
   },
   "outputs": [],
   "source": [
    "invoice_grouped_data['Data Origin'] = invoice_grouped_data['Data Origin'].apply(lambda x: 'Others' if x not in most_freq_data_origin else x)"
   ]
  },
  {
   "cell_type": "code",
   "execution_count": 91,
   "metadata": {
    "colab": {
     "base_uri": "https://localhost:8080/",
     "height": 170
    },
    "colab_type": "code",
    "id": "O1iDKD7P4nAa",
    "outputId": "6c412ad1-5afb-4c22-fc7c-f7179c61b965"
   },
   "outputs": [
    {
     "data": {
      "text/plain": [
       "Z006      24.837273\n",
       "Z005      24.239035\n",
       "Others    14.944240\n",
       "Z001       9.709009\n",
       "Z002       7.928602\n",
       "Z019       6.643041\n",
       "Z021       6.005787\n",
       "Z004       5.693013\n",
       "Name: Data Origin, dtype: float64"
      ]
     },
     "execution_count": 91,
     "metadata": {},
     "output_type": "execute_result"
    }
   ],
   "source": [
    "(invoice_grouped_data['Data Origin'].value_counts()/len(invoice_grouped_data['Data Origin']))*100"
   ]
  },
  {
   "cell_type": "code",
   "execution_count": 92,
   "metadata": {
    "colab": {},
    "colab_type": "code",
    "id": "vLJjGNsT546B"
   },
   "outputs": [],
   "source": [
    "most_freq_service_type = ((invoice_grouped_data['ServiceTime_category'].value_counts()/len(invoice_grouped_data['ServiceTime_category']))*100).iloc[0:11]"
   ]
  },
  {
   "cell_type": "code",
   "execution_count": 93,
   "metadata": {
    "colab": {},
    "colab_type": "code",
    "id": "efQKpAss7GDh"
   },
   "outputs": [],
   "source": [
    "invoice_grouped_data['ServiceTime_category'] = invoice_grouped_data['ServiceTime_category'].apply(lambda x: 'Others' if x not in most_freq_service_type else x )"
   ]
  },
  {
   "cell_type": "code",
   "execution_count": 94,
   "metadata": {
    "colab": {
     "base_uri": "https://localhost:8080/",
     "height": 238
    },
    "colab_type": "code",
    "id": "1W-Rcr5q7RWV",
    "outputId": "bb01e2cf-6fbf-4d94-b19b-6b482d16bb91"
   },
   "outputs": [
    {
     "data": {
      "text/plain": [
       "super_fast                      43.665507\n",
       "super_slow                      17.587541\n",
       "fast                             9.323406\n",
       "Others                           6.568261\n",
       "super_slow, super_fast           5.056410\n",
       "mid                              5.002438\n",
       "fast, super_fast                 3.923660\n",
       "slow                             3.170660\n",
       "super_fast, mid                  1.785610\n",
       "super_slow, fast                 1.515102\n",
       "super_slow, fast, super_fast     1.406509\n",
       "super_fast, slow                 0.994895\n",
       "Name: ServiceTime_category, dtype: float64"
      ]
     },
     "execution_count": 94,
     "metadata": {},
     "output_type": "execute_result"
    }
   ],
   "source": [
    "((invoice_grouped_data['ServiceTime_category'].value_counts()/len(invoice_grouped_data['ServiceTime_category']))*100)"
   ]
  },
  {
   "cell_type": "code",
   "execution_count": 95,
   "metadata": {
    "colab": {
     "base_uri": "https://localhost:8080/",
     "height": 236
    },
    "colab_type": "code",
    "id": "vkkVOX1a8FAK",
    "outputId": "d1dffc42-81b9-4592-d656-704f29df6532"
   },
   "outputs": [
    {
     "data": {
      "text/html": [
       "<div>\n",
       "<style scoped>\n",
       "    .dataframe tbody tr th:only-of-type {\n",
       "        vertical-align: middle;\n",
       "    }\n",
       "\n",
       "    .dataframe tbody tr th {\n",
       "        vertical-align: top;\n",
       "    }\n",
       "\n",
       "    .dataframe thead th {\n",
       "        text-align: right;\n",
       "    }\n",
       "</style>\n",
       "<table border=\"1\" class=\"dataframe\">\n",
       "  <thead>\n",
       "    <tr style=\"text-align: right;\">\n",
       "      <th></th>\n",
       "      <th>Customer No.</th>\n",
       "      <th>Cust Type</th>\n",
       "      <th>Labour Total</th>\n",
       "      <th>Misc Total</th>\n",
       "      <th>OSL Total</th>\n",
       "      <th>Order Type</th>\n",
       "      <th>Parts Total</th>\n",
       "      <th>Total Amt Wtd Tax.</th>\n",
       "      <th>Partner Type</th>\n",
       "      <th>Data Origin</th>\n",
       "      <th>Title</th>\n",
       "      <th>City</th>\n",
       "      <th>ServiceTime_category</th>\n",
       "      <th>Description</th>\n",
       "      <th>Item_Category</th>\n",
       "      <th>Order_Quantity</th>\n",
       "      <th>Net_Value</th>\n",
       "    </tr>\n",
       "  </thead>\n",
       "  <tbody>\n",
       "    <tr>\n",
       "      <th>0</th>\n",
       "      <td>100001</td>\n",
       "      <td>Retail</td>\n",
       "      <td>3429.34</td>\n",
       "      <td>0.0</td>\n",
       "      <td>0.0</td>\n",
       "      <td>Others</td>\n",
       "      <td>834.41</td>\n",
       "      <td>4263.75</td>\n",
       "      <td>1</td>\n",
       "      <td>Z005</td>\n",
       "      <td>1</td>\n",
       "      <td>Pune</td>\n",
       "      <td>Others</td>\n",
       "      <td>TIE CLIP, ARALDITE (13GM), M - SEAL / BOND TIT...</td>\n",
       "      <td>P001, P002, P002, P001, P001</td>\n",
       "      <td>1208.2</td>\n",
       "      <td>4263.75</td>\n",
       "    </tr>\n",
       "    <tr>\n",
       "      <th>1</th>\n",
       "      <td>100003</td>\n",
       "      <td>Retail</td>\n",
       "      <td>0.00</td>\n",
       "      <td>0.0</td>\n",
       "      <td>0.0</td>\n",
       "      <td>Accidental</td>\n",
       "      <td>0.00</td>\n",
       "      <td>0.00</td>\n",
       "      <td>1</td>\n",
       "      <td>Z005</td>\n",
       "      <td>1</td>\n",
       "      <td>Shirur</td>\n",
       "      <td>super_fast</td>\n",
       "      <td>nan</td>\n",
       "      <td>G2TX</td>\n",
       "      <td>0.0</td>\n",
       "      <td>0.00</td>\n",
       "    </tr>\n",
       "    <tr>\n",
       "      <th>2</th>\n",
       "      <td>100004</td>\n",
       "      <td>Retail</td>\n",
       "      <td>249.22</td>\n",
       "      <td>0.0</td>\n",
       "      <td>0.0</td>\n",
       "      <td>Running Repairs</td>\n",
       "      <td>0.00</td>\n",
       "      <td>249.22</td>\n",
       "      <td>1</td>\n",
       "      <td>Z005</td>\n",
       "      <td>1</td>\n",
       "      <td>Boripardhi</td>\n",
       "      <td>super_fast</td>\n",
       "      <td>WASHING</td>\n",
       "      <td>P001</td>\n",
       "      <td>84.0</td>\n",
       "      <td>249.22</td>\n",
       "    </tr>\n",
       "    <tr>\n",
       "      <th>3</th>\n",
       "      <td>100006</td>\n",
       "      <td>Retail</td>\n",
       "      <td>1223.71</td>\n",
       "      <td>0.0</td>\n",
       "      <td>0.0</td>\n",
       "      <td>Paid Service</td>\n",
       "      <td>0.00</td>\n",
       "      <td>1223.71</td>\n",
       "      <td>1</td>\n",
       "      <td>Z006</td>\n",
       "      <td>1</td>\n",
       "      <td>Abohar</td>\n",
       "      <td>mid</td>\n",
       "      <td>TOPUP A/C GAS</td>\n",
       "      <td>P001</td>\n",
       "      <td>288.0</td>\n",
       "      <td>1223.71</td>\n",
       "    </tr>\n",
       "    <tr>\n",
       "      <th>4</th>\n",
       "      <td>100007</td>\n",
       "      <td>Retail</td>\n",
       "      <td>11031.37</td>\n",
       "      <td>0.0</td>\n",
       "      <td>0.0</td>\n",
       "      <td>Paid Service,Running Repairs</td>\n",
       "      <td>35257.27</td>\n",
       "      <td>46288.64</td>\n",
       "      <td>1</td>\n",
       "      <td>Z005</td>\n",
       "      <td>1</td>\n",
       "      <td>Tirupur</td>\n",
       "      <td>Others</td>\n",
       "      <td>BLEEDING CLUTCH, BATTERY, BEARING-CLUTCH RELEA...</td>\n",
       "      <td>P001, P002, P001</td>\n",
       "      <td>478.0</td>\n",
       "      <td>46288.64</td>\n",
       "    </tr>\n",
       "  </tbody>\n",
       "</table>\n",
       "</div>"
      ],
      "text/plain": [
       "  Customer No. Cust Type  Labour Total  Misc Total  OSL Total  \\\n",
       "0       100001    Retail       3429.34         0.0        0.0   \n",
       "1       100003    Retail          0.00         0.0        0.0   \n",
       "2       100004    Retail        249.22         0.0        0.0   \n",
       "3       100006    Retail       1223.71         0.0        0.0   \n",
       "4       100007    Retail      11031.37         0.0        0.0   \n",
       "\n",
       "                     Order Type  Parts Total  Total Amt Wtd Tax.  \\\n",
       "0                        Others       834.41             4263.75   \n",
       "1                    Accidental         0.00                0.00   \n",
       "2               Running Repairs         0.00              249.22   \n",
       "3                  Paid Service         0.00             1223.71   \n",
       "4  Paid Service,Running Repairs     35257.27            46288.64   \n",
       "\n",
       "   Partner Type Data Origin  Title        City ServiceTime_category  \\\n",
       "0             1        Z005      1        Pune               Others   \n",
       "1             1        Z005      1      Shirur           super_fast   \n",
       "2             1        Z005      1  Boripardhi           super_fast   \n",
       "3             1        Z006      1      Abohar                  mid   \n",
       "4             1        Z005      1     Tirupur               Others   \n",
       "\n",
       "                                         Description  \\\n",
       "0  TIE CLIP, ARALDITE (13GM), M - SEAL / BOND TIT...   \n",
       "1                                                nan   \n",
       "2                                            WASHING   \n",
       "3                                      TOPUP A/C GAS   \n",
       "4  BLEEDING CLUTCH, BATTERY, BEARING-CLUTCH RELEA...   \n",
       "\n",
       "                  Item_Category  Order_Quantity  Net_Value  \n",
       "0  P001, P002, P002, P001, P001          1208.2    4263.75  \n",
       "1                          G2TX             0.0       0.00  \n",
       "2                          P001            84.0     249.22  \n",
       "3                          P001           288.0    1223.71  \n",
       "4              P001, P002, P001           478.0   46288.64  "
      ]
     },
     "execution_count": 95,
     "metadata": {},
     "output_type": "execute_result"
    }
   ],
   "source": [
    "invoice_grouped_data.head(5)"
   ]
  },
  {
   "cell_type": "code",
   "execution_count": 96,
   "metadata": {
    "colab": {},
    "colab_type": "code",
    "id": "Wvb9D1AA8yCp"
   },
   "outputs": [],
   "source": [
    "invoice_grouped_data.drop(columns=['Description'], inplace=True)"
   ]
  },
  {
   "cell_type": "code",
   "execution_count": 97,
   "metadata": {
    "colab": {},
    "colab_type": "code",
    "id": "ZaP8d3Ln83BR"
   },
   "outputs": [],
   "source": [
    "most_freq_used_item_categ = ((invoice_grouped_data['Item_Category'].value_counts()/len(invoice_grouped_data['Item_Category']))*100).iloc[0:11].index"
   ]
  },
  {
   "cell_type": "code",
   "execution_count": 98,
   "metadata": {
    "colab": {},
    "colab_type": "code",
    "id": "uf8AnR-L9dJG"
   },
   "outputs": [],
   "source": [
    "invoice_grouped_data['Item_Category'] = invoice_grouped_data['Item_Category'].apply(lambda x: 'Others' if x not in most_freq_used_item_categ else x)"
   ]
  },
  {
   "cell_type": "code",
   "execution_count": 99,
   "metadata": {
    "colab": {
     "base_uri": "https://localhost:8080/",
     "height": 185
    },
    "colab_type": "code",
    "id": "na0PI8RD9oy0",
    "outputId": "4252709f-cba2-45c2-dc07-42e3e97ad631"
   },
   "outputs": [
    {
     "data": {
      "text/html": [
       "<div>\n",
       "<style scoped>\n",
       "    .dataframe tbody tr th:only-of-type {\n",
       "        vertical-align: middle;\n",
       "    }\n",
       "\n",
       "    .dataframe tbody tr th {\n",
       "        vertical-align: top;\n",
       "    }\n",
       "\n",
       "    .dataframe thead th {\n",
       "        text-align: right;\n",
       "    }\n",
       "</style>\n",
       "<table border=\"1\" class=\"dataframe\">\n",
       "  <thead>\n",
       "    <tr style=\"text-align: right;\">\n",
       "      <th></th>\n",
       "      <th>Customer No.</th>\n",
       "      <th>Cust Type</th>\n",
       "      <th>Labour Total</th>\n",
       "      <th>Misc Total</th>\n",
       "      <th>OSL Total</th>\n",
       "      <th>Order Type</th>\n",
       "      <th>Parts Total</th>\n",
       "      <th>Total Amt Wtd Tax.</th>\n",
       "      <th>Partner Type</th>\n",
       "      <th>Data Origin</th>\n",
       "      <th>Title</th>\n",
       "      <th>City</th>\n",
       "      <th>ServiceTime_category</th>\n",
       "      <th>Item_Category</th>\n",
       "      <th>Order_Quantity</th>\n",
       "      <th>Net_Value</th>\n",
       "    </tr>\n",
       "  </thead>\n",
       "  <tbody>\n",
       "    <tr>\n",
       "      <th>0</th>\n",
       "      <td>100001</td>\n",
       "      <td>Retail</td>\n",
       "      <td>3429.34</td>\n",
       "      <td>0.0</td>\n",
       "      <td>0.0</td>\n",
       "      <td>Others</td>\n",
       "      <td>834.41</td>\n",
       "      <td>4263.75</td>\n",
       "      <td>1</td>\n",
       "      <td>Z005</td>\n",
       "      <td>1</td>\n",
       "      <td>Pune</td>\n",
       "      <td>Others</td>\n",
       "      <td>Others</td>\n",
       "      <td>1208.2</td>\n",
       "      <td>4263.75</td>\n",
       "    </tr>\n",
       "    <tr>\n",
       "      <th>1</th>\n",
       "      <td>100003</td>\n",
       "      <td>Retail</td>\n",
       "      <td>0.00</td>\n",
       "      <td>0.0</td>\n",
       "      <td>0.0</td>\n",
       "      <td>Accidental</td>\n",
       "      <td>0.00</td>\n",
       "      <td>0.00</td>\n",
       "      <td>1</td>\n",
       "      <td>Z005</td>\n",
       "      <td>1</td>\n",
       "      <td>Shirur</td>\n",
       "      <td>super_fast</td>\n",
       "      <td>G2TX</td>\n",
       "      <td>0.0</td>\n",
       "      <td>0.00</td>\n",
       "    </tr>\n",
       "    <tr>\n",
       "      <th>2</th>\n",
       "      <td>100004</td>\n",
       "      <td>Retail</td>\n",
       "      <td>249.22</td>\n",
       "      <td>0.0</td>\n",
       "      <td>0.0</td>\n",
       "      <td>Running Repairs</td>\n",
       "      <td>0.00</td>\n",
       "      <td>249.22</td>\n",
       "      <td>1</td>\n",
       "      <td>Z005</td>\n",
       "      <td>1</td>\n",
       "      <td>Boripardhi</td>\n",
       "      <td>super_fast</td>\n",
       "      <td>P001</td>\n",
       "      <td>84.0</td>\n",
       "      <td>249.22</td>\n",
       "    </tr>\n",
       "    <tr>\n",
       "      <th>3</th>\n",
       "      <td>100006</td>\n",
       "      <td>Retail</td>\n",
       "      <td>1223.71</td>\n",
       "      <td>0.0</td>\n",
       "      <td>0.0</td>\n",
       "      <td>Paid Service</td>\n",
       "      <td>0.00</td>\n",
       "      <td>1223.71</td>\n",
       "      <td>1</td>\n",
       "      <td>Z006</td>\n",
       "      <td>1</td>\n",
       "      <td>Abohar</td>\n",
       "      <td>mid</td>\n",
       "      <td>P001</td>\n",
       "      <td>288.0</td>\n",
       "      <td>1223.71</td>\n",
       "    </tr>\n",
       "    <tr>\n",
       "      <th>4</th>\n",
       "      <td>100007</td>\n",
       "      <td>Retail</td>\n",
       "      <td>11031.37</td>\n",
       "      <td>0.0</td>\n",
       "      <td>0.0</td>\n",
       "      <td>Paid Service,Running Repairs</td>\n",
       "      <td>35257.27</td>\n",
       "      <td>46288.64</td>\n",
       "      <td>1</td>\n",
       "      <td>Z005</td>\n",
       "      <td>1</td>\n",
       "      <td>Tirupur</td>\n",
       "      <td>Others</td>\n",
       "      <td>P001, P002, P001</td>\n",
       "      <td>478.0</td>\n",
       "      <td>46288.64</td>\n",
       "    </tr>\n",
       "  </tbody>\n",
       "</table>\n",
       "</div>"
      ],
      "text/plain": [
       "  Customer No. Cust Type  Labour Total  Misc Total  OSL Total  \\\n",
       "0       100001    Retail       3429.34         0.0        0.0   \n",
       "1       100003    Retail          0.00         0.0        0.0   \n",
       "2       100004    Retail        249.22         0.0        0.0   \n",
       "3       100006    Retail       1223.71         0.0        0.0   \n",
       "4       100007    Retail      11031.37         0.0        0.0   \n",
       "\n",
       "                     Order Type  Parts Total  Total Amt Wtd Tax.  \\\n",
       "0                        Others       834.41             4263.75   \n",
       "1                    Accidental         0.00                0.00   \n",
       "2               Running Repairs         0.00              249.22   \n",
       "3                  Paid Service         0.00             1223.71   \n",
       "4  Paid Service,Running Repairs     35257.27            46288.64   \n",
       "\n",
       "   Partner Type Data Origin  Title        City ServiceTime_category  \\\n",
       "0             1        Z005      1        Pune               Others   \n",
       "1             1        Z005      1      Shirur           super_fast   \n",
       "2             1        Z005      1  Boripardhi           super_fast   \n",
       "3             1        Z006      1      Abohar                  mid   \n",
       "4             1        Z005      1     Tirupur               Others   \n",
       "\n",
       "      Item_Category  Order_Quantity  Net_Value  \n",
       "0            Others          1208.2    4263.75  \n",
       "1              G2TX             0.0       0.00  \n",
       "2              P001            84.0     249.22  \n",
       "3              P001           288.0    1223.71  \n",
       "4  P001, P002, P001           478.0   46288.64  "
      ]
     },
     "execution_count": 99,
     "metadata": {},
     "output_type": "execute_result"
    }
   ],
   "source": [
    "invoice_grouped_data.head(5)"
   ]
  },
  {
   "cell_type": "markdown",
   "metadata": {
    "colab_type": "text",
    "id": "PfGb7IaFHWfj"
   },
   "source": [
    "**Apply Label Encoding on cluster data**"
   ]
  },
  {
   "cell_type": "code",
   "execution_count": 100,
   "metadata": {
    "colab": {},
    "colab_type": "code",
    "id": "DVAicCYnHciH"
   },
   "outputs": [],
   "source": [
    "from sklearn.preprocessing import LabelEncoder"
   ]
  },
  {
   "cell_type": "code",
   "execution_count": 101,
   "metadata": {
    "colab": {},
    "colab_type": "code",
    "id": "fX9pDVCdHqeL"
   },
   "outputs": [],
   "source": [
    "le = LabelEncoder()"
   ]
  },
  {
   "cell_type": "code",
   "execution_count": 102,
   "metadata": {
    "colab": {},
    "colab_type": "code",
    "id": "etiult2EH2Ze"
   },
   "outputs": [],
   "source": [
    "invoice_grouped_data_categroical = invoice_grouped_data[['Cust Type', 'Order Type',  'OSL Total', 'City', 'ServiceTime_category']]"
   ]
  },
  {
   "cell_type": "code",
   "execution_count": 103,
   "metadata": {
    "colab": {
     "base_uri": "https://localhost:8080/",
     "height": 204
    },
    "colab_type": "code",
    "id": "QlAJSLrnNIo-",
    "outputId": "5999735d-6b2a-44e1-a5e1-7af19a357936"
   },
   "outputs": [
    {
     "data": {
      "text/html": [
       "<div>\n",
       "<style scoped>\n",
       "    .dataframe tbody tr th:only-of-type {\n",
       "        vertical-align: middle;\n",
       "    }\n",
       "\n",
       "    .dataframe tbody tr th {\n",
       "        vertical-align: top;\n",
       "    }\n",
       "\n",
       "    .dataframe thead th {\n",
       "        text-align: right;\n",
       "    }\n",
       "</style>\n",
       "<table border=\"1\" class=\"dataframe\">\n",
       "  <thead>\n",
       "    <tr style=\"text-align: right;\">\n",
       "      <th></th>\n",
       "      <th>Cust Type</th>\n",
       "      <th>Order Type</th>\n",
       "      <th>OSL Total</th>\n",
       "      <th>City</th>\n",
       "      <th>ServiceTime_category</th>\n",
       "    </tr>\n",
       "  </thead>\n",
       "  <tbody>\n",
       "    <tr>\n",
       "      <th>0</th>\n",
       "      <td>Retail</td>\n",
       "      <td>Others</td>\n",
       "      <td>0.0</td>\n",
       "      <td>Pune</td>\n",
       "      <td>Others</td>\n",
       "    </tr>\n",
       "    <tr>\n",
       "      <th>1</th>\n",
       "      <td>Retail</td>\n",
       "      <td>Accidental</td>\n",
       "      <td>0.0</td>\n",
       "      <td>Shirur</td>\n",
       "      <td>super_fast</td>\n",
       "    </tr>\n",
       "    <tr>\n",
       "      <th>2</th>\n",
       "      <td>Retail</td>\n",
       "      <td>Running Repairs</td>\n",
       "      <td>0.0</td>\n",
       "      <td>Boripardhi</td>\n",
       "      <td>super_fast</td>\n",
       "    </tr>\n",
       "    <tr>\n",
       "      <th>3</th>\n",
       "      <td>Retail</td>\n",
       "      <td>Paid Service</td>\n",
       "      <td>0.0</td>\n",
       "      <td>Abohar</td>\n",
       "      <td>mid</td>\n",
       "    </tr>\n",
       "    <tr>\n",
       "      <th>4</th>\n",
       "      <td>Retail</td>\n",
       "      <td>Paid Service,Running Repairs</td>\n",
       "      <td>0.0</td>\n",
       "      <td>Tirupur</td>\n",
       "      <td>Others</td>\n",
       "    </tr>\n",
       "  </tbody>\n",
       "</table>\n",
       "</div>"
      ],
      "text/plain": [
       "  Cust Type                    Order Type  OSL Total        City  \\\n",
       "0    Retail                        Others        0.0        Pune   \n",
       "1    Retail                    Accidental        0.0      Shirur   \n",
       "2    Retail               Running Repairs        0.0  Boripardhi   \n",
       "3    Retail                  Paid Service        0.0      Abohar   \n",
       "4    Retail  Paid Service,Running Repairs        0.0     Tirupur   \n",
       "\n",
       "  ServiceTime_category  \n",
       "0               Others  \n",
       "1           super_fast  \n",
       "2           super_fast  \n",
       "3                  mid  \n",
       "4               Others  "
      ]
     },
     "execution_count": 103,
     "metadata": {},
     "output_type": "execute_result"
    }
   ],
   "source": [
    "invoice_grouped_data_categroical.head()"
   ]
  },
  {
   "cell_type": "code",
   "execution_count": 104,
   "metadata": {
    "colab": {},
    "colab_type": "code",
    "id": "aPYesXiCHtgj"
   },
   "outputs": [],
   "source": [
    "invoice_grouped_data_encoded = invoice_grouped_data_categroical.apply(le.fit_transform)"
   ]
  },
  {
   "cell_type": "code",
   "execution_count": 105,
   "metadata": {
    "colab": {},
    "colab_type": "code",
    "id": "Vy6s7HC1JfVi"
   },
   "outputs": [],
   "source": [
    "invoice_grouped_data_numerical = invoice_grouped_data[['Labour Total', 'Misc Total', 'Total Amt Wtd Tax.', 'Partner Type', 'Title']]"
   ]
  },
  {
   "cell_type": "code",
   "execution_count": 106,
   "metadata": {
    "colab": {},
    "colab_type": "code",
    "id": "hL4GW8PCNiCl"
   },
   "outputs": [],
   "source": [
    "invoice_grouped_data_numerical = invoice_grouped_data.select_dtypes(include=[np.number])"
   ]
  },
  {
   "cell_type": "code",
   "execution_count": 107,
   "metadata": {
    "colab": {},
    "colab_type": "code",
    "id": "UdgSmAjnJbZA"
   },
   "outputs": [],
   "source": [
    "cluster_data = pd.concat([invoice_grouped_data_encoded,invoice_grouped_data_numerical], axis=1)"
   ]
  },
  {
   "cell_type": "code",
   "execution_count": 108,
   "metadata": {
    "colab": {
     "base_uri": "https://localhost:8080/",
     "height": 221
    },
    "colab_type": "code",
    "id": "t-BkaZXrIiUt",
    "outputId": "ed7748c6-c66c-46d2-a1b4-7d27a7d4f53c"
   },
   "outputs": [
    {
     "data": {
      "text/html": [
       "<div>\n",
       "<style scoped>\n",
       "    .dataframe tbody tr th:only-of-type {\n",
       "        vertical-align: middle;\n",
       "    }\n",
       "\n",
       "    .dataframe tbody tr th {\n",
       "        vertical-align: top;\n",
       "    }\n",
       "\n",
       "    .dataframe thead th {\n",
       "        text-align: right;\n",
       "    }\n",
       "</style>\n",
       "<table border=\"1\" class=\"dataframe\">\n",
       "  <thead>\n",
       "    <tr style=\"text-align: right;\">\n",
       "      <th></th>\n",
       "      <th>Cust Type</th>\n",
       "      <th>Order Type</th>\n",
       "      <th>OSL Total</th>\n",
       "      <th>City</th>\n",
       "      <th>ServiceTime_category</th>\n",
       "      <th>Labour Total</th>\n",
       "      <th>Misc Total</th>\n",
       "      <th>OSL Total</th>\n",
       "      <th>Parts Total</th>\n",
       "      <th>Total Amt Wtd Tax.</th>\n",
       "      <th>Partner Type</th>\n",
       "      <th>Title</th>\n",
       "      <th>Order_Quantity</th>\n",
       "      <th>Net_Value</th>\n",
       "    </tr>\n",
       "  </thead>\n",
       "  <tbody>\n",
       "    <tr>\n",
       "      <th>0</th>\n",
       "      <td>6</td>\n",
       "      <td>1</td>\n",
       "      <td>0</td>\n",
       "      <td>468</td>\n",
       "      <td>0</td>\n",
       "      <td>3429.34</td>\n",
       "      <td>0.0</td>\n",
       "      <td>0.0</td>\n",
       "      <td>834.41</td>\n",
       "      <td>4263.75</td>\n",
       "      <td>1</td>\n",
       "      <td>1</td>\n",
       "      <td>1208.2</td>\n",
       "      <td>4263.75</td>\n",
       "    </tr>\n",
       "    <tr>\n",
       "      <th>1</th>\n",
       "      <td>6</td>\n",
       "      <td>0</td>\n",
       "      <td>0</td>\n",
       "      <td>530</td>\n",
       "      <td>5</td>\n",
       "      <td>0.00</td>\n",
       "      <td>0.0</td>\n",
       "      <td>0.0</td>\n",
       "      <td>0.00</td>\n",
       "      <td>0.00</td>\n",
       "      <td>1</td>\n",
       "      <td>1</td>\n",
       "      <td>0.0</td>\n",
       "      <td>0.00</td>\n",
       "    </tr>\n",
       "    <tr>\n",
       "      <th>2</th>\n",
       "      <td>6</td>\n",
       "      <td>4</td>\n",
       "      <td>0</td>\n",
       "      <td>109</td>\n",
       "      <td>5</td>\n",
       "      <td>249.22</td>\n",
       "      <td>0.0</td>\n",
       "      <td>0.0</td>\n",
       "      <td>0.00</td>\n",
       "      <td>249.22</td>\n",
       "      <td>1</td>\n",
       "      <td>1</td>\n",
       "      <td>84.0</td>\n",
       "      <td>249.22</td>\n",
       "    </tr>\n",
       "    <tr>\n",
       "      <th>3</th>\n",
       "      <td>6</td>\n",
       "      <td>2</td>\n",
       "      <td>0</td>\n",
       "      <td>0</td>\n",
       "      <td>3</td>\n",
       "      <td>1223.71</td>\n",
       "      <td>0.0</td>\n",
       "      <td>0.0</td>\n",
       "      <td>0.00</td>\n",
       "      <td>1223.71</td>\n",
       "      <td>1</td>\n",
       "      <td>1</td>\n",
       "      <td>288.0</td>\n",
       "      <td>1223.71</td>\n",
       "    </tr>\n",
       "    <tr>\n",
       "      <th>4</th>\n",
       "      <td>6</td>\n",
       "      <td>3</td>\n",
       "      <td>0</td>\n",
       "      <td>612</td>\n",
       "      <td>0</td>\n",
       "      <td>11031.37</td>\n",
       "      <td>0.0</td>\n",
       "      <td>0.0</td>\n",
       "      <td>35257.27</td>\n",
       "      <td>46288.64</td>\n",
       "      <td>1</td>\n",
       "      <td>1</td>\n",
       "      <td>478.0</td>\n",
       "      <td>46288.64</td>\n",
       "    </tr>\n",
       "  </tbody>\n",
       "</table>\n",
       "</div>"
      ],
      "text/plain": [
       "   Cust Type  Order Type  OSL Total  City  ServiceTime_category  Labour Total  \\\n",
       "0          6           1          0   468                     0       3429.34   \n",
       "1          6           0          0   530                     5          0.00   \n",
       "2          6           4          0   109                     5        249.22   \n",
       "3          6           2          0     0                     3       1223.71   \n",
       "4          6           3          0   612                     0      11031.37   \n",
       "\n",
       "   Misc Total  OSL Total  Parts Total  Total Amt Wtd Tax.  Partner Type  \\\n",
       "0         0.0        0.0       834.41             4263.75             1   \n",
       "1         0.0        0.0         0.00                0.00             1   \n",
       "2         0.0        0.0         0.00              249.22             1   \n",
       "3         0.0        0.0         0.00             1223.71             1   \n",
       "4         0.0        0.0     35257.27            46288.64             1   \n",
       "\n",
       "   Title  Order_Quantity  Net_Value  \n",
       "0      1          1208.2    4263.75  \n",
       "1      1             0.0       0.00  \n",
       "2      1            84.0     249.22  \n",
       "3      1           288.0    1223.71  \n",
       "4      1           478.0   46288.64  "
      ]
     },
     "execution_count": 108,
     "metadata": {},
     "output_type": "execute_result"
    }
   ],
   "source": [
    "cluster_data.head()"
   ]
  },
  {
   "cell_type": "code",
   "execution_count": 109,
   "metadata": {
    "colab": {
     "base_uri": "https://localhost:8080/",
     "height": 34
    },
    "colab_type": "code",
    "id": "bGTNdsaCJqj8",
    "outputId": "e7c2972d-cf6b-4e02-b54e-fcc8217f599c"
   },
   "outputs": [
    {
     "data": {
      "text/plain": [
       "(153785, 14)"
      ]
     },
     "execution_count": 109,
     "metadata": {},
     "output_type": "execute_result"
    }
   ],
   "source": [
    "cluster_data.shape"
   ]
  },
  {
   "cell_type": "markdown",
   "metadata": {
    "colab_type": "text",
    "id": "daOdM5BV_AVs"
   },
   "source": [
    "## Apply Clustering Algorthims"
   ]
  },
  {
   "cell_type": "code",
   "execution_count": 110,
   "metadata": {
    "colab": {},
    "colab_type": "code",
    "id": "l48hKfdB-_YT"
   },
   "outputs": [],
   "source": [
    "from sklearn.cluster import KMeans"
   ]
  },
  {
   "cell_type": "code",
   "execution_count": 111,
   "metadata": {
    "colab": {},
    "colab_type": "code",
    "id": "rwlzzHBqLCZ6"
   },
   "outputs": [],
   "source": [
    "dist=[]\n",
    "# Iterate from 1-9\n",
    "for i in range(1, 10):\n",
    "    # Initialize KMeans algorithm\n",
    "    km = KMeans(n_clusters=i, init='k-means++', n_init=10, max_iter=300, random_state=0)\n",
    "    # Fit on data\n",
    "    km.fit(cluster_data)\n",
    "    # Append WCSS to list storing WCSS\n",
    "    dist.append(km.inertia_)"
   ]
  },
  {
   "cell_type": "code",
   "execution_count": 112,
   "metadata": {
    "colab": {},
    "colab_type": "code",
    "id": "VYdA3IaRNxDw"
   },
   "outputs": [],
   "source": [
    "import matplotlib.pyplot as plt"
   ]
  },
  {
   "cell_type": "code",
   "execution_count": 113,
   "metadata": {
    "colab": {
     "base_uri": "https://localhost:8080/",
     "height": 276
    },
    "colab_type": "code",
    "id": "jOU0wmqUNo1s",
    "outputId": "b86c641d-bb39-43de-8a40-66fa6e6dea16"
   },
   "outputs": [
    {
     "data": {
      "image/png": "[encoded data removed]",
      "text/plain": [
       "<Figure size 432x288 with 1 Axes>"
      ]
     },
     "metadata": {
      "needs_background": "light"
     },
     "output_type": "display_data"
    }
   ],
   "source": [
    "# Line plot # clusters on X-axis and WCSS on Y-axis \n",
    "plt.plot(range(1, 10), dist, 'bo-')\n",
    "plt.xlabel('Number of clusters')\n",
    "plt.ylabel('Distortion')\n",
    "plt.show()"
   ]
  },
  {
   "cell_type": "code",
   "execution_count": 114,
   "metadata": {
    "colab": {},
    "colab_type": "code",
    "id": "jQO3DzC4PJM3"
   },
   "outputs": [],
   "source": [
    "cluster  = KMeans(n_clusters=5, init='k-means++', max_iter=300, n_init=10, random_state=0)\n",
    "# create 'cluster' column\n",
    "cluster_data['Cluster'] = cluster.fit_predict(cluster_data)"
   ]
  },
  {
   "cell_type": "code",
   "execution_count": 115,
   "metadata": {
    "colab": {},
    "colab_type": "code",
    "id": "kzZHIJI4P1wD"
   },
   "outputs": [],
   "source": [
    "# Cluster centers\n",
    "centroids = cluster.cluster_centers_"
   ]
  },
  {
   "cell_type": "code",
   "execution_count": 116,
   "metadata": {
    "colab": {},
    "colab_type": "code",
    "id": "wnutvCjuP-SU"
   },
   "outputs": [],
   "source": [
    "# Within cluster sum of squares\n",
    "wcss = km.inertia_"
   ]
  },
  {
   "cell_type": "code",
   "execution_count": 117,
   "metadata": {
    "colab": {
     "base_uri": "https://localhost:8080/",
     "height": 357
    },
    "colab_type": "code",
    "id": "mHwkeFRSP_Z8",
    "outputId": "cebb6dad-92ae-400d-9a48-27113c8fdbb1"
   },
   "outputs": [
    {
     "data": {
      "text/plain": [
       "array([[5.99981079e+00, 2.93026962e+00, 5.25296074e+01, 3.29695033e+02,\n",
       "        4.97318342e+00, 1.29280515e+03, 1.74544943e+02, 6.81395588e+01,\n",
       "        1.51008767e+03, 3.04557732e+03, 1.00000000e+00, 1.00000000e+00,\n",
       "        2.35624656e+02, 3.06870624e+03],\n",
       "       [5.95000000e+00, 7.62500000e-01, 1.25139375e+03, 2.71106250e+02,\n",
       "        6.00625000e+00, 7.21223099e+04, 1.06867459e+04, 1.06441803e+04,\n",
       "        2.21509300e+05, 3.14962536e+05, 1.00000000e+00, 1.00000000e+00,\n",
       "        1.40772054e+04, 3.61110499e+05],\n",
       "       [5.99873799e+00, 1.67208862e+00, 5.02753698e+02, 3.06620627e+02,\n",
       "        5.62567482e+00, 1.15518334e+04, 1.21412996e+03, 1.11501242e+03,\n",
       "        1.60465059e+04, 2.99274817e+04, 1.00000000e+00, 1.00000000e+00,\n",
       "        2.30296147e+03, 3.01526022e+04],\n",
       "       [4.57142857e+00, 8.57142857e-01, 1.53842857e+03, 1.77285714e+02,\n",
       "        1.42857143e+00, 4.70514554e+05, 1.01275394e+05, 1.35488614e+05,\n",
       "        5.17366874e+05, 1.22464544e+06, 1.00000000e+00, 1.00000000e+00,\n",
       "        1.56787236e+05, 1.64589885e+06],\n",
       "       [6.00154639e+00, 1.04587629e+00, 1.11491031e+03, 2.93287629e+02,\n",
       "        6.10412371e+00, 3.26922075e+04, 3.30102421e+03, 4.99542571e+03,\n",
       "        6.01177545e+04, 1.01106412e+05, 1.00000000e+00, 1.00000000e+00,\n",
       "        5.99330572e+03, 1.03394959e+05]])"
      ]
     },
     "execution_count": 117,
     "metadata": {},
     "output_type": "execute_result"
    }
   ],
   "source": [
    "centroids"
   ]
  },
  {
   "cell_type": "code",
   "execution_count": 118,
   "metadata": {
    "colab": {
     "base_uri": "https://localhost:8080/",
     "height": 34
    },
    "colab_type": "code",
    "id": "-5wT9alhQCg6",
    "outputId": "b9e14da0-9630-4726-a32b-186f7ce82ac5"
   },
   "outputs": [
    {
     "data": {
      "text/plain": [
       "22089915166233.8"
      ]
     },
     "execution_count": 118,
     "metadata": {},
     "output_type": "execute_result"
    }
   ],
   "source": [
    "wcss"
   ]
  },
  {
   "cell_type": "code",
   "execution_count": 119,
   "metadata": {},
   "outputs": [
    {
     "data": {
      "text/html": [
       "<div>\n",
       "<style scoped>\n",
       "    .dataframe tbody tr th:only-of-type {\n",
       "        vertical-align: middle;\n",
       "    }\n",
       "\n",
       "    .dataframe tbody tr th {\n",
       "        vertical-align: top;\n",
       "    }\n",
       "\n",
       "    .dataframe thead th {\n",
       "        text-align: right;\n",
       "    }\n",
       "</style>\n",
       "<table border=\"1\" class=\"dataframe\">\n",
       "  <thead>\n",
       "    <tr style=\"text-align: right;\">\n",
       "      <th></th>\n",
       "      <th>Cust Type</th>\n",
       "      <th>Order Type</th>\n",
       "      <th>OSL Total</th>\n",
       "      <th>City</th>\n",
       "      <th>ServiceTime_category</th>\n",
       "      <th>Labour Total</th>\n",
       "      <th>Misc Total</th>\n",
       "      <th>OSL Total</th>\n",
       "      <th>Parts Total</th>\n",
       "      <th>Total Amt Wtd Tax.</th>\n",
       "      <th>Partner Type</th>\n",
       "      <th>Title</th>\n",
       "      <th>Order_Quantity</th>\n",
       "      <th>Net_Value</th>\n",
       "      <th>Cluster</th>\n",
       "    </tr>\n",
       "  </thead>\n",
       "  <tbody>\n",
       "    <tr>\n",
       "      <th>0</th>\n",
       "      <td>6</td>\n",
       "      <td>1</td>\n",
       "      <td>0</td>\n",
       "      <td>468</td>\n",
       "      <td>0</td>\n",
       "      <td>3429.34</td>\n",
       "      <td>0.00</td>\n",
       "      <td>0.00</td>\n",
       "      <td>834.41</td>\n",
       "      <td>4263.75</td>\n",
       "      <td>1</td>\n",
       "      <td>1</td>\n",
       "      <td>1208.2</td>\n",
       "      <td>4263.75</td>\n",
       "      <td>0</td>\n",
       "    </tr>\n",
       "    <tr>\n",
       "      <th>1</th>\n",
       "      <td>6</td>\n",
       "      <td>0</td>\n",
       "      <td>0</td>\n",
       "      <td>530</td>\n",
       "      <td>5</td>\n",
       "      <td>0.00</td>\n",
       "      <td>0.00</td>\n",
       "      <td>0.00</td>\n",
       "      <td>0.00</td>\n",
       "      <td>0.00</td>\n",
       "      <td>1</td>\n",
       "      <td>1</td>\n",
       "      <td>0.0</td>\n",
       "      <td>0.00</td>\n",
       "      <td>0</td>\n",
       "    </tr>\n",
       "    <tr>\n",
       "      <th>2</th>\n",
       "      <td>6</td>\n",
       "      <td>4</td>\n",
       "      <td>0</td>\n",
       "      <td>109</td>\n",
       "      <td>5</td>\n",
       "      <td>249.22</td>\n",
       "      <td>0.00</td>\n",
       "      <td>0.00</td>\n",
       "      <td>0.00</td>\n",
       "      <td>249.22</td>\n",
       "      <td>1</td>\n",
       "      <td>1</td>\n",
       "      <td>84.0</td>\n",
       "      <td>249.22</td>\n",
       "      <td>0</td>\n",
       "    </tr>\n",
       "    <tr>\n",
       "      <th>3</th>\n",
       "      <td>6</td>\n",
       "      <td>2</td>\n",
       "      <td>0</td>\n",
       "      <td>0</td>\n",
       "      <td>3</td>\n",
       "      <td>1223.71</td>\n",
       "      <td>0.00</td>\n",
       "      <td>0.00</td>\n",
       "      <td>0.00</td>\n",
       "      <td>1223.71</td>\n",
       "      <td>1</td>\n",
       "      <td>1</td>\n",
       "      <td>288.0</td>\n",
       "      <td>1223.71</td>\n",
       "      <td>0</td>\n",
       "    </tr>\n",
       "    <tr>\n",
       "      <th>4</th>\n",
       "      <td>6</td>\n",
       "      <td>3</td>\n",
       "      <td>0</td>\n",
       "      <td>612</td>\n",
       "      <td>0</td>\n",
       "      <td>11031.37</td>\n",
       "      <td>0.00</td>\n",
       "      <td>0.00</td>\n",
       "      <td>35257.27</td>\n",
       "      <td>46288.64</td>\n",
       "      <td>1</td>\n",
       "      <td>1</td>\n",
       "      <td>478.0</td>\n",
       "      <td>46288.64</td>\n",
       "      <td>2</td>\n",
       "    </tr>\n",
       "    <tr>\n",
       "      <th>5</th>\n",
       "      <td>6</td>\n",
       "      <td>3</td>\n",
       "      <td>0</td>\n",
       "      <td>650</td>\n",
       "      <td>11</td>\n",
       "      <td>0.00</td>\n",
       "      <td>907.93</td>\n",
       "      <td>0.00</td>\n",
       "      <td>3532.61</td>\n",
       "      <td>4440.54</td>\n",
       "      <td>1</td>\n",
       "      <td>1</td>\n",
       "      <td>10.0</td>\n",
       "      <td>4440.54</td>\n",
       "      <td>0</td>\n",
       "    </tr>\n",
       "    <tr>\n",
       "      <th>6</th>\n",
       "      <td>6</td>\n",
       "      <td>4</td>\n",
       "      <td>0</td>\n",
       "      <td>553</td>\n",
       "      <td>5</td>\n",
       "      <td>199.40</td>\n",
       "      <td>0.00</td>\n",
       "      <td>0.00</td>\n",
       "      <td>0.00</td>\n",
       "      <td>199.40</td>\n",
       "      <td>1</td>\n",
       "      <td>1</td>\n",
       "      <td>15.0</td>\n",
       "      <td>199.40</td>\n",
       "      <td>0</td>\n",
       "    </tr>\n",
       "    <tr>\n",
       "      <th>7</th>\n",
       "      <td>6</td>\n",
       "      <td>0</td>\n",
       "      <td>2778</td>\n",
       "      <td>347</td>\n",
       "      <td>8</td>\n",
       "      <td>0.00</td>\n",
       "      <td>50.00</td>\n",
       "      <td>2950.28</td>\n",
       "      <td>0.00</td>\n",
       "      <td>3000.28</td>\n",
       "      <td>1</td>\n",
       "      <td>1</td>\n",
       "      <td>2.0</td>\n",
       "      <td>3000.28</td>\n",
       "      <td>0</td>\n",
       "    </tr>\n",
       "    <tr>\n",
       "      <th>8</th>\n",
       "      <td>6</td>\n",
       "      <td>4</td>\n",
       "      <td>0</td>\n",
       "      <td>530</td>\n",
       "      <td>5</td>\n",
       "      <td>310.56</td>\n",
       "      <td>0.00</td>\n",
       "      <td>0.00</td>\n",
       "      <td>0.00</td>\n",
       "      <td>310.56</td>\n",
       "      <td>1</td>\n",
       "      <td>1</td>\n",
       "      <td>30.0</td>\n",
       "      <td>310.56</td>\n",
       "      <td>0</td>\n",
       "    </tr>\n",
       "    <tr>\n",
       "      <th>9</th>\n",
       "      <td>6</td>\n",
       "      <td>3</td>\n",
       "      <td>0</td>\n",
       "      <td>43</td>\n",
       "      <td>11</td>\n",
       "      <td>14632.54</td>\n",
       "      <td>0.00</td>\n",
       "      <td>0.00</td>\n",
       "      <td>0.00</td>\n",
       "      <td>14632.54</td>\n",
       "      <td>1</td>\n",
       "      <td>1</td>\n",
       "      <td>528.0</td>\n",
       "      <td>14632.54</td>\n",
       "      <td>0</td>\n",
       "    </tr>\n",
       "  </tbody>\n",
       "</table>\n",
       "</div>"
      ],
      "text/plain": [
       "   Cust Type  Order Type  OSL Total  City  ServiceTime_category  Labour Total  \\\n",
       "0          6           1          0   468                     0       3429.34   \n",
       "1          6           0          0   530                     5          0.00   \n",
       "2          6           4          0   109                     5        249.22   \n",
       "3          6           2          0     0                     3       1223.71   \n",
       "4          6           3          0   612                     0      11031.37   \n",
       "5          6           3          0   650                    11          0.00   \n",
       "6          6           4          0   553                     5        199.40   \n",
       "7          6           0       2778   347                     8          0.00   \n",
       "8          6           4          0   530                     5        310.56   \n",
       "9          6           3          0    43                    11      14632.54   \n",
       "\n",
       "   Misc Total  OSL Total  Parts Total  Total Amt Wtd Tax.  Partner Type  \\\n",
       "0        0.00       0.00       834.41             4263.75             1   \n",
       "1        0.00       0.00         0.00                0.00             1   \n",
       "2        0.00       0.00         0.00              249.22             1   \n",
       "3        0.00       0.00         0.00             1223.71             1   \n",
       "4        0.00       0.00     35257.27            46288.64             1   \n",
       "5      907.93       0.00      3532.61             4440.54             1   \n",
       "6        0.00       0.00         0.00              199.40             1   \n",
       "7       50.00    2950.28         0.00             3000.28             1   \n",
       "8        0.00       0.00         0.00              310.56             1   \n",
       "9        0.00       0.00         0.00            14632.54             1   \n",
       "\n",
       "   Title  Order_Quantity  Net_Value  Cluster  \n",
       "0      1          1208.2    4263.75        0  \n",
       "1      1             0.0       0.00        0  \n",
       "2      1            84.0     249.22        0  \n",
       "3      1           288.0    1223.71        0  \n",
       "4      1           478.0   46288.64        2  \n",
       "5      1            10.0    4440.54        0  \n",
       "6      1            15.0     199.40        0  \n",
       "7      1             2.0    3000.28        0  \n",
       "8      1            30.0     310.56        0  \n",
       "9      1           528.0   14632.54        0  "
      ]
     },
     "execution_count": 119,
     "metadata": {},
     "output_type": "execute_result"
    }
   ],
   "source": [
    "cluster_data.head(10)"
   ]
  },
  {
   "cell_type": "code",
   "execution_count": 120,
   "metadata": {},
   "outputs": [
    {
     "data": {
      "image/png": "[encoded data removed]",
      "text/plain": [
       "<Figure size 1440x720 with 1 Axes>"
      ]
     },
     "metadata": {
      "needs_background": "light"
     },
     "output_type": "display_data"
    }
   ],
   "source": [
    "plt.figure(figsize=(20,10))\n",
    "plt.scatter(cluster_data.index, cluster_data.iloc[:, 13], c=cluster_data['Cluster'], s=50, cmap='viridis')\n",
    "plt.show()"
   ]
  },
  {
   "cell_type": "code",
   "execution_count": null,
   "metadata": {},
   "outputs": [],
   "source": []
  }
 ],
 "metadata": {
  "colab": {
   "collapsed_sections": [
    "RP-Ew7HwbmCa",
    "xVqML_yzdr1o",
    "_SjzdmPwoaq4",
    "daOdM5BV_AVs"
   ],
   "include_colab_link": true,
   "name": "Capstone_Mahindra_First_Choice.ipynb",
   "provenance": [],
   "version": "0.3.2"
  },
  "kernelspec": {
   "display_name": "Python 3",
   "language": "python",
   "name": "python3"
  },
  "language_info": {
   "codemirror_mode": {
    "name": "ipython",
    "version": 3
   },
   "file_extension": ".py",
   "mimetype": "text/x-python",
   "name": "python",
   "nbconvert_exporter": "python",
   "pygments_lexer": "ipython3",
   "version": "3.8.3"
  }
 },
 "nbformat": 4,
 "nbformat_minor": 1
}
